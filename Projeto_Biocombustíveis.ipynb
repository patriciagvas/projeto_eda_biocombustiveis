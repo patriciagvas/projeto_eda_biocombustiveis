{
  "nbformat": 4,
  "nbformat_minor": 0,
  "metadata": {
    "colab": {
      "provenance": [],
      "mount_file_id": "1iUyYYN0-CDu0YuxKqV_3l638gbD_vcWA",
      "authorship_tag": "ABX9TyOBJxsjTiujhit/pBsUeVjY",
      "include_colab_link": true
    },
    "kernelspec": {
      "name": "python3",
      "display_name": "Python 3"
    },
    "language_info": {
      "name": "python"
    }
  },
  "cells": [
    {
      "cell_type": "markdown",
      "metadata": {
        "id": "view-in-github",
        "colab_type": "text"
      },
      "source": [
        "<a href=\"https://colab.research.google.com/github/patriciagvas/projeto_eda_biocombustiveis/blob/main/Projeto_Biocombust%C3%ADveis.ipynb\" target=\"_parent\"><img src=\"https://colab.research.google.com/assets/colab-badge.svg\" alt=\"Open In Colab\"/></a>"
      ]
    },
    {
      "cell_type": "markdown",
      "source": [
        "OS códigos presentes neste colab foram reproduzidos a partir do projeto original 16_Biofuel Production Analysis de Mehmet Isik que está disponível no site Kaggle. Esta reprodução tem como objetivo apenas o aprendizado de técnicas de análises estatísticas e plotagem de gráficos com matplotlib, seaborn, bem como a limpeza de dados com Pandas.\n",
        "Todos os créditos dos códigos são do autor original.\n",
        "Link do projeto: https://www.kaggle.com/code/mehmetisik/16-biofuel-production-analysis"
      ],
      "metadata": {
        "id": "otzJNFfvCRpz"
      }
    },
    {
      "cell_type": "markdown",
      "source": [
        "**<h1>Introdução:<h1>**"
      ],
      "metadata": {
        "id": "_wKHR4Go04u2"
      }
    },
    {
      "cell_type": "markdown",
      "source": [
        "Os biocombustíveis são definidos como qualquer combustível derivado e produzido a partir de material orgânico, como plantas e seus resíduos, culturas agrícolas e seus subprodutos.\n",
        "\n",
        "Recentemente, os biocombustíveis ganharam destque significativo no cenário mundial devido às reservas limitadas de petróleo, segurança energética e crescentes preocupações ambientais devido às crescentes mudanças climáticas e emissões de gases de efeito estufa.\n",
        "\n",
        "\n",
        "Neste contetxo o presente projeto tem como objetivo analisar a produção de biocombustíveis nas últimas décadas a fim de obter insights e visualizar padrões que possibilitem uma melhor compreensão da produção mundial e regional de biocombustíveis, bem como a tomar decisões de investimento.\n",
        "\n"
      ],
      "metadata": {
        "id": "TCjE_J8zzGvl"
      }
    },
    {
      "cell_type": "markdown",
      "source": [
        "**<h1>Dataset:<h1>**\n",
        "\n",
        "O Dataset apresenta um conjunto de dados sobre a produção de biocombustíveis em escala mundial, desde 1990 a 2021, ou seja, um panorama dessa produção desde o início do setor inudstrial de energia renovável.\n",
        "\n",
        "Os dados são organizados em colunas como:\n",
        "\n",
        "**Entidade:** representa o país ou grupo, oferecendo uma visão panorâmica dos dados de produção de biocombustíveis em escala regional e mundial;\n",
        "\n",
        "**Ano:** indica a dimensão temporal dos dados, sendo crucial para compreender a trajetória da produção de biocombustíveis ao longo do tempo;\n",
        "\n",
        "**Produção de biocombustíveis - TWh - Total:** apresenta o volume de produção de biocombustíveis de cada entidade, atuando como um indicador do compromisso com a energia renovável.\n",
        "\n",
        "\n",
        "O Dataset utilizado neste projeto foi obtido no site Kaggle."
      ],
      "metadata": {
        "id": "hHzbXJqG0--D"
      }
    },
    {
      "cell_type": "markdown",
      "source": [
        "**Importação de Bibliotecas**"
      ],
      "metadata": {
        "id": "ebReXons2cAt"
      }
    },
    {
      "cell_type": "code",
      "execution_count": null,
      "metadata": {
        "id": "vLB7TgJfy3d1"
      },
      "outputs": [],
      "source": [
        "import numpy as np\n",
        "import pandas as pd\n",
        "import datetime as dt\n",
        "import matplotlib.pyplot as plt\n",
        "import seaborn as sns\n",
        "import folium\n",
        "import geopandas as gpd\n",
        "import matplotlib.colors as mcolors\n",
        "import matplotlib.ticker as ticker\n",
        "import plotly.express as px\n",
        "import plotly.graph_objects as go\n",
        "import datetime\n",
        "from sklearn.cluster import KMeans\n",
        "from matplotlib.font_manager import FontProperties\n",
        "from IPython.display import HTML as html_print\n",
        "from termcolor import colored\n",
        "from scipy import stats\n",
        "import warnings\n",
        "warnings.filterwarnings('ignore', category=FutureWarning)"
      ]
    },
    {
      "cell_type": "markdown",
      "source": [
        "**Importar Dataset**"
      ],
      "metadata": {
        "id": "OgoP2Eq_6HjV"
      }
    },
    {
      "cell_type": "code",
      "source": [
        "df = pd.read_csv('/content/drive/MyDrive/Colab Notebooks/Datasets - projetos/16 biofuel-production.csv')\n",
        "df.head(5)"
      ],
      "metadata": {
        "colab": {
          "base_uri": "https://localhost:8080/",
          "height": 206
        },
        "id": "o9T8UXun6HEf",
        "outputId": "ce789d17-c62c-4c45-ff4f-488ee49b396e"
      },
      "execution_count": null,
      "outputs": [
        {
          "output_type": "execute_result",
          "data": {
            "text/plain": [
              "        Entity Code  Year  Biofuels Production - TWh - Total\n",
              "0  Africa (BP)  NaN  1990                           0.068617\n",
              "1  Africa (BP)  NaN  1991                           0.068617\n",
              "2  Africa (BP)  NaN  1992                           0.068805\n",
              "3  Africa (BP)  NaN  1993                           0.068617\n",
              "4  Africa (BP)  NaN  1994                           0.068617"
            ],
            "text/html": [
              "\n",
              "  <div id=\"df-e4b41bd7-ce6e-47e5-9563-e2166891d0d5\" class=\"colab-df-container\">\n",
              "    <div>\n",
              "<style scoped>\n",
              "    .dataframe tbody tr th:only-of-type {\n",
              "        vertical-align: middle;\n",
              "    }\n",
              "\n",
              "    .dataframe tbody tr th {\n",
              "        vertical-align: top;\n",
              "    }\n",
              "\n",
              "    .dataframe thead th {\n",
              "        text-align: right;\n",
              "    }\n",
              "</style>\n",
              "<table border=\"1\" class=\"dataframe\">\n",
              "  <thead>\n",
              "    <tr style=\"text-align: right;\">\n",
              "      <th></th>\n",
              "      <th>Entity</th>\n",
              "      <th>Code</th>\n",
              "      <th>Year</th>\n",
              "      <th>Biofuels Production - TWh - Total</th>\n",
              "    </tr>\n",
              "  </thead>\n",
              "  <tbody>\n",
              "    <tr>\n",
              "      <th>0</th>\n",
              "      <td>Africa (BP)</td>\n",
              "      <td>NaN</td>\n",
              "      <td>1990</td>\n",
              "      <td>0.068617</td>\n",
              "    </tr>\n",
              "    <tr>\n",
              "      <th>1</th>\n",
              "      <td>Africa (BP)</td>\n",
              "      <td>NaN</td>\n",
              "      <td>1991</td>\n",
              "      <td>0.068617</td>\n",
              "    </tr>\n",
              "    <tr>\n",
              "      <th>2</th>\n",
              "      <td>Africa (BP)</td>\n",
              "      <td>NaN</td>\n",
              "      <td>1992</td>\n",
              "      <td>0.068805</td>\n",
              "    </tr>\n",
              "    <tr>\n",
              "      <th>3</th>\n",
              "      <td>Africa (BP)</td>\n",
              "      <td>NaN</td>\n",
              "      <td>1993</td>\n",
              "      <td>0.068617</td>\n",
              "    </tr>\n",
              "    <tr>\n",
              "      <th>4</th>\n",
              "      <td>Africa (BP)</td>\n",
              "      <td>NaN</td>\n",
              "      <td>1994</td>\n",
              "      <td>0.068617</td>\n",
              "    </tr>\n",
              "  </tbody>\n",
              "</table>\n",
              "</div>\n",
              "    <div class=\"colab-df-buttons\">\n",
              "\n",
              "  <div class=\"colab-df-container\">\n",
              "    <button class=\"colab-df-convert\" onclick=\"convertToInteractive('df-e4b41bd7-ce6e-47e5-9563-e2166891d0d5')\"\n",
              "            title=\"Convert this dataframe to an interactive table.\"\n",
              "            style=\"display:none;\">\n",
              "\n",
              "  <svg xmlns=\"http://www.w3.org/2000/svg\" height=\"24px\" viewBox=\"0 -960 960 960\">\n",
              "    <path d=\"M120-120v-720h720v720H120Zm60-500h600v-160H180v160Zm220 220h160v-160H400v160Zm0 220h160v-160H400v160ZM180-400h160v-160H180v160Zm440 0h160v-160H620v160ZM180-180h160v-160H180v160Zm440 0h160v-160H620v160Z\"/>\n",
              "  </svg>\n",
              "    </button>\n",
              "\n",
              "  <style>\n",
              "    .colab-df-container {\n",
              "      display:flex;\n",
              "      gap: 12px;\n",
              "    }\n",
              "\n",
              "    .colab-df-convert {\n",
              "      background-color: #E8F0FE;\n",
              "      border: none;\n",
              "      border-radius: 50%;\n",
              "      cursor: pointer;\n",
              "      display: none;\n",
              "      fill: #1967D2;\n",
              "      height: 32px;\n",
              "      padding: 0 0 0 0;\n",
              "      width: 32px;\n",
              "    }\n",
              "\n",
              "    .colab-df-convert:hover {\n",
              "      background-color: #E2EBFA;\n",
              "      box-shadow: 0px 1px 2px rgba(60, 64, 67, 0.3), 0px 1px 3px 1px rgba(60, 64, 67, 0.15);\n",
              "      fill: #174EA6;\n",
              "    }\n",
              "\n",
              "    .colab-df-buttons div {\n",
              "      margin-bottom: 4px;\n",
              "    }\n",
              "\n",
              "    [theme=dark] .colab-df-convert {\n",
              "      background-color: #3B4455;\n",
              "      fill: #D2E3FC;\n",
              "    }\n",
              "\n",
              "    [theme=dark] .colab-df-convert:hover {\n",
              "      background-color: #434B5C;\n",
              "      box-shadow: 0px 1px 3px 1px rgba(0, 0, 0, 0.15);\n",
              "      filter: drop-shadow(0px 1px 2px rgba(0, 0, 0, 0.3));\n",
              "      fill: #FFFFFF;\n",
              "    }\n",
              "  </style>\n",
              "\n",
              "    <script>\n",
              "      const buttonEl =\n",
              "        document.querySelector('#df-e4b41bd7-ce6e-47e5-9563-e2166891d0d5 button.colab-df-convert');\n",
              "      buttonEl.style.display =\n",
              "        google.colab.kernel.accessAllowed ? 'block' : 'none';\n",
              "\n",
              "      async function convertToInteractive(key) {\n",
              "        const element = document.querySelector('#df-e4b41bd7-ce6e-47e5-9563-e2166891d0d5');\n",
              "        const dataTable =\n",
              "          await google.colab.kernel.invokeFunction('convertToInteractive',\n",
              "                                                    [key], {});\n",
              "        if (!dataTable) return;\n",
              "\n",
              "        const docLinkHtml = 'Like what you see? Visit the ' +\n",
              "          '<a target=\"_blank\" href=https://colab.research.google.com/notebooks/data_table.ipynb>data table notebook</a>'\n",
              "          + ' to learn more about interactive tables.';\n",
              "        element.innerHTML = '';\n",
              "        dataTable['output_type'] = 'display_data';\n",
              "        await google.colab.output.renderOutput(dataTable, element);\n",
              "        const docLink = document.createElement('div');\n",
              "        docLink.innerHTML = docLinkHtml;\n",
              "        element.appendChild(docLink);\n",
              "      }\n",
              "    </script>\n",
              "  </div>\n",
              "\n",
              "\n",
              "<div id=\"df-3e00442d-773e-4321-b5f9-47936a1616f3\">\n",
              "  <button class=\"colab-df-quickchart\" onclick=\"quickchart('df-3e00442d-773e-4321-b5f9-47936a1616f3')\"\n",
              "            title=\"Suggest charts\"\n",
              "            style=\"display:none;\">\n",
              "\n",
              "<svg xmlns=\"http://www.w3.org/2000/svg\" height=\"24px\"viewBox=\"0 0 24 24\"\n",
              "     width=\"24px\">\n",
              "    <g>\n",
              "        <path d=\"M19 3H5c-1.1 0-2 .9-2 2v14c0 1.1.9 2 2 2h14c1.1 0 2-.9 2-2V5c0-1.1-.9-2-2-2zM9 17H7v-7h2v7zm4 0h-2V7h2v10zm4 0h-2v-4h2v4z\"/>\n",
              "    </g>\n",
              "</svg>\n",
              "  </button>\n",
              "\n",
              "<style>\n",
              "  .colab-df-quickchart {\n",
              "      --bg-color: #E8F0FE;\n",
              "      --fill-color: #1967D2;\n",
              "      --hover-bg-color: #E2EBFA;\n",
              "      --hover-fill-color: #174EA6;\n",
              "      --disabled-fill-color: #AAA;\n",
              "      --disabled-bg-color: #DDD;\n",
              "  }\n",
              "\n",
              "  [theme=dark] .colab-df-quickchart {\n",
              "      --bg-color: #3B4455;\n",
              "      --fill-color: #D2E3FC;\n",
              "      --hover-bg-color: #434B5C;\n",
              "      --hover-fill-color: #FFFFFF;\n",
              "      --disabled-bg-color: #3B4455;\n",
              "      --disabled-fill-color: #666;\n",
              "  }\n",
              "\n",
              "  .colab-df-quickchart {\n",
              "    background-color: var(--bg-color);\n",
              "    border: none;\n",
              "    border-radius: 50%;\n",
              "    cursor: pointer;\n",
              "    display: none;\n",
              "    fill: var(--fill-color);\n",
              "    height: 32px;\n",
              "    padding: 0;\n",
              "    width: 32px;\n",
              "  }\n",
              "\n",
              "  .colab-df-quickchart:hover {\n",
              "    background-color: var(--hover-bg-color);\n",
              "    box-shadow: 0 1px 2px rgba(60, 64, 67, 0.3), 0 1px 3px 1px rgba(60, 64, 67, 0.15);\n",
              "    fill: var(--button-hover-fill-color);\n",
              "  }\n",
              "\n",
              "  .colab-df-quickchart-complete:disabled,\n",
              "  .colab-df-quickchart-complete:disabled:hover {\n",
              "    background-color: var(--disabled-bg-color);\n",
              "    fill: var(--disabled-fill-color);\n",
              "    box-shadow: none;\n",
              "  }\n",
              "\n",
              "  .colab-df-spinner {\n",
              "    border: 2px solid var(--fill-color);\n",
              "    border-color: transparent;\n",
              "    border-bottom-color: var(--fill-color);\n",
              "    animation:\n",
              "      spin 1s steps(1) infinite;\n",
              "  }\n",
              "\n",
              "  @keyframes spin {\n",
              "    0% {\n",
              "      border-color: transparent;\n",
              "      border-bottom-color: var(--fill-color);\n",
              "      border-left-color: var(--fill-color);\n",
              "    }\n",
              "    20% {\n",
              "      border-color: transparent;\n",
              "      border-left-color: var(--fill-color);\n",
              "      border-top-color: var(--fill-color);\n",
              "    }\n",
              "    30% {\n",
              "      border-color: transparent;\n",
              "      border-left-color: var(--fill-color);\n",
              "      border-top-color: var(--fill-color);\n",
              "      border-right-color: var(--fill-color);\n",
              "    }\n",
              "    40% {\n",
              "      border-color: transparent;\n",
              "      border-right-color: var(--fill-color);\n",
              "      border-top-color: var(--fill-color);\n",
              "    }\n",
              "    60% {\n",
              "      border-color: transparent;\n",
              "      border-right-color: var(--fill-color);\n",
              "    }\n",
              "    80% {\n",
              "      border-color: transparent;\n",
              "      border-right-color: var(--fill-color);\n",
              "      border-bottom-color: var(--fill-color);\n",
              "    }\n",
              "    90% {\n",
              "      border-color: transparent;\n",
              "      border-bottom-color: var(--fill-color);\n",
              "    }\n",
              "  }\n",
              "</style>\n",
              "\n",
              "  <script>\n",
              "    async function quickchart(key) {\n",
              "      const quickchartButtonEl =\n",
              "        document.querySelector('#' + key + ' button');\n",
              "      quickchartButtonEl.disabled = true;  // To prevent multiple clicks.\n",
              "      quickchartButtonEl.classList.add('colab-df-spinner');\n",
              "      try {\n",
              "        const charts = await google.colab.kernel.invokeFunction(\n",
              "            'suggestCharts', [key], {});\n",
              "      } catch (error) {\n",
              "        console.error('Error during call to suggestCharts:', error);\n",
              "      }\n",
              "      quickchartButtonEl.classList.remove('colab-df-spinner');\n",
              "      quickchartButtonEl.classList.add('colab-df-quickchart-complete');\n",
              "    }\n",
              "    (() => {\n",
              "      let quickchartButtonEl =\n",
              "        document.querySelector('#df-3e00442d-773e-4321-b5f9-47936a1616f3 button');\n",
              "      quickchartButtonEl.style.display =\n",
              "        google.colab.kernel.accessAllowed ? 'block' : 'none';\n",
              "    })();\n",
              "  </script>\n",
              "</div>\n",
              "\n",
              "    </div>\n",
              "  </div>\n"
            ],
            "application/vnd.google.colaboratory.intrinsic+json": {
              "type": "dataframe",
              "variable_name": "df",
              "summary": "{\n  \"name\": \"df\",\n  \"rows\": 1081,\n  \"fields\": [\n    {\n      \"column\": \"Entity\",\n      \"properties\": {\n        \"dtype\": \"category\",\n        \"num_unique_values\": 35,\n        \"samples\": [\n          \"Portugal\",\n          \"Finland\",\n          \"OECD (BP)\"\n        ],\n        \"semantic_type\": \"\",\n        \"description\": \"\"\n      }\n    },\n    {\n      \"column\": \"Code\",\n      \"properties\": {\n        \"dtype\": \"category\",\n        \"num_unique_values\": 25,\n        \"samples\": [\n          \"FIN\",\n          \"POL\",\n          \"ARG\"\n        ],\n        \"semantic_type\": \"\",\n        \"description\": \"\"\n      }\n    },\n    {\n      \"column\": \"Year\",\n      \"properties\": {\n        \"dtype\": \"number\",\n        \"std\": 9,\n        \"min\": 1990,\n        \"max\": 2021,\n        \"num_unique_values\": 32,\n        \"samples\": [\n          2019,\n          2005,\n          2014\n        ],\n        \"semantic_type\": \"\",\n        \"description\": \"\"\n      }\n    },\n    {\n      \"column\": \"Biofuels Production - TWh - Total\",\n      \"properties\": {\n        \"dtype\": \"number\",\n        \"std\": 138.2628780164389,\n        \"min\": 0.0,\n        \"max\": 1114.4883,\n        \"num_unique_values\": 761,\n        \"samples\": [\n          56.397747,\n          28.553371,\n          0.31836396\n        ],\n        \"semantic_type\": \"\",\n        \"description\": \"\"\n      }\n    }\n  ]\n}"
            }
          },
          "metadata": {},
          "execution_count": 2
        }
      ]
    },
    {
      "cell_type": "markdown",
      "source": [
        "**Informações sobre os dados**"
      ],
      "metadata": {
        "id": "7daXtc1-6mU8"
      }
    },
    {
      "cell_type": "code",
      "source": [
        "df.info()"
      ],
      "metadata": {
        "colab": {
          "base_uri": "https://localhost:8080/"
        },
        "id": "2-M2jSwz6qt7",
        "outputId": "849138bc-f220-454a-ac44-53af938f1f78"
      },
      "execution_count": null,
      "outputs": [
        {
          "output_type": "stream",
          "name": "stdout",
          "text": [
            "<class 'pandas.core.frame.DataFrame'>\n",
            "RangeIndex: 1081 entries, 0 to 1080\n",
            "Data columns (total 4 columns):\n",
            " #   Column                             Non-Null Count  Dtype  \n",
            "---  ------                             --------------  -----  \n",
            " 0   Entity                             1081 non-null   object \n",
            " 1   Code                               800 non-null    object \n",
            " 2   Year                               1081 non-null   int64  \n",
            " 3   Biofuels Production - TWh - Total  1081 non-null   float64\n",
            "dtypes: float64(1), int64(1), object(2)\n",
            "memory usage: 33.9+ KB\n"
          ]
        }
      ]
    },
    {
      "cell_type": "code",
      "source": [
        "df.dtypes"
      ],
      "metadata": {
        "colab": {
          "base_uri": "https://localhost:8080/",
          "height": 209
        },
        "id": "Vck_syXj6s2L",
        "outputId": "a8bc6624-006d-44aa-ee86-a37feb42eafd"
      },
      "execution_count": null,
      "outputs": [
        {
          "output_type": "execute_result",
          "data": {
            "text/plain": [
              "Entity                                object\n",
              "Code                                  object\n",
              "Year                                   int64\n",
              "Biofuels Production - TWh - Total    float64\n",
              "dtype: object"
            ],
            "text/html": [
              "<div>\n",
              "<style scoped>\n",
              "    .dataframe tbody tr th:only-of-type {\n",
              "        vertical-align: middle;\n",
              "    }\n",
              "\n",
              "    .dataframe tbody tr th {\n",
              "        vertical-align: top;\n",
              "    }\n",
              "\n",
              "    .dataframe thead th {\n",
              "        text-align: right;\n",
              "    }\n",
              "</style>\n",
              "<table border=\"1\" class=\"dataframe\">\n",
              "  <thead>\n",
              "    <tr style=\"text-align: right;\">\n",
              "      <th></th>\n",
              "      <th>0</th>\n",
              "    </tr>\n",
              "  </thead>\n",
              "  <tbody>\n",
              "    <tr>\n",
              "      <th>Entity</th>\n",
              "      <td>object</td>\n",
              "    </tr>\n",
              "    <tr>\n",
              "      <th>Code</th>\n",
              "      <td>object</td>\n",
              "    </tr>\n",
              "    <tr>\n",
              "      <th>Year</th>\n",
              "      <td>int64</td>\n",
              "    </tr>\n",
              "    <tr>\n",
              "      <th>Biofuels Production - TWh - Total</th>\n",
              "      <td>float64</td>\n",
              "    </tr>\n",
              "  </tbody>\n",
              "</table>\n",
              "</div><br><label><b>dtype:</b> object</label>"
            ]
          },
          "metadata": {},
          "execution_count": 4
        }
      ]
    },
    {
      "cell_type": "code",
      "source": [
        "df.shape"
      ],
      "metadata": {
        "colab": {
          "base_uri": "https://localhost:8080/"
        },
        "id": "1Udcp59O6vxE",
        "outputId": "b27297ba-4452-42fd-9872-629fe0d9ab62"
      },
      "execution_count": null,
      "outputs": [
        {
          "output_type": "execute_result",
          "data": {
            "text/plain": [
              "(1081, 4)"
            ]
          },
          "metadata": {},
          "execution_count": 5
        }
      ]
    },
    {
      "cell_type": "code",
      "source": [
        "metricas = df.describe()\n",
        "print(metricas)"
      ],
      "metadata": {
        "colab": {
          "base_uri": "https://localhost:8080/"
        },
        "id": "_TIZkaSh6l_7",
        "outputId": "5804c598-7358-435a-c279-9d81ccbca6b6"
      },
      "execution_count": null,
      "outputs": [
        {
          "output_type": "stream",
          "name": "stdout",
          "text": [
            "              Year  Biofuels Production - TWh - Total\n",
            "count  1081.000000                        1081.000000\n",
            "mean   2005.830712                          56.543887\n",
            "std       9.197525                         138.262878\n",
            "min    1990.000000                           0.000000\n",
            "25%    1998.000000                           0.000000\n",
            "50%    2006.000000                           3.642700\n",
            "75%    2014.000000                          32.786575\n",
            "max    2021.000000                        1114.488300\n"
          ]
        }
      ]
    },
    {
      "cell_type": "markdown",
      "source": [
        "**Limpeza do Dataset**"
      ],
      "metadata": {
        "id": "Amv3BQTL6iz0"
      }
    },
    {
      "cell_type": "code",
      "source": [
        "# Avaliar a presença de nulos no df\n",
        "df.isnull().any() #Coluna Code possui nulos"
      ],
      "metadata": {
        "colab": {
          "base_uri": "https://localhost:8080/",
          "height": 209
        },
        "id": "m668SFip7jLZ",
        "outputId": "3292650c-1c20-4b40-8ca4-5fda173948a3"
      },
      "execution_count": null,
      "outputs": [
        {
          "output_type": "execute_result",
          "data": {
            "text/plain": [
              "Entity                               False\n",
              "Code                                  True\n",
              "Year                                 False\n",
              "Biofuels Production - TWh - Total    False\n",
              "dtype: bool"
            ],
            "text/html": [
              "<div>\n",
              "<style scoped>\n",
              "    .dataframe tbody tr th:only-of-type {\n",
              "        vertical-align: middle;\n",
              "    }\n",
              "\n",
              "    .dataframe tbody tr th {\n",
              "        vertical-align: top;\n",
              "    }\n",
              "\n",
              "    .dataframe thead th {\n",
              "        text-align: right;\n",
              "    }\n",
              "</style>\n",
              "<table border=\"1\" class=\"dataframe\">\n",
              "  <thead>\n",
              "    <tr style=\"text-align: right;\">\n",
              "      <th></th>\n",
              "      <th>0</th>\n",
              "    </tr>\n",
              "  </thead>\n",
              "  <tbody>\n",
              "    <tr>\n",
              "      <th>Entity</th>\n",
              "      <td>False</td>\n",
              "    </tr>\n",
              "    <tr>\n",
              "      <th>Code</th>\n",
              "      <td>True</td>\n",
              "    </tr>\n",
              "    <tr>\n",
              "      <th>Year</th>\n",
              "      <td>False</td>\n",
              "    </tr>\n",
              "    <tr>\n",
              "      <th>Biofuels Production - TWh - Total</th>\n",
              "      <td>False</td>\n",
              "    </tr>\n",
              "  </tbody>\n",
              "</table>\n",
              "</div><br><label><b>dtype:</b> bool</label>"
            ]
          },
          "metadata": {},
          "execution_count": 7
        }
      ]
    },
    {
      "cell_type": "code",
      "source": [
        "# Avaliar quantidade de nulos\n",
        "df.isnull().sum() # A coluna Code possui um total de 281 valores nulos"
      ],
      "metadata": {
        "colab": {
          "base_uri": "https://localhost:8080/",
          "height": 209
        },
        "id": "ePDFIpHm7s9l",
        "outputId": "468e4d1e-fb95-4b67-e8c0-fe35dbede866"
      },
      "execution_count": null,
      "outputs": [
        {
          "output_type": "execute_result",
          "data": {
            "text/plain": [
              "Entity                                 0\n",
              "Code                                 281\n",
              "Year                                   0\n",
              "Biofuels Production - TWh - Total      0\n",
              "dtype: int64"
            ],
            "text/html": [
              "<div>\n",
              "<style scoped>\n",
              "    .dataframe tbody tr th:only-of-type {\n",
              "        vertical-align: middle;\n",
              "    }\n",
              "\n",
              "    .dataframe tbody tr th {\n",
              "        vertical-align: top;\n",
              "    }\n",
              "\n",
              "    .dataframe thead th {\n",
              "        text-align: right;\n",
              "    }\n",
              "</style>\n",
              "<table border=\"1\" class=\"dataframe\">\n",
              "  <thead>\n",
              "    <tr style=\"text-align: right;\">\n",
              "      <th></th>\n",
              "      <th>0</th>\n",
              "    </tr>\n",
              "  </thead>\n",
              "  <tbody>\n",
              "    <tr>\n",
              "      <th>Entity</th>\n",
              "      <td>0</td>\n",
              "    </tr>\n",
              "    <tr>\n",
              "      <th>Code</th>\n",
              "      <td>281</td>\n",
              "    </tr>\n",
              "    <tr>\n",
              "      <th>Year</th>\n",
              "      <td>0</td>\n",
              "    </tr>\n",
              "    <tr>\n",
              "      <th>Biofuels Production - TWh - Total</th>\n",
              "      <td>0</td>\n",
              "    </tr>\n",
              "  </tbody>\n",
              "</table>\n",
              "</div><br><label><b>dtype:</b> int64</label>"
            ]
          },
          "metadata": {},
          "execution_count": 8
        }
      ]
    },
    {
      "cell_type": "code",
      "source": [
        "# Avaliar a presença de duplicatas\n",
        "df.duplicated() #Nenhuma linha duplicada"
      ],
      "metadata": {
        "colab": {
          "base_uri": "https://localhost:8080/",
          "height": 458
        },
        "id": "0VM_G1cA73c8",
        "outputId": "d54671f6-a094-4446-8177-4eaccb7ce285"
      },
      "execution_count": null,
      "outputs": [
        {
          "output_type": "execute_result",
          "data": {
            "text/plain": [
              "0       False\n",
              "1       False\n",
              "2       False\n",
              "3       False\n",
              "4       False\n",
              "        ...  \n",
              "1076    False\n",
              "1077    False\n",
              "1078    False\n",
              "1079    False\n",
              "1080    False\n",
              "Length: 1081, dtype: bool"
            ],
            "text/html": [
              "<div>\n",
              "<style scoped>\n",
              "    .dataframe tbody tr th:only-of-type {\n",
              "        vertical-align: middle;\n",
              "    }\n",
              "\n",
              "    .dataframe tbody tr th {\n",
              "        vertical-align: top;\n",
              "    }\n",
              "\n",
              "    .dataframe thead th {\n",
              "        text-align: right;\n",
              "    }\n",
              "</style>\n",
              "<table border=\"1\" class=\"dataframe\">\n",
              "  <thead>\n",
              "    <tr style=\"text-align: right;\">\n",
              "      <th></th>\n",
              "      <th>0</th>\n",
              "    </tr>\n",
              "  </thead>\n",
              "  <tbody>\n",
              "    <tr>\n",
              "      <th>0</th>\n",
              "      <td>False</td>\n",
              "    </tr>\n",
              "    <tr>\n",
              "      <th>1</th>\n",
              "      <td>False</td>\n",
              "    </tr>\n",
              "    <tr>\n",
              "      <th>2</th>\n",
              "      <td>False</td>\n",
              "    </tr>\n",
              "    <tr>\n",
              "      <th>3</th>\n",
              "      <td>False</td>\n",
              "    </tr>\n",
              "    <tr>\n",
              "      <th>4</th>\n",
              "      <td>False</td>\n",
              "    </tr>\n",
              "    <tr>\n",
              "      <th>...</th>\n",
              "      <td>...</td>\n",
              "    </tr>\n",
              "    <tr>\n",
              "      <th>1076</th>\n",
              "      <td>False</td>\n",
              "    </tr>\n",
              "    <tr>\n",
              "      <th>1077</th>\n",
              "      <td>False</td>\n",
              "    </tr>\n",
              "    <tr>\n",
              "      <th>1078</th>\n",
              "      <td>False</td>\n",
              "    </tr>\n",
              "    <tr>\n",
              "      <th>1079</th>\n",
              "      <td>False</td>\n",
              "    </tr>\n",
              "    <tr>\n",
              "      <th>1080</th>\n",
              "      <td>False</td>\n",
              "    </tr>\n",
              "  </tbody>\n",
              "</table>\n",
              "<p>1081 rows × 1 columns</p>\n",
              "</div><br><label><b>dtype:</b> bool</label>"
            ]
          },
          "metadata": {},
          "execution_count": 9
        }
      ]
    },
    {
      "cell_type": "code",
      "source": [
        "# Eliminação da coluna Code devido a presença de muitos valores nulos, ademais, a mesma não será necessária para o desenvolvimento dos insights\n",
        "df = df.drop(columns = ['Code'])\n",
        "df.head(5)"
      ],
      "metadata": {
        "colab": {
          "base_uri": "https://localhost:8080/",
          "height": 206
        },
        "id": "V0FU_jCa8h5d",
        "outputId": "6d1d11ba-c197-4085-e65c-5651a53320d2"
      },
      "execution_count": null,
      "outputs": [
        {
          "output_type": "execute_result",
          "data": {
            "text/plain": [
              "        Entity  Year  Biofuels Production - TWh - Total\n",
              "0  Africa (BP)  1990                           0.068617\n",
              "1  Africa (BP)  1991                           0.068617\n",
              "2  Africa (BP)  1992                           0.068805\n",
              "3  Africa (BP)  1993                           0.068617\n",
              "4  Africa (BP)  1994                           0.068617"
            ],
            "text/html": [
              "\n",
              "  <div id=\"df-2b6b7509-66c8-4b18-87b6-05de641e5119\" class=\"colab-df-container\">\n",
              "    <div>\n",
              "<style scoped>\n",
              "    .dataframe tbody tr th:only-of-type {\n",
              "        vertical-align: middle;\n",
              "    }\n",
              "\n",
              "    .dataframe tbody tr th {\n",
              "        vertical-align: top;\n",
              "    }\n",
              "\n",
              "    .dataframe thead th {\n",
              "        text-align: right;\n",
              "    }\n",
              "</style>\n",
              "<table border=\"1\" class=\"dataframe\">\n",
              "  <thead>\n",
              "    <tr style=\"text-align: right;\">\n",
              "      <th></th>\n",
              "      <th>Entity</th>\n",
              "      <th>Year</th>\n",
              "      <th>Biofuels Production - TWh - Total</th>\n",
              "    </tr>\n",
              "  </thead>\n",
              "  <tbody>\n",
              "    <tr>\n",
              "      <th>0</th>\n",
              "      <td>Africa (BP)</td>\n",
              "      <td>1990</td>\n",
              "      <td>0.068617</td>\n",
              "    </tr>\n",
              "    <tr>\n",
              "      <th>1</th>\n",
              "      <td>Africa (BP)</td>\n",
              "      <td>1991</td>\n",
              "      <td>0.068617</td>\n",
              "    </tr>\n",
              "    <tr>\n",
              "      <th>2</th>\n",
              "      <td>Africa (BP)</td>\n",
              "      <td>1992</td>\n",
              "      <td>0.068805</td>\n",
              "    </tr>\n",
              "    <tr>\n",
              "      <th>3</th>\n",
              "      <td>Africa (BP)</td>\n",
              "      <td>1993</td>\n",
              "      <td>0.068617</td>\n",
              "    </tr>\n",
              "    <tr>\n",
              "      <th>4</th>\n",
              "      <td>Africa (BP)</td>\n",
              "      <td>1994</td>\n",
              "      <td>0.068617</td>\n",
              "    </tr>\n",
              "  </tbody>\n",
              "</table>\n",
              "</div>\n",
              "    <div class=\"colab-df-buttons\">\n",
              "\n",
              "  <div class=\"colab-df-container\">\n",
              "    <button class=\"colab-df-convert\" onclick=\"convertToInteractive('df-2b6b7509-66c8-4b18-87b6-05de641e5119')\"\n",
              "            title=\"Convert this dataframe to an interactive table.\"\n",
              "            style=\"display:none;\">\n",
              "\n",
              "  <svg xmlns=\"http://www.w3.org/2000/svg\" height=\"24px\" viewBox=\"0 -960 960 960\">\n",
              "    <path d=\"M120-120v-720h720v720H120Zm60-500h600v-160H180v160Zm220 220h160v-160H400v160Zm0 220h160v-160H400v160ZM180-400h160v-160H180v160Zm440 0h160v-160H620v160ZM180-180h160v-160H180v160Zm440 0h160v-160H620v160Z\"/>\n",
              "  </svg>\n",
              "    </button>\n",
              "\n",
              "  <style>\n",
              "    .colab-df-container {\n",
              "      display:flex;\n",
              "      gap: 12px;\n",
              "    }\n",
              "\n",
              "    .colab-df-convert {\n",
              "      background-color: #E8F0FE;\n",
              "      border: none;\n",
              "      border-radius: 50%;\n",
              "      cursor: pointer;\n",
              "      display: none;\n",
              "      fill: #1967D2;\n",
              "      height: 32px;\n",
              "      padding: 0 0 0 0;\n",
              "      width: 32px;\n",
              "    }\n",
              "\n",
              "    .colab-df-convert:hover {\n",
              "      background-color: #E2EBFA;\n",
              "      box-shadow: 0px 1px 2px rgba(60, 64, 67, 0.3), 0px 1px 3px 1px rgba(60, 64, 67, 0.15);\n",
              "      fill: #174EA6;\n",
              "    }\n",
              "\n",
              "    .colab-df-buttons div {\n",
              "      margin-bottom: 4px;\n",
              "    }\n",
              "\n",
              "    [theme=dark] .colab-df-convert {\n",
              "      background-color: #3B4455;\n",
              "      fill: #D2E3FC;\n",
              "    }\n",
              "\n",
              "    [theme=dark] .colab-df-convert:hover {\n",
              "      background-color: #434B5C;\n",
              "      box-shadow: 0px 1px 3px 1px rgba(0, 0, 0, 0.15);\n",
              "      filter: drop-shadow(0px 1px 2px rgba(0, 0, 0, 0.3));\n",
              "      fill: #FFFFFF;\n",
              "    }\n",
              "  </style>\n",
              "\n",
              "    <script>\n",
              "      const buttonEl =\n",
              "        document.querySelector('#df-2b6b7509-66c8-4b18-87b6-05de641e5119 button.colab-df-convert');\n",
              "      buttonEl.style.display =\n",
              "        google.colab.kernel.accessAllowed ? 'block' : 'none';\n",
              "\n",
              "      async function convertToInteractive(key) {\n",
              "        const element = document.querySelector('#df-2b6b7509-66c8-4b18-87b6-05de641e5119');\n",
              "        const dataTable =\n",
              "          await google.colab.kernel.invokeFunction('convertToInteractive',\n",
              "                                                    [key], {});\n",
              "        if (!dataTable) return;\n",
              "\n",
              "        const docLinkHtml = 'Like what you see? Visit the ' +\n",
              "          '<a target=\"_blank\" href=https://colab.research.google.com/notebooks/data_table.ipynb>data table notebook</a>'\n",
              "          + ' to learn more about interactive tables.';\n",
              "        element.innerHTML = '';\n",
              "        dataTable['output_type'] = 'display_data';\n",
              "        await google.colab.output.renderOutput(dataTable, element);\n",
              "        const docLink = document.createElement('div');\n",
              "        docLink.innerHTML = docLinkHtml;\n",
              "        element.appendChild(docLink);\n",
              "      }\n",
              "    </script>\n",
              "  </div>\n",
              "\n",
              "\n",
              "<div id=\"df-ce0fdb9c-e2eb-4d03-801a-357e14f98426\">\n",
              "  <button class=\"colab-df-quickchart\" onclick=\"quickchart('df-ce0fdb9c-e2eb-4d03-801a-357e14f98426')\"\n",
              "            title=\"Suggest charts\"\n",
              "            style=\"display:none;\">\n",
              "\n",
              "<svg xmlns=\"http://www.w3.org/2000/svg\" height=\"24px\"viewBox=\"0 0 24 24\"\n",
              "     width=\"24px\">\n",
              "    <g>\n",
              "        <path d=\"M19 3H5c-1.1 0-2 .9-2 2v14c0 1.1.9 2 2 2h14c1.1 0 2-.9 2-2V5c0-1.1-.9-2-2-2zM9 17H7v-7h2v7zm4 0h-2V7h2v10zm4 0h-2v-4h2v4z\"/>\n",
              "    </g>\n",
              "</svg>\n",
              "  </button>\n",
              "\n",
              "<style>\n",
              "  .colab-df-quickchart {\n",
              "      --bg-color: #E8F0FE;\n",
              "      --fill-color: #1967D2;\n",
              "      --hover-bg-color: #E2EBFA;\n",
              "      --hover-fill-color: #174EA6;\n",
              "      --disabled-fill-color: #AAA;\n",
              "      --disabled-bg-color: #DDD;\n",
              "  }\n",
              "\n",
              "  [theme=dark] .colab-df-quickchart {\n",
              "      --bg-color: #3B4455;\n",
              "      --fill-color: #D2E3FC;\n",
              "      --hover-bg-color: #434B5C;\n",
              "      --hover-fill-color: #FFFFFF;\n",
              "      --disabled-bg-color: #3B4455;\n",
              "      --disabled-fill-color: #666;\n",
              "  }\n",
              "\n",
              "  .colab-df-quickchart {\n",
              "    background-color: var(--bg-color);\n",
              "    border: none;\n",
              "    border-radius: 50%;\n",
              "    cursor: pointer;\n",
              "    display: none;\n",
              "    fill: var(--fill-color);\n",
              "    height: 32px;\n",
              "    padding: 0;\n",
              "    width: 32px;\n",
              "  }\n",
              "\n",
              "  .colab-df-quickchart:hover {\n",
              "    background-color: var(--hover-bg-color);\n",
              "    box-shadow: 0 1px 2px rgba(60, 64, 67, 0.3), 0 1px 3px 1px rgba(60, 64, 67, 0.15);\n",
              "    fill: var(--button-hover-fill-color);\n",
              "  }\n",
              "\n",
              "  .colab-df-quickchart-complete:disabled,\n",
              "  .colab-df-quickchart-complete:disabled:hover {\n",
              "    background-color: var(--disabled-bg-color);\n",
              "    fill: var(--disabled-fill-color);\n",
              "    box-shadow: none;\n",
              "  }\n",
              "\n",
              "  .colab-df-spinner {\n",
              "    border: 2px solid var(--fill-color);\n",
              "    border-color: transparent;\n",
              "    border-bottom-color: var(--fill-color);\n",
              "    animation:\n",
              "      spin 1s steps(1) infinite;\n",
              "  }\n",
              "\n",
              "  @keyframes spin {\n",
              "    0% {\n",
              "      border-color: transparent;\n",
              "      border-bottom-color: var(--fill-color);\n",
              "      border-left-color: var(--fill-color);\n",
              "    }\n",
              "    20% {\n",
              "      border-color: transparent;\n",
              "      border-left-color: var(--fill-color);\n",
              "      border-top-color: var(--fill-color);\n",
              "    }\n",
              "    30% {\n",
              "      border-color: transparent;\n",
              "      border-left-color: var(--fill-color);\n",
              "      border-top-color: var(--fill-color);\n",
              "      border-right-color: var(--fill-color);\n",
              "    }\n",
              "    40% {\n",
              "      border-color: transparent;\n",
              "      border-right-color: var(--fill-color);\n",
              "      border-top-color: var(--fill-color);\n",
              "    }\n",
              "    60% {\n",
              "      border-color: transparent;\n",
              "      border-right-color: var(--fill-color);\n",
              "    }\n",
              "    80% {\n",
              "      border-color: transparent;\n",
              "      border-right-color: var(--fill-color);\n",
              "      border-bottom-color: var(--fill-color);\n",
              "    }\n",
              "    90% {\n",
              "      border-color: transparent;\n",
              "      border-bottom-color: var(--fill-color);\n",
              "    }\n",
              "  }\n",
              "</style>\n",
              "\n",
              "  <script>\n",
              "    async function quickchart(key) {\n",
              "      const quickchartButtonEl =\n",
              "        document.querySelector('#' + key + ' button');\n",
              "      quickchartButtonEl.disabled = true;  // To prevent multiple clicks.\n",
              "      quickchartButtonEl.classList.add('colab-df-spinner');\n",
              "      try {\n",
              "        const charts = await google.colab.kernel.invokeFunction(\n",
              "            'suggestCharts', [key], {});\n",
              "      } catch (error) {\n",
              "        console.error('Error during call to suggestCharts:', error);\n",
              "      }\n",
              "      quickchartButtonEl.classList.remove('colab-df-spinner');\n",
              "      quickchartButtonEl.classList.add('colab-df-quickchart-complete');\n",
              "    }\n",
              "    (() => {\n",
              "      let quickchartButtonEl =\n",
              "        document.querySelector('#df-ce0fdb9c-e2eb-4d03-801a-357e14f98426 button');\n",
              "      quickchartButtonEl.style.display =\n",
              "        google.colab.kernel.accessAllowed ? 'block' : 'none';\n",
              "    })();\n",
              "  </script>\n",
              "</div>\n",
              "\n",
              "    </div>\n",
              "  </div>\n"
            ],
            "application/vnd.google.colaboratory.intrinsic+json": {
              "type": "dataframe",
              "variable_name": "df",
              "summary": "{\n  \"name\": \"df\",\n  \"rows\": 1081,\n  \"fields\": [\n    {\n      \"column\": \"Entity\",\n      \"properties\": {\n        \"dtype\": \"category\",\n        \"num_unique_values\": 35,\n        \"samples\": [\n          \"Portugal\",\n          \"Finland\",\n          \"OECD (BP)\"\n        ],\n        \"semantic_type\": \"\",\n        \"description\": \"\"\n      }\n    },\n    {\n      \"column\": \"Year\",\n      \"properties\": {\n        \"dtype\": \"number\",\n        \"std\": 9,\n        \"min\": 1990,\n        \"max\": 2021,\n        \"num_unique_values\": 32,\n        \"samples\": [\n          2019,\n          2005,\n          2014\n        ],\n        \"semantic_type\": \"\",\n        \"description\": \"\"\n      }\n    },\n    {\n      \"column\": \"Biofuels Production - TWh - Total\",\n      \"properties\": {\n        \"dtype\": \"number\",\n        \"std\": 138.2628780164389,\n        \"min\": 0.0,\n        \"max\": 1114.4883,\n        \"num_unique_values\": 761,\n        \"samples\": [\n          56.397747,\n          28.553371,\n          0.31836396\n        ],\n        \"semantic_type\": \"\",\n        \"description\": \"\"\n      }\n    }\n  ]\n}"
            }
          },
          "metadata": {},
          "execution_count": 10
        }
      ]
    },
    {
      "cell_type": "code",
      "source": [
        "# Salvar df limpo em um arquivo excel para uso posterior\n",
        "df.to_excel('biofuels_production_excel.xlsx')"
      ],
      "metadata": {
        "id": "4zxQENE1PYZ0"
      },
      "execution_count": null,
      "outputs": []
    },
    {
      "cell_type": "markdown",
      "source": [
        "**Análises estatísticas**"
      ],
      "metadata": {
        "id": "Zgl-4w53-Ptv"
      }
    },
    {
      "cell_type": "code",
      "source": [
        "# Avaliar por meio do desvio padrão a volatilidade anual na produção de biocombustíveis\n",
        "volatilidade_anual = df.groupby('Year')['Biofuels Production - TWh - Total'].std().reset_index()\n",
        "print(volatilidade_anual)"
      ],
      "metadata": {
        "colab": {
          "base_uri": "https://localhost:8080/"
        },
        "id": "MyrfvvY4-KMk",
        "outputId": "971d344d-f8c4-4627-ade9-2dd5e7a6177b"
      },
      "execution_count": null,
      "outputs": [
        {
          "output_type": "stream",
          "name": "stdout",
          "text": [
            "    Year  Biofuels Production - TWh - Total\n",
            "0   1990                          23.537711\n",
            "1   1991                          26.448234\n",
            "2   1992                          24.832356\n",
            "3   1993                          24.762679\n",
            "4   1994                          27.316185\n",
            "5   1995                          28.079819\n",
            "6   1996                          29.491828\n",
            "7   1997                          33.140591\n",
            "8   1998                          31.062643\n",
            "9   1999                          29.489161\n",
            "10  2000                          26.579666\n",
            "11  2001                          28.877374\n",
            "12  2002                          33.103252\n",
            "13  2003                          40.489100\n",
            "14  2004                          45.217906\n",
            "15  2005                          52.592803\n",
            "16  2006                          66.474045\n",
            "17  2007                          89.347912\n",
            "18  2008                         121.332562\n",
            "19  2009                         134.795045\n",
            "20  2010                         155.841414\n",
            "21  2011                         165.792924\n",
            "22  2012                         166.260847\n",
            "23  2013                         179.119015\n",
            "24  2014                         193.649713\n",
            "25  2015                         195.620696\n",
            "26  2016                         202.833369\n",
            "27  2017                         211.165005\n",
            "28  2018                         229.576614\n",
            "29  2019                         236.737740\n",
            "30  2020                         221.379783\n",
            "31  2021                         229.301867\n"
          ]
        }
      ]
    },
    {
      "cell_type": "code",
      "source": [
        "fig = go.Figure(data=[\n",
        "    go.Bar(\n",
        "        x=volatilidade_anual['Year'],\n",
        "        y=volatilidade_anual['Biofuels Production - TWh - Total'],\n",
        "        marker_color='green'\n",
        "    )\n",
        "])\n",
        "\n",
        "fig.update_layout(\n",
        "    title={\n",
        "        'text': 'Volatilidade Anual na Produção de Biocombustíveis',\n",
        "        'x': 0.5,\n",
        "        'xanchor': 'center',\n",
        "        'yanchor': 'top'\n",
        "    },\n",
        "    xaxis=dict(title='Ano', tickmode='linear'),\n",
        "    yaxis=dict(title='Desvio Padrão da Produção de Biocombustíveis (TWh)'),\n",
        "    showlegend=False\n",
        ")\n",
        "\n",
        "fig.show()"
      ],
      "metadata": {
        "colab": {
          "base_uri": "https://localhost:8080/",
          "height": 542
        },
        "id": "2UHHfKvdMQYQ",
        "outputId": "d3eba235-5ce1-4feb-fd4a-52766bc7eb43"
      },
      "execution_count": null,
      "outputs": [
        {
          "output_type": "display_data",
          "data": {
            "text/html": [
              "<html>\n",
              "<head><meta charset=\"utf-8\" /></head>\n",
              "<body>\n",
              "    <div>            <script src=\"https://cdnjs.cloudflare.com/ajax/libs/mathjax/2.7.5/MathJax.js?config=TeX-AMS-MML_SVG\"></script><script type=\"text/javascript\">if (window.MathJax && window.MathJax.Hub && window.MathJax.Hub.Config) {window.MathJax.Hub.Config({SVG: {font: \"STIX-Web\"}});}</script>                <script type=\"text/javascript\">window.PlotlyConfig = {MathJaxConfig: 'local'};</script>\n",
              "        <script charset=\"utf-8\" src=\"https://cdn.plot.ly/plotly-2.35.2.min.js\"></script>                <div id=\"c1fa359d-f5c7-402e-b2bb-7189bd383f6c\" class=\"plotly-graph-div\" style=\"height:525px; width:100%;\"></div>            <script type=\"text/javascript\">                                    window.PLOTLYENV=window.PLOTLYENV || {};                                    if (document.getElementById(\"c1fa359d-f5c7-402e-b2bb-7189bd383f6c\")) {                    Plotly.newPlot(                        \"c1fa359d-f5c7-402e-b2bb-7189bd383f6c\",                        [{\"marker\":{\"color\":\"green\"},\"x\":[1990,1991,1992,1993,1994,1995,1996,1997,1998,1999,2000,2001,2002,2003,2004,2005,2006,2007,2008,2009,2010,2011,2012,2013,2014,2015,2016,2017,2018,2019,2020,2021],\"y\":[23.537711007854906,26.4482338714657,24.83235629144115,24.762678555487806,27.316185044421402,28.07981854587226,29.49182794073883,33.14059128154295,31.062643446128387,29.48916088518108,26.579665756193727,28.877373812528013,33.10325151090222,40.48909999028686,45.217905992756265,52.59280308749729,66.47404475042006,89.3479115193081,121.33256221361327,134.79504473669962,155.84141385969895,165.7929236642139,166.26084714930155,179.11901469629277,193.64971251670892,195.62069612373546,202.8333693940834,211.16500469556524,229.57661430247788,236.73774034020872,221.37978323257536,229.3018670577123],\"type\":\"bar\"}],                        {\"template\":{\"data\":{\"histogram2dcontour\":[{\"type\":\"histogram2dcontour\",\"colorbar\":{\"outlinewidth\":0,\"ticks\":\"\"},\"colorscale\":[[0.0,\"#0d0887\"],[0.1111111111111111,\"#46039f\"],[0.2222222222222222,\"#7201a8\"],[0.3333333333333333,\"#9c179e\"],[0.4444444444444444,\"#bd3786\"],[0.5555555555555556,\"#d8576b\"],[0.6666666666666666,\"#ed7953\"],[0.7777777777777778,\"#fb9f3a\"],[0.8888888888888888,\"#fdca26\"],[1.0,\"#f0f921\"]]}],\"choropleth\":[{\"type\":\"choropleth\",\"colorbar\":{\"outlinewidth\":0,\"ticks\":\"\"}}],\"histogram2d\":[{\"type\":\"histogram2d\",\"colorbar\":{\"outlinewidth\":0,\"ticks\":\"\"},\"colorscale\":[[0.0,\"#0d0887\"],[0.1111111111111111,\"#46039f\"],[0.2222222222222222,\"#7201a8\"],[0.3333333333333333,\"#9c179e\"],[0.4444444444444444,\"#bd3786\"],[0.5555555555555556,\"#d8576b\"],[0.6666666666666666,\"#ed7953\"],[0.7777777777777778,\"#fb9f3a\"],[0.8888888888888888,\"#fdca26\"],[1.0,\"#f0f921\"]]}],\"heatmap\":[{\"type\":\"heatmap\",\"colorbar\":{\"outlinewidth\":0,\"ticks\":\"\"},\"colorscale\":[[0.0,\"#0d0887\"],[0.1111111111111111,\"#46039f\"],[0.2222222222222222,\"#7201a8\"],[0.3333333333333333,\"#9c179e\"],[0.4444444444444444,\"#bd3786\"],[0.5555555555555556,\"#d8576b\"],[0.6666666666666666,\"#ed7953\"],[0.7777777777777778,\"#fb9f3a\"],[0.8888888888888888,\"#fdca26\"],[1.0,\"#f0f921\"]]}],\"heatmapgl\":[{\"type\":\"heatmapgl\",\"colorbar\":{\"outlinewidth\":0,\"ticks\":\"\"},\"colorscale\":[[0.0,\"#0d0887\"],[0.1111111111111111,\"#46039f\"],[0.2222222222222222,\"#7201a8\"],[0.3333333333333333,\"#9c179e\"],[0.4444444444444444,\"#bd3786\"],[0.5555555555555556,\"#d8576b\"],[0.6666666666666666,\"#ed7953\"],[0.7777777777777778,\"#fb9f3a\"],[0.8888888888888888,\"#fdca26\"],[1.0,\"#f0f921\"]]}],\"contourcarpet\":[{\"type\":\"contourcarpet\",\"colorbar\":{\"outlinewidth\":0,\"ticks\":\"\"}}],\"contour\":[{\"type\":\"contour\",\"colorbar\":{\"outlinewidth\":0,\"ticks\":\"\"},\"colorscale\":[[0.0,\"#0d0887\"],[0.1111111111111111,\"#46039f\"],[0.2222222222222222,\"#7201a8\"],[0.3333333333333333,\"#9c179e\"],[0.4444444444444444,\"#bd3786\"],[0.5555555555555556,\"#d8576b\"],[0.6666666666666666,\"#ed7953\"],[0.7777777777777778,\"#fb9f3a\"],[0.8888888888888888,\"#fdca26\"],[1.0,\"#f0f921\"]]}],\"surface\":[{\"type\":\"surface\",\"colorbar\":{\"outlinewidth\":0,\"ticks\":\"\"},\"colorscale\":[[0.0,\"#0d0887\"],[0.1111111111111111,\"#46039f\"],[0.2222222222222222,\"#7201a8\"],[0.3333333333333333,\"#9c179e\"],[0.4444444444444444,\"#bd3786\"],[0.5555555555555556,\"#d8576b\"],[0.6666666666666666,\"#ed7953\"],[0.7777777777777778,\"#fb9f3a\"],[0.8888888888888888,\"#fdca26\"],[1.0,\"#f0f921\"]]}],\"mesh3d\":[{\"type\":\"mesh3d\",\"colorbar\":{\"outlinewidth\":0,\"ticks\":\"\"}}],\"scatter\":[{\"fillpattern\":{\"fillmode\":\"overlay\",\"size\":10,\"solidity\":0.2},\"type\":\"scatter\"}],\"parcoords\":[{\"type\":\"parcoords\",\"line\":{\"colorbar\":{\"outlinewidth\":0,\"ticks\":\"\"}}}],\"scatterpolargl\":[{\"type\":\"scatterpolargl\",\"marker\":{\"colorbar\":{\"outlinewidth\":0,\"ticks\":\"\"}}}],\"bar\":[{\"error_x\":{\"color\":\"#2a3f5f\"},\"error_y\":{\"color\":\"#2a3f5f\"},\"marker\":{\"line\":{\"color\":\"#E5ECF6\",\"width\":0.5},\"pattern\":{\"fillmode\":\"overlay\",\"size\":10,\"solidity\":0.2}},\"type\":\"bar\"}],\"scattergeo\":[{\"type\":\"scattergeo\",\"marker\":{\"colorbar\":{\"outlinewidth\":0,\"ticks\":\"\"}}}],\"scatterpolar\":[{\"type\":\"scatterpolar\",\"marker\":{\"colorbar\":{\"outlinewidth\":0,\"ticks\":\"\"}}}],\"histogram\":[{\"marker\":{\"pattern\":{\"fillmode\":\"overlay\",\"size\":10,\"solidity\":0.2}},\"type\":\"histogram\"}],\"scattergl\":[{\"type\":\"scattergl\",\"marker\":{\"colorbar\":{\"outlinewidth\":0,\"ticks\":\"\"}}}],\"scatter3d\":[{\"type\":\"scatter3d\",\"line\":{\"colorbar\":{\"outlinewidth\":0,\"ticks\":\"\"}},\"marker\":{\"colorbar\":{\"outlinewidth\":0,\"ticks\":\"\"}}}],\"scattermapbox\":[{\"type\":\"scattermapbox\",\"marker\":{\"colorbar\":{\"outlinewidth\":0,\"ticks\":\"\"}}}],\"scatterternary\":[{\"type\":\"scatterternary\",\"marker\":{\"colorbar\":{\"outlinewidth\":0,\"ticks\":\"\"}}}],\"scattercarpet\":[{\"type\":\"scattercarpet\",\"marker\":{\"colorbar\":{\"outlinewidth\":0,\"ticks\":\"\"}}}],\"carpet\":[{\"aaxis\":{\"endlinecolor\":\"#2a3f5f\",\"gridcolor\":\"white\",\"linecolor\":\"white\",\"minorgridcolor\":\"white\",\"startlinecolor\":\"#2a3f5f\"},\"baxis\":{\"endlinecolor\":\"#2a3f5f\",\"gridcolor\":\"white\",\"linecolor\":\"white\",\"minorgridcolor\":\"white\",\"startlinecolor\":\"#2a3f5f\"},\"type\":\"carpet\"}],\"table\":[{\"cells\":{\"fill\":{\"color\":\"#EBF0F8\"},\"line\":{\"color\":\"white\"}},\"header\":{\"fill\":{\"color\":\"#C8D4E3\"},\"line\":{\"color\":\"white\"}},\"type\":\"table\"}],\"barpolar\":[{\"marker\":{\"line\":{\"color\":\"#E5ECF6\",\"width\":0.5},\"pattern\":{\"fillmode\":\"overlay\",\"size\":10,\"solidity\":0.2}},\"type\":\"barpolar\"}],\"pie\":[{\"automargin\":true,\"type\":\"pie\"}]},\"layout\":{\"autotypenumbers\":\"strict\",\"colorway\":[\"#636efa\",\"#EF553B\",\"#00cc96\",\"#ab63fa\",\"#FFA15A\",\"#19d3f3\",\"#FF6692\",\"#B6E880\",\"#FF97FF\",\"#FECB52\"],\"font\":{\"color\":\"#2a3f5f\"},\"hovermode\":\"closest\",\"hoverlabel\":{\"align\":\"left\"},\"paper_bgcolor\":\"white\",\"plot_bgcolor\":\"#E5ECF6\",\"polar\":{\"bgcolor\":\"#E5ECF6\",\"angularaxis\":{\"gridcolor\":\"white\",\"linecolor\":\"white\",\"ticks\":\"\"},\"radialaxis\":{\"gridcolor\":\"white\",\"linecolor\":\"white\",\"ticks\":\"\"}},\"ternary\":{\"bgcolor\":\"#E5ECF6\",\"aaxis\":{\"gridcolor\":\"white\",\"linecolor\":\"white\",\"ticks\":\"\"},\"baxis\":{\"gridcolor\":\"white\",\"linecolor\":\"white\",\"ticks\":\"\"},\"caxis\":{\"gridcolor\":\"white\",\"linecolor\":\"white\",\"ticks\":\"\"}},\"coloraxis\":{\"colorbar\":{\"outlinewidth\":0,\"ticks\":\"\"}},\"colorscale\":{\"sequential\":[[0.0,\"#0d0887\"],[0.1111111111111111,\"#46039f\"],[0.2222222222222222,\"#7201a8\"],[0.3333333333333333,\"#9c179e\"],[0.4444444444444444,\"#bd3786\"],[0.5555555555555556,\"#d8576b\"],[0.6666666666666666,\"#ed7953\"],[0.7777777777777778,\"#fb9f3a\"],[0.8888888888888888,\"#fdca26\"],[1.0,\"#f0f921\"]],\"sequentialminus\":[[0.0,\"#0d0887\"],[0.1111111111111111,\"#46039f\"],[0.2222222222222222,\"#7201a8\"],[0.3333333333333333,\"#9c179e\"],[0.4444444444444444,\"#bd3786\"],[0.5555555555555556,\"#d8576b\"],[0.6666666666666666,\"#ed7953\"],[0.7777777777777778,\"#fb9f3a\"],[0.8888888888888888,\"#fdca26\"],[1.0,\"#f0f921\"]],\"diverging\":[[0,\"#8e0152\"],[0.1,\"#c51b7d\"],[0.2,\"#de77ae\"],[0.3,\"#f1b6da\"],[0.4,\"#fde0ef\"],[0.5,\"#f7f7f7\"],[0.6,\"#e6f5d0\"],[0.7,\"#b8e186\"],[0.8,\"#7fbc41\"],[0.9,\"#4d9221\"],[1,\"#276419\"]]},\"xaxis\":{\"gridcolor\":\"white\",\"linecolor\":\"white\",\"ticks\":\"\",\"title\":{\"standoff\":15},\"zerolinecolor\":\"white\",\"automargin\":true,\"zerolinewidth\":2},\"yaxis\":{\"gridcolor\":\"white\",\"linecolor\":\"white\",\"ticks\":\"\",\"title\":{\"standoff\":15},\"zerolinecolor\":\"white\",\"automargin\":true,\"zerolinewidth\":2},\"scene\":{\"xaxis\":{\"backgroundcolor\":\"#E5ECF6\",\"gridcolor\":\"white\",\"linecolor\":\"white\",\"showbackground\":true,\"ticks\":\"\",\"zerolinecolor\":\"white\",\"gridwidth\":2},\"yaxis\":{\"backgroundcolor\":\"#E5ECF6\",\"gridcolor\":\"white\",\"linecolor\":\"white\",\"showbackground\":true,\"ticks\":\"\",\"zerolinecolor\":\"white\",\"gridwidth\":2},\"zaxis\":{\"backgroundcolor\":\"#E5ECF6\",\"gridcolor\":\"white\",\"linecolor\":\"white\",\"showbackground\":true,\"ticks\":\"\",\"zerolinecolor\":\"white\",\"gridwidth\":2}},\"shapedefaults\":{\"line\":{\"color\":\"#2a3f5f\"}},\"annotationdefaults\":{\"arrowcolor\":\"#2a3f5f\",\"arrowhead\":0,\"arrowwidth\":1},\"geo\":{\"bgcolor\":\"white\",\"landcolor\":\"#E5ECF6\",\"subunitcolor\":\"white\",\"showland\":true,\"showlakes\":true,\"lakecolor\":\"white\"},\"title\":{\"x\":0.05},\"mapbox\":{\"style\":\"light\"}}},\"title\":{\"text\":\"Volatilidade Anual na Produ\\u00e7\\u00e3o de Biocombust\\u00edveis\",\"x\":0.5,\"xanchor\":\"center\",\"yanchor\":\"top\"},\"xaxis\":{\"title\":{\"text\":\"Ano\"},\"tickmode\":\"linear\"},\"yaxis\":{\"title\":{\"text\":\"Desvio Padr\\u00e3o da Produ\\u00e7\\u00e3o de Biocombust\\u00edveis (TWh)\"}},\"showlegend\":false},                        {\"responsive\": true}                    ).then(function(){\n",
              "                            \n",
              "var gd = document.getElementById('c1fa359d-f5c7-402e-b2bb-7189bd383f6c');\n",
              "var x = new MutationObserver(function (mutations, observer) {{\n",
              "        var display = window.getComputedStyle(gd).display;\n",
              "        if (!display || display === 'none') {{\n",
              "            console.log([gd, 'removed!']);\n",
              "            Plotly.purge(gd);\n",
              "            observer.disconnect();\n",
              "        }}\n",
              "}});\n",
              "\n",
              "// Listen for the removal of the full notebook cells\n",
              "var notebookContainer = gd.closest('#notebook-container');\n",
              "if (notebookContainer) {{\n",
              "    x.observe(notebookContainer, {childList: true});\n",
              "}}\n",
              "\n",
              "// Listen for the clearing of the current output cell\n",
              "var outputEl = gd.closest('.output');\n",
              "if (outputEl) {{\n",
              "    x.observe(outputEl, {childList: true});\n",
              "}}\n",
              "\n",
              "                        })                };                            </script>        </div>\n",
              "</body>\n",
              "</html>"
            ]
          },
          "metadata": {}
        }
      ]
    },
    {
      "cell_type": "markdown",
      "source": [
        "O gráfico de barras fornece uma representação clara das flutuações na produção global de biocombustíveis ao longo dos anos, conforme indicado pelos valores de desvio padrão. Essas variações sugerem diferentes taxas de crescimento da produção de biocombustíveis, que podem ser atribuídas a condições de mercado, mudanças de política ou avanços em tecnologias de biocombustíveis. O gráfico serve como uma ferramenta importante para investidores e formuladores de políticas entenderem a estabilidade e o risco associados ao mercado de biocombustíveis.\n",
        "\n",
        "\n",
        "\n",
        "\n",
        "\n",
        "---\n",
        "\n"
      ],
      "metadata": {
        "id": "teRAJpWfuX_T"
      }
    },
    {
      "cell_type": "code",
      "source": [
        "# Produção Total de Biocombustíveis\n",
        "\n",
        "entidades = df[df['Entity'].str.contains(\"World|OECD|G20|EU|America|Asia|Europe|Africa\")]\n",
        "biocombustiveis_total = entidades.groupby('Entity')['Biofuels Production - TWh - Total'].sum().sort_values(ascending=False).reset_index()\n",
        "print(biocombustiveis_total)"
      ],
      "metadata": {
        "colab": {
          "base_uri": "https://localhost:8080/"
        },
        "id": "zLSGzlc2uNLS",
        "outputId": "9221c26b-e957-4af9-cb25-9b4ddbb8c5d0"
      },
      "execution_count": null,
      "outputs": [
        {
          "output_type": "stream",
          "name": "stdout",
          "text": [
            "                           Entity  Biofuels Production - TWh - Total\n",
            "0                           World                       14871.722630\n",
            "1                       OECD (BP)                        8625.900712\n",
            "2                   Non-OECD (BP)                        6245.821969\n",
            "3              North America (BP)                        6063.099270\n",
            "4  South and Central America (BP)                        4751.962201\n",
            "5                     Europe (BP)                        2394.277545\n",
            "6             European Union (27)                        2289.419366\n",
            "7               Asia Pacific (BP)                        1632.946518\n",
            "8                     Africa (BP)                          23.887531\n"
          ]
        }
      ]
    },
    {
      "cell_type": "code",
      "source": [
        "fig = px.bar(biocombustiveis_total, y='Entity', x='Biofuels Production - TWh - Total',\n",
        "             title='Produção Total de Biocombustíveis',\n",
        "             labels={'Entity': 'Grupo', 'Biofuels Production - TWh - Total': 'Produção Total de Biocombustíveis (TWh)'},\n",
        "             color='Biofuels Production - TWh - Total', color_continuous_scale='viridis')\n",
        "\n",
        "fig.update_layout(yaxis={'categoryorder':'total ascending'})"
      ],
      "metadata": {
        "colab": {
          "base_uri": "https://localhost:8080/",
          "height": 542
        },
        "id": "uLF4LZ2wv5BL",
        "outputId": "0cb24bac-a1c6-4800-c782-e60f26a8a272"
      },
      "execution_count": null,
      "outputs": [
        {
          "output_type": "display_data",
          "data": {
            "text/html": [
              "<html>\n",
              "<head><meta charset=\"utf-8\" /></head>\n",
              "<body>\n",
              "    <div>            <script src=\"https://cdnjs.cloudflare.com/ajax/libs/mathjax/2.7.5/MathJax.js?config=TeX-AMS-MML_SVG\"></script><script type=\"text/javascript\">if (window.MathJax && window.MathJax.Hub && window.MathJax.Hub.Config) {window.MathJax.Hub.Config({SVG: {font: \"STIX-Web\"}});}</script>                <script type=\"text/javascript\">window.PlotlyConfig = {MathJaxConfig: 'local'};</script>\n",
              "        <script charset=\"utf-8\" src=\"https://cdn.plot.ly/plotly-2.35.2.min.js\"></script>                <div id=\"eca4dc75-7c00-49e6-aafc-cf6756dfad28\" class=\"plotly-graph-div\" style=\"height:525px; width:100%;\"></div>            <script type=\"text/javascript\">                                    window.PLOTLYENV=window.PLOTLYENV || {};                                    if (document.getElementById(\"eca4dc75-7c00-49e6-aafc-cf6756dfad28\")) {                    Plotly.newPlot(                        \"eca4dc75-7c00-49e6-aafc-cf6756dfad28\",                        [{\"alignmentgroup\":\"True\",\"hovertemplate\":\"Produ\\u00e7\\u00e3o Total de Biocombust\\u00edveis (TWh)=%{marker.color}\\u003cbr\\u003eGrupo=%{y}\\u003cextra\\u003e\\u003c\\u002fextra\\u003e\",\"legendgroup\":\"\",\"marker\":{\"color\":[14871.72263,8625.900712,6245.821969,6063.09927,4751.962201,2394.27754505,2289.41936585,1632.9465183,23.887530612],\"coloraxis\":\"coloraxis\",\"pattern\":{\"shape\":\"\"}},\"name\":\"\",\"offsetgroup\":\"\",\"orientation\":\"h\",\"showlegend\":false,\"textposition\":\"auto\",\"x\":[14871.72263,8625.900712,6245.821969,6063.09927,4751.962201,2394.27754505,2289.41936585,1632.9465183,23.887530612],\"xaxis\":\"x\",\"y\":[\"World\",\"OECD (BP)\",\"Non-OECD (BP)\",\"North America (BP)\",\"South and Central America (BP)\",\"Europe (BP)\",\"European Union (27)\",\"Asia Pacific (BP)\",\"Africa (BP)\"],\"yaxis\":\"y\",\"type\":\"bar\"}],                        {\"template\":{\"data\":{\"histogram2dcontour\":[{\"type\":\"histogram2dcontour\",\"colorbar\":{\"outlinewidth\":0,\"ticks\":\"\"},\"colorscale\":[[0.0,\"#0d0887\"],[0.1111111111111111,\"#46039f\"],[0.2222222222222222,\"#7201a8\"],[0.3333333333333333,\"#9c179e\"],[0.4444444444444444,\"#bd3786\"],[0.5555555555555556,\"#d8576b\"],[0.6666666666666666,\"#ed7953\"],[0.7777777777777778,\"#fb9f3a\"],[0.8888888888888888,\"#fdca26\"],[1.0,\"#f0f921\"]]}],\"choropleth\":[{\"type\":\"choropleth\",\"colorbar\":{\"outlinewidth\":0,\"ticks\":\"\"}}],\"histogram2d\":[{\"type\":\"histogram2d\",\"colorbar\":{\"outlinewidth\":0,\"ticks\":\"\"},\"colorscale\":[[0.0,\"#0d0887\"],[0.1111111111111111,\"#46039f\"],[0.2222222222222222,\"#7201a8\"],[0.3333333333333333,\"#9c179e\"],[0.4444444444444444,\"#bd3786\"],[0.5555555555555556,\"#d8576b\"],[0.6666666666666666,\"#ed7953\"],[0.7777777777777778,\"#fb9f3a\"],[0.8888888888888888,\"#fdca26\"],[1.0,\"#f0f921\"]]}],\"heatmap\":[{\"type\":\"heatmap\",\"colorbar\":{\"outlinewidth\":0,\"ticks\":\"\"},\"colorscale\":[[0.0,\"#0d0887\"],[0.1111111111111111,\"#46039f\"],[0.2222222222222222,\"#7201a8\"],[0.3333333333333333,\"#9c179e\"],[0.4444444444444444,\"#bd3786\"],[0.5555555555555556,\"#d8576b\"],[0.6666666666666666,\"#ed7953\"],[0.7777777777777778,\"#fb9f3a\"],[0.8888888888888888,\"#fdca26\"],[1.0,\"#f0f921\"]]}],\"heatmapgl\":[{\"type\":\"heatmapgl\",\"colorbar\":{\"outlinewidth\":0,\"ticks\":\"\"},\"colorscale\":[[0.0,\"#0d0887\"],[0.1111111111111111,\"#46039f\"],[0.2222222222222222,\"#7201a8\"],[0.3333333333333333,\"#9c179e\"],[0.4444444444444444,\"#bd3786\"],[0.5555555555555556,\"#d8576b\"],[0.6666666666666666,\"#ed7953\"],[0.7777777777777778,\"#fb9f3a\"],[0.8888888888888888,\"#fdca26\"],[1.0,\"#f0f921\"]]}],\"contourcarpet\":[{\"type\":\"contourcarpet\",\"colorbar\":{\"outlinewidth\":0,\"ticks\":\"\"}}],\"contour\":[{\"type\":\"contour\",\"colorbar\":{\"outlinewidth\":0,\"ticks\":\"\"},\"colorscale\":[[0.0,\"#0d0887\"],[0.1111111111111111,\"#46039f\"],[0.2222222222222222,\"#7201a8\"],[0.3333333333333333,\"#9c179e\"],[0.4444444444444444,\"#bd3786\"],[0.5555555555555556,\"#d8576b\"],[0.6666666666666666,\"#ed7953\"],[0.7777777777777778,\"#fb9f3a\"],[0.8888888888888888,\"#fdca26\"],[1.0,\"#f0f921\"]]}],\"surface\":[{\"type\":\"surface\",\"colorbar\":{\"outlinewidth\":0,\"ticks\":\"\"},\"colorscale\":[[0.0,\"#0d0887\"],[0.1111111111111111,\"#46039f\"],[0.2222222222222222,\"#7201a8\"],[0.3333333333333333,\"#9c179e\"],[0.4444444444444444,\"#bd3786\"],[0.5555555555555556,\"#d8576b\"],[0.6666666666666666,\"#ed7953\"],[0.7777777777777778,\"#fb9f3a\"],[0.8888888888888888,\"#fdca26\"],[1.0,\"#f0f921\"]]}],\"mesh3d\":[{\"type\":\"mesh3d\",\"colorbar\":{\"outlinewidth\":0,\"ticks\":\"\"}}],\"scatter\":[{\"fillpattern\":{\"fillmode\":\"overlay\",\"size\":10,\"solidity\":0.2},\"type\":\"scatter\"}],\"parcoords\":[{\"type\":\"parcoords\",\"line\":{\"colorbar\":{\"outlinewidth\":0,\"ticks\":\"\"}}}],\"scatterpolargl\":[{\"type\":\"scatterpolargl\",\"marker\":{\"colorbar\":{\"outlinewidth\":0,\"ticks\":\"\"}}}],\"bar\":[{\"error_x\":{\"color\":\"#2a3f5f\"},\"error_y\":{\"color\":\"#2a3f5f\"},\"marker\":{\"line\":{\"color\":\"#E5ECF6\",\"width\":0.5},\"pattern\":{\"fillmode\":\"overlay\",\"size\":10,\"solidity\":0.2}},\"type\":\"bar\"}],\"scattergeo\":[{\"type\":\"scattergeo\",\"marker\":{\"colorbar\":{\"outlinewidth\":0,\"ticks\":\"\"}}}],\"scatterpolar\":[{\"type\":\"scatterpolar\",\"marker\":{\"colorbar\":{\"outlinewidth\":0,\"ticks\":\"\"}}}],\"histogram\":[{\"marker\":{\"pattern\":{\"fillmode\":\"overlay\",\"size\":10,\"solidity\":0.2}},\"type\":\"histogram\"}],\"scattergl\":[{\"type\":\"scattergl\",\"marker\":{\"colorbar\":{\"outlinewidth\":0,\"ticks\":\"\"}}}],\"scatter3d\":[{\"type\":\"scatter3d\",\"line\":{\"colorbar\":{\"outlinewidth\":0,\"ticks\":\"\"}},\"marker\":{\"colorbar\":{\"outlinewidth\":0,\"ticks\":\"\"}}}],\"scattermapbox\":[{\"type\":\"scattermapbox\",\"marker\":{\"colorbar\":{\"outlinewidth\":0,\"ticks\":\"\"}}}],\"scatterternary\":[{\"type\":\"scatterternary\",\"marker\":{\"colorbar\":{\"outlinewidth\":0,\"ticks\":\"\"}}}],\"scattercarpet\":[{\"type\":\"scattercarpet\",\"marker\":{\"colorbar\":{\"outlinewidth\":0,\"ticks\":\"\"}}}],\"carpet\":[{\"aaxis\":{\"endlinecolor\":\"#2a3f5f\",\"gridcolor\":\"white\",\"linecolor\":\"white\",\"minorgridcolor\":\"white\",\"startlinecolor\":\"#2a3f5f\"},\"baxis\":{\"endlinecolor\":\"#2a3f5f\",\"gridcolor\":\"white\",\"linecolor\":\"white\",\"minorgridcolor\":\"white\",\"startlinecolor\":\"#2a3f5f\"},\"type\":\"carpet\"}],\"table\":[{\"cells\":{\"fill\":{\"color\":\"#EBF0F8\"},\"line\":{\"color\":\"white\"}},\"header\":{\"fill\":{\"color\":\"#C8D4E3\"},\"line\":{\"color\":\"white\"}},\"type\":\"table\"}],\"barpolar\":[{\"marker\":{\"line\":{\"color\":\"#E5ECF6\",\"width\":0.5},\"pattern\":{\"fillmode\":\"overlay\",\"size\":10,\"solidity\":0.2}},\"type\":\"barpolar\"}],\"pie\":[{\"automargin\":true,\"type\":\"pie\"}]},\"layout\":{\"autotypenumbers\":\"strict\",\"colorway\":[\"#636efa\",\"#EF553B\",\"#00cc96\",\"#ab63fa\",\"#FFA15A\",\"#19d3f3\",\"#FF6692\",\"#B6E880\",\"#FF97FF\",\"#FECB52\"],\"font\":{\"color\":\"#2a3f5f\"},\"hovermode\":\"closest\",\"hoverlabel\":{\"align\":\"left\"},\"paper_bgcolor\":\"white\",\"plot_bgcolor\":\"#E5ECF6\",\"polar\":{\"bgcolor\":\"#E5ECF6\",\"angularaxis\":{\"gridcolor\":\"white\",\"linecolor\":\"white\",\"ticks\":\"\"},\"radialaxis\":{\"gridcolor\":\"white\",\"linecolor\":\"white\",\"ticks\":\"\"}},\"ternary\":{\"bgcolor\":\"#E5ECF6\",\"aaxis\":{\"gridcolor\":\"white\",\"linecolor\":\"white\",\"ticks\":\"\"},\"baxis\":{\"gridcolor\":\"white\",\"linecolor\":\"white\",\"ticks\":\"\"},\"caxis\":{\"gridcolor\":\"white\",\"linecolor\":\"white\",\"ticks\":\"\"}},\"coloraxis\":{\"colorbar\":{\"outlinewidth\":0,\"ticks\":\"\"}},\"colorscale\":{\"sequential\":[[0.0,\"#0d0887\"],[0.1111111111111111,\"#46039f\"],[0.2222222222222222,\"#7201a8\"],[0.3333333333333333,\"#9c179e\"],[0.4444444444444444,\"#bd3786\"],[0.5555555555555556,\"#d8576b\"],[0.6666666666666666,\"#ed7953\"],[0.7777777777777778,\"#fb9f3a\"],[0.8888888888888888,\"#fdca26\"],[1.0,\"#f0f921\"]],\"sequentialminus\":[[0.0,\"#0d0887\"],[0.1111111111111111,\"#46039f\"],[0.2222222222222222,\"#7201a8\"],[0.3333333333333333,\"#9c179e\"],[0.4444444444444444,\"#bd3786\"],[0.5555555555555556,\"#d8576b\"],[0.6666666666666666,\"#ed7953\"],[0.7777777777777778,\"#fb9f3a\"],[0.8888888888888888,\"#fdca26\"],[1.0,\"#f0f921\"]],\"diverging\":[[0,\"#8e0152\"],[0.1,\"#c51b7d\"],[0.2,\"#de77ae\"],[0.3,\"#f1b6da\"],[0.4,\"#fde0ef\"],[0.5,\"#f7f7f7\"],[0.6,\"#e6f5d0\"],[0.7,\"#b8e186\"],[0.8,\"#7fbc41\"],[0.9,\"#4d9221\"],[1,\"#276419\"]]},\"xaxis\":{\"gridcolor\":\"white\",\"linecolor\":\"white\",\"ticks\":\"\",\"title\":{\"standoff\":15},\"zerolinecolor\":\"white\",\"automargin\":true,\"zerolinewidth\":2},\"yaxis\":{\"gridcolor\":\"white\",\"linecolor\":\"white\",\"ticks\":\"\",\"title\":{\"standoff\":15},\"zerolinecolor\":\"white\",\"automargin\":true,\"zerolinewidth\":2},\"scene\":{\"xaxis\":{\"backgroundcolor\":\"#E5ECF6\",\"gridcolor\":\"white\",\"linecolor\":\"white\",\"showbackground\":true,\"ticks\":\"\",\"zerolinecolor\":\"white\",\"gridwidth\":2},\"yaxis\":{\"backgroundcolor\":\"#E5ECF6\",\"gridcolor\":\"white\",\"linecolor\":\"white\",\"showbackground\":true,\"ticks\":\"\",\"zerolinecolor\":\"white\",\"gridwidth\":2},\"zaxis\":{\"backgroundcolor\":\"#E5ECF6\",\"gridcolor\":\"white\",\"linecolor\":\"white\",\"showbackground\":true,\"ticks\":\"\",\"zerolinecolor\":\"white\",\"gridwidth\":2}},\"shapedefaults\":{\"line\":{\"color\":\"#2a3f5f\"}},\"annotationdefaults\":{\"arrowcolor\":\"#2a3f5f\",\"arrowhead\":0,\"arrowwidth\":1},\"geo\":{\"bgcolor\":\"white\",\"landcolor\":\"#E5ECF6\",\"subunitcolor\":\"white\",\"showland\":true,\"showlakes\":true,\"lakecolor\":\"white\"},\"title\":{\"x\":0.05},\"mapbox\":{\"style\":\"light\"}}},\"xaxis\":{\"anchor\":\"y\",\"domain\":[0.0,1.0],\"title\":{\"text\":\"Produ\\u00e7\\u00e3o Total de Biocombust\\u00edveis (TWh)\"}},\"yaxis\":{\"anchor\":\"x\",\"domain\":[0.0,1.0],\"title\":{\"text\":\"Grupo\"},\"categoryorder\":\"total ascending\"},\"coloraxis\":{\"colorbar\":{\"title\":{\"text\":\"Produ\\u00e7\\u00e3o Total de Biocombust\\u00edveis (TWh)\"}},\"colorscale\":[[0.0,\"#440154\"],[0.1111111111111111,\"#482878\"],[0.2222222222222222,\"#3e4989\"],[0.3333333333333333,\"#31688e\"],[0.4444444444444444,\"#26828e\"],[0.5555555555555556,\"#1f9e89\"],[0.6666666666666666,\"#35b779\"],[0.7777777777777778,\"#6ece58\"],[0.8888888888888888,\"#b5de2b\"],[1.0,\"#fde725\"]]},\"legend\":{\"tracegroupgap\":0},\"title\":{\"text\":\"Produ\\u00e7\\u00e3o Total de Biocombust\\u00edveis\"},\"barmode\":\"relative\"},                        {\"responsive\": true}                    ).then(function(){\n",
              "                            \n",
              "var gd = document.getElementById('eca4dc75-7c00-49e6-aafc-cf6756dfad28');\n",
              "var x = new MutationObserver(function (mutations, observer) {{\n",
              "        var display = window.getComputedStyle(gd).display;\n",
              "        if (!display || display === 'none') {{\n",
              "            console.log([gd, 'removed!']);\n",
              "            Plotly.purge(gd);\n",
              "            observer.disconnect();\n",
              "        }}\n",
              "}});\n",
              "\n",
              "// Listen for the removal of the full notebook cells\n",
              "var notebookContainer = gd.closest('#notebook-container');\n",
              "if (notebookContainer) {{\n",
              "    x.observe(notebookContainer, {childList: true});\n",
              "}}\n",
              "\n",
              "// Listen for the clearing of the current output cell\n",
              "var outputEl = gd.closest('.output');\n",
              "if (outputEl) {{\n",
              "    x.observe(outputEl, {childList: true});\n",
              "}}\n",
              "\n",
              "                        })                };                            </script>        </div>\n",
              "</body>\n",
              "</html>"
            ]
          },
          "metadata": {}
        }
      ]
    },
    {
      "cell_type": "markdown",
      "source": [
        "Este gráfico de barras captura sucintamente a hierarquia da produção de biocombustíveis por principais entidades e regiões globais. A escala de cores gradiente, em transição de roxo para verde, guia visualmente o observador por vários níveis de produção de biocombustíveis, destacando o domínio de certos grupos. Notavelmente, a ordem decrescente mostra uma disparidade gritante na produção, refletindo a concentração da geração de biocombustíveis em áreas específicas. Esta visualização destaca a importância das alianças geopolíticas e econômicas na condução das capacidades de produção de biocombustíveis em todo o mundo.\n",
        "\n",
        "---\n",
        "\n"
      ],
      "metadata": {
        "id": "EV59pYGawu-e"
      }
    },
    {
      "cell_type": "code",
      "source": [
        "# Produção de Biocombustíveis na América do Sul e Central ao longo do tempo\n",
        "\n",
        "biocombustivel_latino = df[df['Entity'] == 'South and Central America (BP)']\n",
        "print(biocombustivel_latino)"
      ],
      "metadata": {
        "colab": {
          "base_uri": "https://localhost:8080/"
        },
        "id": "OuA8QKXdwx4P",
        "outputId": "3b6c874e-4c17-423f-b848-6fa71f12e4d4"
      },
      "execution_count": null,
      "outputs": [
        {
          "output_type": "stream",
          "name": "stdout",
          "text": [
            "                             Entity  Year  Biofuels Production - TWh - Total\n",
            "857  South and Central America (BP)  1990                          65.812126\n",
            "858  South and Central America (BP)  1991                          73.699990\n",
            "859  South and Central America (BP)  1992                          67.547660\n",
            "860  South and Central America (BP)  1993                          65.395775\n",
            "861  South and Central America (BP)  1994                          71.713806\n",
            "862  South and Central America (BP)  1995                          73.024290\n",
            "863  South and Central America (BP)  1996                          81.216484\n",
            "864  South and Central America (BP)  1997                          89.178270\n",
            "865  South and Central America (BP)  1998                          81.387665\n",
            "866  South and Central America (BP)  1999                          75.168510\n",
            "867  South and Central America (BP)  2000                          62.228620\n",
            "868  South and Central America (BP)  2001                          66.813805\n",
            "869  South and Central America (BP)  2002                          74.304140\n",
            "870  South and Central America (BP)  2003                          85.826440\n",
            "871  South and Central America (BP)  2004                          86.499420\n",
            "872  South and Central America (BP)  2005                          94.670120\n",
            "873  South and Central America (BP)  2006                         108.063460\n",
            "874  South and Central America (BP)  2007                         140.736860\n",
            "875  South and Central America (BP)  2008                         180.333010\n",
            "876  South and Central America (BP)  2009                         181.267010\n",
            "877  South and Central America (BP)  2010                         208.823040\n",
            "878  South and Central America (BP)  2011                         191.589660\n",
            "879  South and Central America (BP)  2012                         196.561500\n",
            "880  South and Central America (BP)  2013                         220.825440\n",
            "881  South and Central America (BP)  2014                         238.196760\n",
            "882  South and Central America (BP)  2015                         245.575780\n",
            "883  South and Central America (BP)  2016                         243.639280\n",
            "884  South and Central America (BP)  2017                         247.706070\n",
            "885  South and Central America (BP)  2018                         285.661100\n",
            "886  South and Central America (BP)  2019                         299.175750\n",
            "887  South and Central America (BP)  2020                         276.780200\n",
            "888  South and Central America (BP)  2021                         272.540160\n"
          ]
        }
      ]
    },
    {
      "cell_type": "code",
      "source": [
        "frames = [go.Frame(\n",
        "    data=[go.Scatter(x=biocombustivel_latino['Year'][:k+1], y=biocombustivel_latino['Biofuels Production - TWh - Total'][:k+1], mode='lines+markers')],\n",
        "    layout=go.Layout(title_text=f'Biofuel Production in the United States ({year})')\n",
        ") for k, year in enumerate(biocombustivel_latino['Year'])]\n",
        "\n",
        "initial_frame = go.Frame(\n",
        "    data=[go.Scatter(x=[biocombustivel_latino['Year'].iloc[0]], y=[biocombustivel_latino['Biofuels Production - TWh - Total'].iloc[0]], mode='markers')],\n",
        "    layout=go.Layout(title_text='Produção de Biocombustíveis na América do Sul e Central (1990 - 2021)')\n",
        ")\n",
        "frames.insert(0, initial_frame)\n",
        "\n",
        "fig = go.Figure(\n",
        "    data=[go.Scatter(x=biocombustivel_latino['Year'], y=biocombustivel_latino['Biofuels Production - TWh - Total'], mode='lines+markers')],\n",
        "    layout=go.Layout(\n",
        "        xaxis=dict(range=[biocombustivel_latino['Year'].min(), biocombustivel_latino['Year'].max()], autorange=False),\n",
        "        yaxis=dict(range=[0, biocombustivel_latino['Biofuels Production - TWh - Total'].max() + biocombustivel_latino['Biofuels Production - TWh - Total'].max()*0.1], autorange=False),\n",
        "        title=\"Produção de Biocombustíveis na América do Sul e Central (1990 - 2021)\",\n",
        "        updatemenus=[dict(\n",
        "            type=\"buttons\",\n",
        "            buttons=[dict(label=\"Play\",\n",
        "                          method=\"animate\",\n",
        "                          args=[None])])]\n",
        "    ),\n",
        "    frames=frames\n",
        ")\n",
        "\n",
        "fig.show()"
      ],
      "metadata": {
        "colab": {
          "base_uri": "https://localhost:8080/",
          "height": 542
        },
        "id": "SJGcSSV6x6HD",
        "outputId": "8b041794-2b22-4e75-ef19-75fee897e231"
      },
      "execution_count": null,
      "outputs": [
        {
          "output_type": "display_data",
          "data": {
            "text/html": [
              "<html>\n",
              "<head><meta charset=\"utf-8\" /></head>\n",
              "<body>\n",
              "    <div>            <script src=\"https://cdnjs.cloudflare.com/ajax/libs/mathjax/2.7.5/MathJax.js?config=TeX-AMS-MML_SVG\"></script><script type=\"text/javascript\">if (window.MathJax && window.MathJax.Hub && window.MathJax.Hub.Config) {window.MathJax.Hub.Config({SVG: {font: \"STIX-Web\"}});}</script>                <script type=\"text/javascript\">window.PlotlyConfig = {MathJaxConfig: 'local'};</script>\n",
              "        <script charset=\"utf-8\" src=\"https://cdn.plot.ly/plotly-2.35.2.min.js\"></script>                <div id=\"6ce31862-18c8-48ae-a483-a3f3bbb659d2\" class=\"plotly-graph-div\" style=\"height:525px; width:100%;\"></div>            <script type=\"text/javascript\">                                    window.PLOTLYENV=window.PLOTLYENV || {};                                    if (document.getElementById(\"6ce31862-18c8-48ae-a483-a3f3bbb659d2\")) {                    Plotly.newPlot(                        \"6ce31862-18c8-48ae-a483-a3f3bbb659d2\",                        [{\"mode\":\"lines+markers\",\"x\":[1990,1991,1992,1993,1994,1995,1996,1997,1998,1999,2000,2001,2002,2003,2004,2005,2006,2007,2008,2009,2010,2011,2012,2013,2014,2015,2016,2017,2018,2019,2020,2021],\"y\":[65.812126,73.69999,67.54766,65.395775,71.713806,73.02429,81.216484,89.17827,81.387665,75.16851,62.22862,66.813805,74.30414,85.82644,86.49942,94.67012,108.06346,140.73686,180.33301,181.26701,208.82304,191.58966,196.5615,220.82544,238.19676,245.57578,243.63928,247.70607,285.6611,299.17575,276.7802,272.54016],\"type\":\"scatter\"}],                        {\"title\":{\"text\":\"Produ\\u00e7\\u00e3o de Biocombust\\u00edveis na Am\\u00e9rica do Sul e Central (1990 - 2021)\"},\"updatemenus\":[{\"buttons\":[{\"args\":[null],\"label\":\"Play\",\"method\":\"animate\"}],\"type\":\"buttons\"}],\"xaxis\":{\"autorange\":false,\"range\":[1990,2021]},\"yaxis\":{\"autorange\":false,\"range\":[0,329.093325]},\"template\":{\"data\":{\"histogram2dcontour\":[{\"type\":\"histogram2dcontour\",\"colorbar\":{\"outlinewidth\":0,\"ticks\":\"\"},\"colorscale\":[[0.0,\"#0d0887\"],[0.1111111111111111,\"#46039f\"],[0.2222222222222222,\"#7201a8\"],[0.3333333333333333,\"#9c179e\"],[0.4444444444444444,\"#bd3786\"],[0.5555555555555556,\"#d8576b\"],[0.6666666666666666,\"#ed7953\"],[0.7777777777777778,\"#fb9f3a\"],[0.8888888888888888,\"#fdca26\"],[1.0,\"#f0f921\"]]}],\"choropleth\":[{\"type\":\"choropleth\",\"colorbar\":{\"outlinewidth\":0,\"ticks\":\"\"}}],\"histogram2d\":[{\"type\":\"histogram2d\",\"colorbar\":{\"outlinewidth\":0,\"ticks\":\"\"},\"colorscale\":[[0.0,\"#0d0887\"],[0.1111111111111111,\"#46039f\"],[0.2222222222222222,\"#7201a8\"],[0.3333333333333333,\"#9c179e\"],[0.4444444444444444,\"#bd3786\"],[0.5555555555555556,\"#d8576b\"],[0.6666666666666666,\"#ed7953\"],[0.7777777777777778,\"#fb9f3a\"],[0.8888888888888888,\"#fdca26\"],[1.0,\"#f0f921\"]]}],\"heatmap\":[{\"type\":\"heatmap\",\"colorbar\":{\"outlinewidth\":0,\"ticks\":\"\"},\"colorscale\":[[0.0,\"#0d0887\"],[0.1111111111111111,\"#46039f\"],[0.2222222222222222,\"#7201a8\"],[0.3333333333333333,\"#9c179e\"],[0.4444444444444444,\"#bd3786\"],[0.5555555555555556,\"#d8576b\"],[0.6666666666666666,\"#ed7953\"],[0.7777777777777778,\"#fb9f3a\"],[0.8888888888888888,\"#fdca26\"],[1.0,\"#f0f921\"]]}],\"heatmapgl\":[{\"type\":\"heatmapgl\",\"colorbar\":{\"outlinewidth\":0,\"ticks\":\"\"},\"colorscale\":[[0.0,\"#0d0887\"],[0.1111111111111111,\"#46039f\"],[0.2222222222222222,\"#7201a8\"],[0.3333333333333333,\"#9c179e\"],[0.4444444444444444,\"#bd3786\"],[0.5555555555555556,\"#d8576b\"],[0.6666666666666666,\"#ed7953\"],[0.7777777777777778,\"#fb9f3a\"],[0.8888888888888888,\"#fdca26\"],[1.0,\"#f0f921\"]]}],\"contourcarpet\":[{\"type\":\"contourcarpet\",\"colorbar\":{\"outlinewidth\":0,\"ticks\":\"\"}}],\"contour\":[{\"type\":\"contour\",\"colorbar\":{\"outlinewidth\":0,\"ticks\":\"\"},\"colorscale\":[[0.0,\"#0d0887\"],[0.1111111111111111,\"#46039f\"],[0.2222222222222222,\"#7201a8\"],[0.3333333333333333,\"#9c179e\"],[0.4444444444444444,\"#bd3786\"],[0.5555555555555556,\"#d8576b\"],[0.6666666666666666,\"#ed7953\"],[0.7777777777777778,\"#fb9f3a\"],[0.8888888888888888,\"#fdca26\"],[1.0,\"#f0f921\"]]}],\"surface\":[{\"type\":\"surface\",\"colorbar\":{\"outlinewidth\":0,\"ticks\":\"\"},\"colorscale\":[[0.0,\"#0d0887\"],[0.1111111111111111,\"#46039f\"],[0.2222222222222222,\"#7201a8\"],[0.3333333333333333,\"#9c179e\"],[0.4444444444444444,\"#bd3786\"],[0.5555555555555556,\"#d8576b\"],[0.6666666666666666,\"#ed7953\"],[0.7777777777777778,\"#fb9f3a\"],[0.8888888888888888,\"#fdca26\"],[1.0,\"#f0f921\"]]}],\"mesh3d\":[{\"type\":\"mesh3d\",\"colorbar\":{\"outlinewidth\":0,\"ticks\":\"\"}}],\"scatter\":[{\"fillpattern\":{\"fillmode\":\"overlay\",\"size\":10,\"solidity\":0.2},\"type\":\"scatter\"}],\"parcoords\":[{\"type\":\"parcoords\",\"line\":{\"colorbar\":{\"outlinewidth\":0,\"ticks\":\"\"}}}],\"scatterpolargl\":[{\"type\":\"scatterpolargl\",\"marker\":{\"colorbar\":{\"outlinewidth\":0,\"ticks\":\"\"}}}],\"bar\":[{\"error_x\":{\"color\":\"#2a3f5f\"},\"error_y\":{\"color\":\"#2a3f5f\"},\"marker\":{\"line\":{\"color\":\"#E5ECF6\",\"width\":0.5},\"pattern\":{\"fillmode\":\"overlay\",\"size\":10,\"solidity\":0.2}},\"type\":\"bar\"}],\"scattergeo\":[{\"type\":\"scattergeo\",\"marker\":{\"colorbar\":{\"outlinewidth\":0,\"ticks\":\"\"}}}],\"scatterpolar\":[{\"type\":\"scatterpolar\",\"marker\":{\"colorbar\":{\"outlinewidth\":0,\"ticks\":\"\"}}}],\"histogram\":[{\"marker\":{\"pattern\":{\"fillmode\":\"overlay\",\"size\":10,\"solidity\":0.2}},\"type\":\"histogram\"}],\"scattergl\":[{\"type\":\"scattergl\",\"marker\":{\"colorbar\":{\"outlinewidth\":0,\"ticks\":\"\"}}}],\"scatter3d\":[{\"type\":\"scatter3d\",\"line\":{\"colorbar\":{\"outlinewidth\":0,\"ticks\":\"\"}},\"marker\":{\"colorbar\":{\"outlinewidth\":0,\"ticks\":\"\"}}}],\"scattermapbox\":[{\"type\":\"scattermapbox\",\"marker\":{\"colorbar\":{\"outlinewidth\":0,\"ticks\":\"\"}}}],\"scatterternary\":[{\"type\":\"scatterternary\",\"marker\":{\"colorbar\":{\"outlinewidth\":0,\"ticks\":\"\"}}}],\"scattercarpet\":[{\"type\":\"scattercarpet\",\"marker\":{\"colorbar\":{\"outlinewidth\":0,\"ticks\":\"\"}}}],\"carpet\":[{\"aaxis\":{\"endlinecolor\":\"#2a3f5f\",\"gridcolor\":\"white\",\"linecolor\":\"white\",\"minorgridcolor\":\"white\",\"startlinecolor\":\"#2a3f5f\"},\"baxis\":{\"endlinecolor\":\"#2a3f5f\",\"gridcolor\":\"white\",\"linecolor\":\"white\",\"minorgridcolor\":\"white\",\"startlinecolor\":\"#2a3f5f\"},\"type\":\"carpet\"}],\"table\":[{\"cells\":{\"fill\":{\"color\":\"#EBF0F8\"},\"line\":{\"color\":\"white\"}},\"header\":{\"fill\":{\"color\":\"#C8D4E3\"},\"line\":{\"color\":\"white\"}},\"type\":\"table\"}],\"barpolar\":[{\"marker\":{\"line\":{\"color\":\"#E5ECF6\",\"width\":0.5},\"pattern\":{\"fillmode\":\"overlay\",\"size\":10,\"solidity\":0.2}},\"type\":\"barpolar\"}],\"pie\":[{\"automargin\":true,\"type\":\"pie\"}]},\"layout\":{\"autotypenumbers\":\"strict\",\"colorway\":[\"#636efa\",\"#EF553B\",\"#00cc96\",\"#ab63fa\",\"#FFA15A\",\"#19d3f3\",\"#FF6692\",\"#B6E880\",\"#FF97FF\",\"#FECB52\"],\"font\":{\"color\":\"#2a3f5f\"},\"hovermode\":\"closest\",\"hoverlabel\":{\"align\":\"left\"},\"paper_bgcolor\":\"white\",\"plot_bgcolor\":\"#E5ECF6\",\"polar\":{\"bgcolor\":\"#E5ECF6\",\"angularaxis\":{\"gridcolor\":\"white\",\"linecolor\":\"white\",\"ticks\":\"\"},\"radialaxis\":{\"gridcolor\":\"white\",\"linecolor\":\"white\",\"ticks\":\"\"}},\"ternary\":{\"bgcolor\":\"#E5ECF6\",\"aaxis\":{\"gridcolor\":\"white\",\"linecolor\":\"white\",\"ticks\":\"\"},\"baxis\":{\"gridcolor\":\"white\",\"linecolor\":\"white\",\"ticks\":\"\"},\"caxis\":{\"gridcolor\":\"white\",\"linecolor\":\"white\",\"ticks\":\"\"}},\"coloraxis\":{\"colorbar\":{\"outlinewidth\":0,\"ticks\":\"\"}},\"colorscale\":{\"sequential\":[[0.0,\"#0d0887\"],[0.1111111111111111,\"#46039f\"],[0.2222222222222222,\"#7201a8\"],[0.3333333333333333,\"#9c179e\"],[0.4444444444444444,\"#bd3786\"],[0.5555555555555556,\"#d8576b\"],[0.6666666666666666,\"#ed7953\"],[0.7777777777777778,\"#fb9f3a\"],[0.8888888888888888,\"#fdca26\"],[1.0,\"#f0f921\"]],\"sequentialminus\":[[0.0,\"#0d0887\"],[0.1111111111111111,\"#46039f\"],[0.2222222222222222,\"#7201a8\"],[0.3333333333333333,\"#9c179e\"],[0.4444444444444444,\"#bd3786\"],[0.5555555555555556,\"#d8576b\"],[0.6666666666666666,\"#ed7953\"],[0.7777777777777778,\"#fb9f3a\"],[0.8888888888888888,\"#fdca26\"],[1.0,\"#f0f921\"]],\"diverging\":[[0,\"#8e0152\"],[0.1,\"#c51b7d\"],[0.2,\"#de77ae\"],[0.3,\"#f1b6da\"],[0.4,\"#fde0ef\"],[0.5,\"#f7f7f7\"],[0.6,\"#e6f5d0\"],[0.7,\"#b8e186\"],[0.8,\"#7fbc41\"],[0.9,\"#4d9221\"],[1,\"#276419\"]]},\"xaxis\":{\"gridcolor\":\"white\",\"linecolor\":\"white\",\"ticks\":\"\",\"title\":{\"standoff\":15},\"zerolinecolor\":\"white\",\"automargin\":true,\"zerolinewidth\":2},\"yaxis\":{\"gridcolor\":\"white\",\"linecolor\":\"white\",\"ticks\":\"\",\"title\":{\"standoff\":15},\"zerolinecolor\":\"white\",\"automargin\":true,\"zerolinewidth\":2},\"scene\":{\"xaxis\":{\"backgroundcolor\":\"#E5ECF6\",\"gridcolor\":\"white\",\"linecolor\":\"white\",\"showbackground\":true,\"ticks\":\"\",\"zerolinecolor\":\"white\",\"gridwidth\":2},\"yaxis\":{\"backgroundcolor\":\"#E5ECF6\",\"gridcolor\":\"white\",\"linecolor\":\"white\",\"showbackground\":true,\"ticks\":\"\",\"zerolinecolor\":\"white\",\"gridwidth\":2},\"zaxis\":{\"backgroundcolor\":\"#E5ECF6\",\"gridcolor\":\"white\",\"linecolor\":\"white\",\"showbackground\":true,\"ticks\":\"\",\"zerolinecolor\":\"white\",\"gridwidth\":2}},\"shapedefaults\":{\"line\":{\"color\":\"#2a3f5f\"}},\"annotationdefaults\":{\"arrowcolor\":\"#2a3f5f\",\"arrowhead\":0,\"arrowwidth\":1},\"geo\":{\"bgcolor\":\"white\",\"landcolor\":\"#E5ECF6\",\"subunitcolor\":\"white\",\"showland\":true,\"showlakes\":true,\"lakecolor\":\"white\"},\"title\":{\"x\":0.05},\"mapbox\":{\"style\":\"light\"}}}},                        {\"responsive\": true}                    ).then(function(){\n",
              "                            Plotly.addFrames('6ce31862-18c8-48ae-a483-a3f3bbb659d2', [{\"data\":[{\"mode\":\"markers\",\"x\":[1990],\"y\":[65.812126],\"type\":\"scatter\"}],\"layout\":{\"title\":{\"text\":\"Produ\\u00e7\\u00e3o de Biocombust\\u00edveis na Am\\u00e9rica do Sul e Central (1990 - 2021)\"}}},{\"data\":[{\"mode\":\"lines+markers\",\"x\":[1990],\"y\":[65.812126],\"type\":\"scatter\"}],\"layout\":{\"title\":{\"text\":\"Biofuel Production in the United States (1990)\"}}},{\"data\":[{\"mode\":\"lines+markers\",\"x\":[1990,1991],\"y\":[65.812126,73.69999],\"type\":\"scatter\"}],\"layout\":{\"title\":{\"text\":\"Biofuel Production in the United States (1991)\"}}},{\"data\":[{\"mode\":\"lines+markers\",\"x\":[1990,1991,1992],\"y\":[65.812126,73.69999,67.54766],\"type\":\"scatter\"}],\"layout\":{\"title\":{\"text\":\"Biofuel Production in the United States (1992)\"}}},{\"data\":[{\"mode\":\"lines+markers\",\"x\":[1990,1991,1992,1993],\"y\":[65.812126,73.69999,67.54766,65.395775],\"type\":\"scatter\"}],\"layout\":{\"title\":{\"text\":\"Biofuel Production in the United States (1993)\"}}},{\"data\":[{\"mode\":\"lines+markers\",\"x\":[1990,1991,1992,1993,1994],\"y\":[65.812126,73.69999,67.54766,65.395775,71.713806],\"type\":\"scatter\"}],\"layout\":{\"title\":{\"text\":\"Biofuel Production in the United States (1994)\"}}},{\"data\":[{\"mode\":\"lines+markers\",\"x\":[1990,1991,1992,1993,1994,1995],\"y\":[65.812126,73.69999,67.54766,65.395775,71.713806,73.02429],\"type\":\"scatter\"}],\"layout\":{\"title\":{\"text\":\"Biofuel Production in the United States (1995)\"}}},{\"data\":[{\"mode\":\"lines+markers\",\"x\":[1990,1991,1992,1993,1994,1995,1996],\"y\":[65.812126,73.69999,67.54766,65.395775,71.713806,73.02429,81.216484],\"type\":\"scatter\"}],\"layout\":{\"title\":{\"text\":\"Biofuel Production in the United States (1996)\"}}},{\"data\":[{\"mode\":\"lines+markers\",\"x\":[1990,1991,1992,1993,1994,1995,1996,1997],\"y\":[65.812126,73.69999,67.54766,65.395775,71.713806,73.02429,81.216484,89.17827],\"type\":\"scatter\"}],\"layout\":{\"title\":{\"text\":\"Biofuel Production in the United States (1997)\"}}},{\"data\":[{\"mode\":\"lines+markers\",\"x\":[1990,1991,1992,1993,1994,1995,1996,1997,1998],\"y\":[65.812126,73.69999,67.54766,65.395775,71.713806,73.02429,81.216484,89.17827,81.387665],\"type\":\"scatter\"}],\"layout\":{\"title\":{\"text\":\"Biofuel Production in the United States (1998)\"}}},{\"data\":[{\"mode\":\"lines+markers\",\"x\":[1990,1991,1992,1993,1994,1995,1996,1997,1998,1999],\"y\":[65.812126,73.69999,67.54766,65.395775,71.713806,73.02429,81.216484,89.17827,81.387665,75.16851],\"type\":\"scatter\"}],\"layout\":{\"title\":{\"text\":\"Biofuel Production in the United States (1999)\"}}},{\"data\":[{\"mode\":\"lines+markers\",\"x\":[1990,1991,1992,1993,1994,1995,1996,1997,1998,1999,2000],\"y\":[65.812126,73.69999,67.54766,65.395775,71.713806,73.02429,81.216484,89.17827,81.387665,75.16851,62.22862],\"type\":\"scatter\"}],\"layout\":{\"title\":{\"text\":\"Biofuel Production in the United States (2000)\"}}},{\"data\":[{\"mode\":\"lines+markers\",\"x\":[1990,1991,1992,1993,1994,1995,1996,1997,1998,1999,2000,2001],\"y\":[65.812126,73.69999,67.54766,65.395775,71.713806,73.02429,81.216484,89.17827,81.387665,75.16851,62.22862,66.813805],\"type\":\"scatter\"}],\"layout\":{\"title\":{\"text\":\"Biofuel Production in the United States (2001)\"}}},{\"data\":[{\"mode\":\"lines+markers\",\"x\":[1990,1991,1992,1993,1994,1995,1996,1997,1998,1999,2000,2001,2002],\"y\":[65.812126,73.69999,67.54766,65.395775,71.713806,73.02429,81.216484,89.17827,81.387665,75.16851,62.22862,66.813805,74.30414],\"type\":\"scatter\"}],\"layout\":{\"title\":{\"text\":\"Biofuel Production in the United States (2002)\"}}},{\"data\":[{\"mode\":\"lines+markers\",\"x\":[1990,1991,1992,1993,1994,1995,1996,1997,1998,1999,2000,2001,2002,2003],\"y\":[65.812126,73.69999,67.54766,65.395775,71.713806,73.02429,81.216484,89.17827,81.387665,75.16851,62.22862,66.813805,74.30414,85.82644],\"type\":\"scatter\"}],\"layout\":{\"title\":{\"text\":\"Biofuel Production in the United States (2003)\"}}},{\"data\":[{\"mode\":\"lines+markers\",\"x\":[1990,1991,1992,1993,1994,1995,1996,1997,1998,1999,2000,2001,2002,2003,2004],\"y\":[65.812126,73.69999,67.54766,65.395775,71.713806,73.02429,81.216484,89.17827,81.387665,75.16851,62.22862,66.813805,74.30414,85.82644,86.49942],\"type\":\"scatter\"}],\"layout\":{\"title\":{\"text\":\"Biofuel Production in the United States (2004)\"}}},{\"data\":[{\"mode\":\"lines+markers\",\"x\":[1990,1991,1992,1993,1994,1995,1996,1997,1998,1999,2000,2001,2002,2003,2004,2005],\"y\":[65.812126,73.69999,67.54766,65.395775,71.713806,73.02429,81.216484,89.17827,81.387665,75.16851,62.22862,66.813805,74.30414,85.82644,86.49942,94.67012],\"type\":\"scatter\"}],\"layout\":{\"title\":{\"text\":\"Biofuel Production in the United States (2005)\"}}},{\"data\":[{\"mode\":\"lines+markers\",\"x\":[1990,1991,1992,1993,1994,1995,1996,1997,1998,1999,2000,2001,2002,2003,2004,2005,2006],\"y\":[65.812126,73.69999,67.54766,65.395775,71.713806,73.02429,81.216484,89.17827,81.387665,75.16851,62.22862,66.813805,74.30414,85.82644,86.49942,94.67012,108.06346],\"type\":\"scatter\"}],\"layout\":{\"title\":{\"text\":\"Biofuel Production in the United States (2006)\"}}},{\"data\":[{\"mode\":\"lines+markers\",\"x\":[1990,1991,1992,1993,1994,1995,1996,1997,1998,1999,2000,2001,2002,2003,2004,2005,2006,2007],\"y\":[65.812126,73.69999,67.54766,65.395775,71.713806,73.02429,81.216484,89.17827,81.387665,75.16851,62.22862,66.813805,74.30414,85.82644,86.49942,94.67012,108.06346,140.73686],\"type\":\"scatter\"}],\"layout\":{\"title\":{\"text\":\"Biofuel Production in the United States (2007)\"}}},{\"data\":[{\"mode\":\"lines+markers\",\"x\":[1990,1991,1992,1993,1994,1995,1996,1997,1998,1999,2000,2001,2002,2003,2004,2005,2006,2007,2008],\"y\":[65.812126,73.69999,67.54766,65.395775,71.713806,73.02429,81.216484,89.17827,81.387665,75.16851,62.22862,66.813805,74.30414,85.82644,86.49942,94.67012,108.06346,140.73686,180.33301],\"type\":\"scatter\"}],\"layout\":{\"title\":{\"text\":\"Biofuel Production in the United States (2008)\"}}},{\"data\":[{\"mode\":\"lines+markers\",\"x\":[1990,1991,1992,1993,1994,1995,1996,1997,1998,1999,2000,2001,2002,2003,2004,2005,2006,2007,2008,2009],\"y\":[65.812126,73.69999,67.54766,65.395775,71.713806,73.02429,81.216484,89.17827,81.387665,75.16851,62.22862,66.813805,74.30414,85.82644,86.49942,94.67012,108.06346,140.73686,180.33301,181.26701],\"type\":\"scatter\"}],\"layout\":{\"title\":{\"text\":\"Biofuel Production in the United States (2009)\"}}},{\"data\":[{\"mode\":\"lines+markers\",\"x\":[1990,1991,1992,1993,1994,1995,1996,1997,1998,1999,2000,2001,2002,2003,2004,2005,2006,2007,2008,2009,2010],\"y\":[65.812126,73.69999,67.54766,65.395775,71.713806,73.02429,81.216484,89.17827,81.387665,75.16851,62.22862,66.813805,74.30414,85.82644,86.49942,94.67012,108.06346,140.73686,180.33301,181.26701,208.82304],\"type\":\"scatter\"}],\"layout\":{\"title\":{\"text\":\"Biofuel Production in the United States (2010)\"}}},{\"data\":[{\"mode\":\"lines+markers\",\"x\":[1990,1991,1992,1993,1994,1995,1996,1997,1998,1999,2000,2001,2002,2003,2004,2005,2006,2007,2008,2009,2010,2011],\"y\":[65.812126,73.69999,67.54766,65.395775,71.713806,73.02429,81.216484,89.17827,81.387665,75.16851,62.22862,66.813805,74.30414,85.82644,86.49942,94.67012,108.06346,140.73686,180.33301,181.26701,208.82304,191.58966],\"type\":\"scatter\"}],\"layout\":{\"title\":{\"text\":\"Biofuel Production in the United States (2011)\"}}},{\"data\":[{\"mode\":\"lines+markers\",\"x\":[1990,1991,1992,1993,1994,1995,1996,1997,1998,1999,2000,2001,2002,2003,2004,2005,2006,2007,2008,2009,2010,2011,2012],\"y\":[65.812126,73.69999,67.54766,65.395775,71.713806,73.02429,81.216484,89.17827,81.387665,75.16851,62.22862,66.813805,74.30414,85.82644,86.49942,94.67012,108.06346,140.73686,180.33301,181.26701,208.82304,191.58966,196.5615],\"type\":\"scatter\"}],\"layout\":{\"title\":{\"text\":\"Biofuel Production in the United States (2012)\"}}},{\"data\":[{\"mode\":\"lines+markers\",\"x\":[1990,1991,1992,1993,1994,1995,1996,1997,1998,1999,2000,2001,2002,2003,2004,2005,2006,2007,2008,2009,2010,2011,2012,2013],\"y\":[65.812126,73.69999,67.54766,65.395775,71.713806,73.02429,81.216484,89.17827,81.387665,75.16851,62.22862,66.813805,74.30414,85.82644,86.49942,94.67012,108.06346,140.73686,180.33301,181.26701,208.82304,191.58966,196.5615,220.82544],\"type\":\"scatter\"}],\"layout\":{\"title\":{\"text\":\"Biofuel Production in the United States (2013)\"}}},{\"data\":[{\"mode\":\"lines+markers\",\"x\":[1990,1991,1992,1993,1994,1995,1996,1997,1998,1999,2000,2001,2002,2003,2004,2005,2006,2007,2008,2009,2010,2011,2012,2013,2014],\"y\":[65.812126,73.69999,67.54766,65.395775,71.713806,73.02429,81.216484,89.17827,81.387665,75.16851,62.22862,66.813805,74.30414,85.82644,86.49942,94.67012,108.06346,140.73686,180.33301,181.26701,208.82304,191.58966,196.5615,220.82544,238.19676],\"type\":\"scatter\"}],\"layout\":{\"title\":{\"text\":\"Biofuel Production in the United States (2014)\"}}},{\"data\":[{\"mode\":\"lines+markers\",\"x\":[1990,1991,1992,1993,1994,1995,1996,1997,1998,1999,2000,2001,2002,2003,2004,2005,2006,2007,2008,2009,2010,2011,2012,2013,2014,2015],\"y\":[65.812126,73.69999,67.54766,65.395775,71.713806,73.02429,81.216484,89.17827,81.387665,75.16851,62.22862,66.813805,74.30414,85.82644,86.49942,94.67012,108.06346,140.73686,180.33301,181.26701,208.82304,191.58966,196.5615,220.82544,238.19676,245.57578],\"type\":\"scatter\"}],\"layout\":{\"title\":{\"text\":\"Biofuel Production in the United States (2015)\"}}},{\"data\":[{\"mode\":\"lines+markers\",\"x\":[1990,1991,1992,1993,1994,1995,1996,1997,1998,1999,2000,2001,2002,2003,2004,2005,2006,2007,2008,2009,2010,2011,2012,2013,2014,2015,2016],\"y\":[65.812126,73.69999,67.54766,65.395775,71.713806,73.02429,81.216484,89.17827,81.387665,75.16851,62.22862,66.813805,74.30414,85.82644,86.49942,94.67012,108.06346,140.73686,180.33301,181.26701,208.82304,191.58966,196.5615,220.82544,238.19676,245.57578,243.63928],\"type\":\"scatter\"}],\"layout\":{\"title\":{\"text\":\"Biofuel Production in the United States (2016)\"}}},{\"data\":[{\"mode\":\"lines+markers\",\"x\":[1990,1991,1992,1993,1994,1995,1996,1997,1998,1999,2000,2001,2002,2003,2004,2005,2006,2007,2008,2009,2010,2011,2012,2013,2014,2015,2016,2017],\"y\":[65.812126,73.69999,67.54766,65.395775,71.713806,73.02429,81.216484,89.17827,81.387665,75.16851,62.22862,66.813805,74.30414,85.82644,86.49942,94.67012,108.06346,140.73686,180.33301,181.26701,208.82304,191.58966,196.5615,220.82544,238.19676,245.57578,243.63928,247.70607],\"type\":\"scatter\"}],\"layout\":{\"title\":{\"text\":\"Biofuel Production in the United States (2017)\"}}},{\"data\":[{\"mode\":\"lines+markers\",\"x\":[1990,1991,1992,1993,1994,1995,1996,1997,1998,1999,2000,2001,2002,2003,2004,2005,2006,2007,2008,2009,2010,2011,2012,2013,2014,2015,2016,2017,2018],\"y\":[65.812126,73.69999,67.54766,65.395775,71.713806,73.02429,81.216484,89.17827,81.387665,75.16851,62.22862,66.813805,74.30414,85.82644,86.49942,94.67012,108.06346,140.73686,180.33301,181.26701,208.82304,191.58966,196.5615,220.82544,238.19676,245.57578,243.63928,247.70607,285.6611],\"type\":\"scatter\"}],\"layout\":{\"title\":{\"text\":\"Biofuel Production in the United States (2018)\"}}},{\"data\":[{\"mode\":\"lines+markers\",\"x\":[1990,1991,1992,1993,1994,1995,1996,1997,1998,1999,2000,2001,2002,2003,2004,2005,2006,2007,2008,2009,2010,2011,2012,2013,2014,2015,2016,2017,2018,2019],\"y\":[65.812126,73.69999,67.54766,65.395775,71.713806,73.02429,81.216484,89.17827,81.387665,75.16851,62.22862,66.813805,74.30414,85.82644,86.49942,94.67012,108.06346,140.73686,180.33301,181.26701,208.82304,191.58966,196.5615,220.82544,238.19676,245.57578,243.63928,247.70607,285.6611,299.17575],\"type\":\"scatter\"}],\"layout\":{\"title\":{\"text\":\"Biofuel Production in the United States (2019)\"}}},{\"data\":[{\"mode\":\"lines+markers\",\"x\":[1990,1991,1992,1993,1994,1995,1996,1997,1998,1999,2000,2001,2002,2003,2004,2005,2006,2007,2008,2009,2010,2011,2012,2013,2014,2015,2016,2017,2018,2019,2020],\"y\":[65.812126,73.69999,67.54766,65.395775,71.713806,73.02429,81.216484,89.17827,81.387665,75.16851,62.22862,66.813805,74.30414,85.82644,86.49942,94.67012,108.06346,140.73686,180.33301,181.26701,208.82304,191.58966,196.5615,220.82544,238.19676,245.57578,243.63928,247.70607,285.6611,299.17575,276.7802],\"type\":\"scatter\"}],\"layout\":{\"title\":{\"text\":\"Biofuel Production in the United States (2020)\"}}},{\"data\":[{\"mode\":\"lines+markers\",\"x\":[1990,1991,1992,1993,1994,1995,1996,1997,1998,1999,2000,2001,2002,2003,2004,2005,2006,2007,2008,2009,2010,2011,2012,2013,2014,2015,2016,2017,2018,2019,2020,2021],\"y\":[65.812126,73.69999,67.54766,65.395775,71.713806,73.02429,81.216484,89.17827,81.387665,75.16851,62.22862,66.813805,74.30414,85.82644,86.49942,94.67012,108.06346,140.73686,180.33301,181.26701,208.82304,191.58966,196.5615,220.82544,238.19676,245.57578,243.63928,247.70607,285.6611,299.17575,276.7802,272.54016],\"type\":\"scatter\"}],\"layout\":{\"title\":{\"text\":\"Biofuel Production in the United States (2021)\"}}}]);\n",
              "                        }).then(function(){\n",
              "                            \n",
              "var gd = document.getElementById('6ce31862-18c8-48ae-a483-a3f3bbb659d2');\n",
              "var x = new MutationObserver(function (mutations, observer) {{\n",
              "        var display = window.getComputedStyle(gd).display;\n",
              "        if (!display || display === 'none') {{\n",
              "            console.log([gd, 'removed!']);\n",
              "            Plotly.purge(gd);\n",
              "            observer.disconnect();\n",
              "        }}\n",
              "}});\n",
              "\n",
              "// Listen for the removal of the full notebook cells\n",
              "var notebookContainer = gd.closest('#notebook-container');\n",
              "if (notebookContainer) {{\n",
              "    x.observe(notebookContainer, {childList: true});\n",
              "}}\n",
              "\n",
              "// Listen for the clearing of the current output cell\n",
              "var outputEl = gd.closest('.output');\n",
              "if (outputEl) {{\n",
              "    x.observe(outputEl, {childList: true});\n",
              "}}\n",
              "\n",
              "                        })                };                            </script>        </div>\n",
              "</body>\n",
              "</html>"
            ]
          },
          "metadata": {}
        }
      ]
    },
    {
      "cell_type": "markdown",
      "source": [
        "A progressão animada da produção de biocombustíveis da América Latina fornece uma narrativa perspicaz do crescimento dentro do setor. A trajetória crescente ao longo dos anos demonstra um aumento significativo na produção de biocombustíveis, refletindo o investimento do país em fontes de energia renováveis. O aspecto interativo da animação, com um recurso de botão de reprodução, permite que as partes interessadas observem as mudanças ano a ano, destacando os movimentos estratégicos da América LAtina em direção à produção de energia sustentável e seu papel na transição energética global.\n",
        "\n",
        "\n",
        "---\n",
        "\n"
      ],
      "metadata": {
        "id": "epC4Iz_qy31G"
      }
    },
    {
      "cell_type": "code",
      "source": [
        "# Produção global de biocombustíveis ao longo dos anos\n",
        "\n",
        "fig = px.scatter(\n",
        "    df,\n",
        "    x='Year',\n",
        "    y='Biofuels Production - TWh - Total',\n",
        "    title='Produção Global de Biocombustíveis Ao Longo dos Anos',\n",
        "    labels={'Biofuels Production - TWh - Total': 'Biofuels Production (TWh)', 'Year': 'Year'}\n",
        ")\n",
        "\n",
        "fig.update_layout(\n",
        "    xaxis_title='Ano',\n",
        "    yaxis_title='Produção de Biocombustíveis (TWh)',\n",
        "    xaxis=dict(showgrid=True),\n",
        "    yaxis=dict(showgrid=True)\n",
        ")"
      ],
      "metadata": {
        "colab": {
          "base_uri": "https://localhost:8080/",
          "height": 542
        },
        "id": "1XXiWswNzFYQ",
        "outputId": "f7f3e94e-ced1-40a0-e83a-db2d320cb0a8"
      },
      "execution_count": null,
      "outputs": [
        {
          "output_type": "display_data",
          "data": {
            "text/html": [
              "<html>\n",
              "<head><meta charset=\"utf-8\" /></head>\n",
              "<body>\n",
              "    <div>            <script src=\"https://cdnjs.cloudflare.com/ajax/libs/mathjax/2.7.5/MathJax.js?config=TeX-AMS-MML_SVG\"></script><script type=\"text/javascript\">if (window.MathJax && window.MathJax.Hub && window.MathJax.Hub.Config) {window.MathJax.Hub.Config({SVG: {font: \"STIX-Web\"}});}</script>                <script type=\"text/javascript\">window.PlotlyConfig = {MathJaxConfig: 'local'};</script>\n",
              "        <script charset=\"utf-8\" src=\"https://cdn.plot.ly/plotly-2.35.2.min.js\"></script>                <div id=\"bff497f4-e73a-419e-bbd4-6fec2b52b576\" class=\"plotly-graph-div\" style=\"height:525px; width:100%;\"></div>            <script type=\"text/javascript\">                                    window.PLOTLYENV=window.PLOTLYENV || {};                                    if (document.getElementById(\"bff497f4-e73a-419e-bbd4-6fec2b52b576\")) {                    Plotly.newPlot(                        \"bff497f4-e73a-419e-bbd4-6fec2b52b576\",                        [{\"hovertemplate\":\"Year=%{x}\\u003cbr\\u003eBiofuels Production (TWh)=%{y}\\u003cextra\\u003e\\u003c\\u002fextra\\u003e\",\"legendgroup\":\"\",\"marker\":{\"color\":\"#636efa\",\"symbol\":\"circle\"},\"mode\":\"markers\",\"name\":\"\",\"showlegend\":false,\"x\":[1990,1991,1992,1993,1994,1995,1996,1997,1998,1999,2000,2001,2002,2003,2004,2005,2006,2007,2008,2009,2010,2011,2012,2013,2014,2015,2016,2017,2018,2019,2020,2021,1990,1991,1992,1993,1994,1995,1996,1997,1998,1999,2000,2001,2002,2003,2004,2005,2006,2007,2008,2009,2010,2011,2012,2013,2014,2015,2016,2017,2018,2019,2020,2021,2000,2001,2002,2003,2004,2005,2006,2007,2008,2009,2010,2011,2012,2013,2014,2015,2016,2017,2018,2019,2020,2021,1990,1991,1992,1993,1994,1995,1996,1997,1998,1999,2000,2001,2002,2003,2004,2005,2006,2007,2008,2009,2010,2011,2012,2013,2014,2015,2016,2017,2018,2019,2020,2021,1990,1991,1992,1993,1994,1995,1996,1997,1998,1999,2000,2001,2002,2003,2004,2005,2006,2007,2008,2009,2010,2011,2012,2013,2014,2015,2016,2017,2018,2019,2020,2021,1990,1991,1992,1993,1994,1995,1996,1997,1998,1999,2000,2001,2002,2003,2004,2005,2006,2007,2008,2009,2010,2011,2012,2013,2014,2015,2016,2017,2018,2019,2020,2021,1990,1991,1992,1993,1994,1995,1996,1997,1998,1999,2000,2001,2002,2003,2004,2005,2006,2007,2008,2009,2010,2011,2012,2013,2014,2015,2016,2017,2018,2019,2020,2021,2007,2008,2009,2010,2011,2012,2013,2014,2015,2016,2017,2018,2019,2020,2021,1990,1991,1992,1993,1994,1995,1996,1997,1998,1999,2000,2001,2002,2003,2004,2005,2006,2007,2008,2009,2010,2011,2012,2013,2014,2015,2016,2017,2018,2019,2020,2021,1990,1991,1992,1993,1994,1995,1996,1997,1998,1999,2000,2001,2002,2003,2004,2005,2006,2007,2008,2009,2010,2011,2012,2013,2014,2015,2016,2017,2018,2019,2020,2021,1990,1991,1992,1993,1994,1995,1996,1997,1998,1999,2000,2001,2002,2003,2004,2005,2006,2007,2008,2009,2010,2011,2012,2013,2014,2015,2016,2017,2018,2019,2020,2021,1990,1991,1992,1993,1994,1995,1996,1997,1998,1999,2000,2001,2002,2003,2004,2005,2006,2007,2008,2009,2010,2011,2012,2013,2014,2015,2016,2017,2018,2019,2020,2021,1990,1991,1992,1993,1994,1995,1996,1997,1998,1999,2000,2001,2002,2003,2004,2005,2006,2007,2008,2009,2010,2011,2012,2013,2014,2015,2016,2017,2018,2019,2020,2021,1990,1991,1992,1993,1994,1995,1996,1997,1998,1999,2000,2001,2002,2003,2004,2005,2006,2007,2008,2009,2010,2011,2012,2013,2014,2015,2016,2017,2018,2019,2020,2021,1990,1991,1992,1993,1994,1995,1996,1997,1998,1999,2000,2001,2002,2003,2004,2005,2006,2007,2008,2009,2010,2011,2012,2013,2014,2015,2016,2017,2018,2019,2020,2021,1990,1991,1992,1993,1994,1995,1996,1997,1998,1999,2000,2001,2002,2003,2004,2005,2006,2007,2008,2009,2010,2011,2012,2013,2014,2015,2016,2017,2018,2019,2020,2021,1990,1991,1992,1993,1994,1995,1996,1997,1998,1999,2000,2001,2002,2003,2004,2005,2006,2007,2008,2009,2010,2011,2012,2013,2014,2015,2016,2017,2018,2019,2020,2021,1990,1991,1992,1993,1994,1995,1996,1997,1998,1999,2000,2001,2002,2003,2004,2005,2006,2007,2008,2009,2010,2011,2012,2013,2014,2015,2016,2017,2018,2019,2020,2021,1990,1991,1992,1993,1994,1995,1996,1997,1998,1999,2000,2001,2002,2003,2004,2005,2006,2007,2008,2009,2010,2011,2012,2013,2014,2015,2016,2017,2018,2019,2020,2021,1990,1991,1992,1993,1994,1995,1996,1997,1998,1999,2000,2001,2002,2003,2004,2005,2006,2007,2008,2009,2010,2011,2012,2013,2014,2015,2016,2017,2018,2019,2020,2021,2002,2003,2004,2005,2006,2007,2008,2009,2010,2011,2012,2013,2014,2015,2016,2017,2018,2019,2020,2021,1990,1991,1992,1993,1994,1995,1996,1997,1998,1999,2000,2001,2002,2003,2004,2005,2006,2007,2008,2009,2010,2011,2012,2013,2014,2015,2016,2017,2018,2019,2020,2021,1990,1991,1992,1993,1994,1995,1996,1997,1998,1999,2000,2001,2002,2003,2004,2005,2006,2007,2008,2009,2010,2011,2012,2013,2014,2015,2016,2017,2018,2019,2020,2021,1990,1991,1992,1993,1994,1995,1996,1997,1998,1999,2000,2001,2002,2003,2004,2005,2006,2007,2008,2009,2010,2011,2012,2013,2014,2015,2016,2017,2018,2019,2020,2021,1990,1991,1992,1993,1994,1995,1996,1997,1998,1999,2000,2001,2002,2003,2004,2005,2006,2007,2008,2009,2010,2011,2012,2013,2014,2015,2016,2017,2018,2019,2020,2021,1990,1991,1992,1993,1994,1995,1996,1997,1998,1999,2000,2001,2002,2003,2004,2005,2006,2007,2008,2009,2010,2011,2012,2013,2014,2015,2016,2017,2018,2019,2020,2021,1990,1991,1992,1993,1994,1995,1996,1997,1998,1999,2000,2001,2002,2003,2004,2005,2006,2007,2008,2009,2010,2011,2012,2013,2014,2015,2016,2017,2018,2019,2020,2021,1990,1991,1992,1993,1994,1995,1996,1997,1998,1999,2000,2001,2002,2003,2004,2005,2006,2007,2008,2009,2010,2011,2012,2013,2014,2015,2016,2017,2018,2019,2020,2021,1990,1991,1992,1993,1994,1995,1996,1997,1998,1999,2000,2001,2002,2003,2004,2005,2006,2007,2008,2009,2010,2011,2012,2013,2014,2015,2016,2017,2018,2019,2020,2021,1990,1991,1992,1993,1994,1995,1996,1997,1998,1999,2000,2001,2002,2003,2004,2005,2006,2007,2008,2009,2010,2011,2012,2013,2014,2015,2016,2017,2018,2019,2020,2021,1990,1991,1992,1993,1994,1995,1996,1997,1998,1999,2000,2001,2002,2003,2004,2005,2006,2007,2008,2009,2010,2011,2012,2013,2014,2015,2016,2017,2018,2019,2020,2021,1990,1991,1992,1993,1994,1995,1996,1997,1998,1999,2000,2001,2002,2003,2004,2005,2006,2007,2008,2009,2010,2011,2012,2013,2014,2015,2016,2017,2018,2019,2020,2021,1990,1991,1992,1993,1994,1995,1996,1997,1998,1999,2000,2001,2002,2003,2004,2005,2006,2007,2008,2009,2010,2011,2012,2013,2014,2015,2016,2017,2018,2019,2020,2021,1990,1991,1992,1993,1994,1995,1996,1997,1998,1999,2000,2001,2002,2003,2004,2005,2006,2007,2008,2009,2010,2011,2012,2013,2014,2015,2016,2017,2018,2019,2020,2021,1990,1991,1992,1993,1994,1995,1996,1997,1998,1999,2000,2001,2002,2003,2004,2005,2006,2007,2008,2009,2010,2011,2012,2013,2014,2015,2016,2017,2018,2019,2020,2021],\"xaxis\":\"x\",\"y\":[0.068616726,0.068616726,0.06880471,0.068616726,0.068616726,0.068616726,0.06880471,0.102925085,0.102925085,0.068616726,0.06880471,0.068616726,0.32069764,0.33128294,0.36543164,0.41999254,0.44839332,0.45416325,0.5273259,3.180501,1.1110405,1.2481376,1.2687395,1.2936754,1.5134399,1.7531116,1.7627658,1.2300222,1.4472462,1.4500226,1.4330739,1.4358858,0.0,0.0,0.0,0.0,0.0,0.0,0.0,0.0,0.0,0.0,0.053206034,0.106121324,0.106121324,0.106121324,0.10641207,0.106121324,0.35267234,2.007858,7.1122904,11.965088,19.893944,25.844816,26.502537,23.838686,30.584423,23.461845,32.768284,36.23187,31.703428,28.55003,16.743961,23.779903,0.9976683,1.0823115,2.8769584,6.5407166,6.5983725,10.475127,17.087872,23.5589,38.093407,39.615303,42.821674,68.813034,81.81848,98.085884,118.49936,98.61999,112.54859,115.80142,152.95209,193.86732,192.5514,209.64064,0.0,0.0,0.0,0.0,0.0,0.0,0.0,0.0,0.0,0.0,0.0,0.0,0.0,0.5353231,0.32180902,0.32005984,0.59205866,1.1593292,1.8793633,2.6951258,2.1017818,2.5427175,2.6933994,2.845892,2.989948,2.6403356,1.4622647,1.2355341,1.5035335,1.7374654,1.4563833,1.3404936,0.073269,0.080247,0.089551,0.101181,0.067454,0.130256,0.141886,0.153516,0.165146,0.181428,0.21282414,0.21224265,0.2653033,0.31836396,0.5852664,0.8489706,1.2734559,2.5759044,3.095625,4.2849255,4.487388,4.459111,4.459111,4.2805,3.7563334,4.356,4.8046665,4.4729443,4.412322,4.4228,4.5772223,4.82245,0.0,0.0,0.0,0.0,0.0,0.0,0.0,0.0,0.0,0.0,0.0,0.0,0.0,0.0,0.0,0.0,0.0,0.0,0.0,1.5663052,4.2494974,4.9068365,5.2025642,5.10835,6.6881804,4.4912734,4.3256507,5.181677,4.9355044,5.2234054,5.4118114,5.3970246,65.00527,72.90802,66.798546,64.79953,71.16422,72.528015,80.751854,88.75702,81.04088,74.77354,61.795197,66.34447,72.809166,83.917046,84.634285,92.56785,102.801834,132.91316,166.03877,163.49847,181.3416,155.90176,159.61436,185.37614,195.19594,209.42525,197.13771,198.33238,238.32605,254.90166,245.11325,233.18593,0.0,0.07514027,0.23475969,0.3841703,0.30500025,0.33200043,0.2642092,0.2768865,0.21853423,0.20443296,0.2012415,0.14124116,0.16124128,0.16124128,0.16080073,0.0,0.0,0.0,0.0,0.0,0.0,0.0,0.0,0.0,0.57797325,1.2613882,1.3259386,1.3599371,1.3599371,1.363663,1.4959308,1.918643,5.5999856,6.0085735,8.729076,9.353597,11.039007,10.829853,11.477615,13.4386215,12.837873,13.888556,13.8,13.919111,14.796906,13.639054,13.440441,0.0,0.0,0.0,0.0,0.0,0.0,0.0,0.0,0.0,0.0,0.0,0.053060662,1.7684788,4.856231,5.965346,8.368024,12.231145,13.484257,16.731058,18.286423,17.774601,22.119543,23.6831,26.360819,29.27855,24.932436,23.978706,29.046839,28.014196,33.9185,35.785557,39.64496,0.0,0.0,0.0,0.0,0.0,0.0,0.0,0.0,0.0,0.0,0.0,0.0,0.0,0.0,0.0,0.17154181,1.5707597,1.6889794,1.7494818,3.6427,5.2514305,6.638568,7.279806,7.5372925,7.8369017,8.024199,7.8060017,7.153719,8.93695,7.9765263,7.4975457,8.00661,0.073269,0.080247,0.20241645,0.5027869,1.4007673,2.474585,3.590217,4.5907125,4.3727264,5.0051155,8.130677,10.038443,13.413471,16.929909,25.367048,34.71126,51.120678,69.87283,90.39917,111.11985,126.63299,124.416046,135.19647,145.46101,158.74876,161.1892,156.77554,177.29817,188.44675,192.03827,187.31323,187.36493,0.073269,0.080247,0.20241645,0.5027869,1.4007673,2.474585,3.590217,4.5737877,4.3575115,4.990824,8.11399,10.020732,13.365415,16.802538,25.178555,34.50463,48.07975,64.996864,86.2143,107.94192,123.1452,121.16336,130.64993,138.17911,153.11957,156.19655,148.46625,165.88875,177.43877,181.67842,177.97523,178.05312,0.0,0.0,0.0,0.0,0.0,0.0,0.0,0.0,0.0,0.0,0.0,0.0,0.0,0.0,0.0,0.0,0.0,0.43303058,0.991635,2.6928995,3.5050526,2.416091,3.066077,3.844533,4.2955194,5.011313,1.2871335,3.6252928,3.3016832,3.9501984,3.5324442,3.3617778,0.0,0.0,0.02624891,0.2923782,0.94942665,1.8613815,2.678552,3.2066004,2.9976673,3.1512532,3.7758656,3.7668989,4.034773,4.430088,4.643859,7.501699,7.866113,13.113837,24.178932,27.055717,26.374874,26.244072,30.628035,28.553371,28.88099,30.707294,28.094324,27.349375,31.01172,28.762793,26.882746,29.719494,0.0,0.0,0.05167209,0.05167209,0.28933114,0.36166975,0.5683348,0.9300046,1.0333371,1.3433348,2.583337,3.6166625,5.6833367,6.912907,10.579198,16.176365,26.60217,33.02326,29.390696,29.409874,36.448257,35.813656,33.560238,35.74399,39.94682,36.827896,37.246746,38.017643,39.05974,40.795673,39.174717,33.663513,0.0,0.0,0.0,0.0,0.0,0.0,0.0,0.0,0.0,0.0,0.9976683,1.0292509,1.0978676,1.1321759,0.22170524,0.915697,0.82633024,1.1078415,1.7061033,1.3065449,2.1186633,3.0859625,2.9523406,2.8032334,3.0561516,6.019033,7.3420486,6.7121634,11.499806,12.969542,14.492524,23.029203,0.0,0.0,0.0,0.0,0.0,0.0,0.0,0.0,0.0,0.0,0.0,0.0,0.0,0.0,0.0,0.10277778,0.5138889,2.5254989,5.1463323,1.7491089,2.2396321,16.585945,20.319767,25.659632,36.324234,14.81855,33.429016,31.23455,56.397747,76.79713,78.586044,86.639626,0.0,0.0,0.0,0.0,0.0,0.0,0.0,0.0,0.0,0.0,0.0,0.0,0.0,0.0,2.9394476,2.055556,2.2919474,2.076106,7.279287,8.685807,9.046453,6.8204136,3.6217332,5.3124213,5.963248,6.0315504,6.093992,7.311641,7.8877335,9.075994,12.99235,12.720147,0.0,0.0,0.0,0.0,0.0,0.0,0.0,0.0,0.0,0.0,0.0,0.0,0.0,0.0,0.0,0.0,0.0,0.0,0.0,0.0,0.0,0.0,0.0,0.0,0.0,0.0,0.0,0.0,0.0,0.0,0.0,0.0,0.08901826,0.09906963,0.08144012,0.0,0.0,0.0,0.0,0.1359678,0.13005614,0.14187948,0.15412393,0.16552618,0.17734952,0.18917254,0.17783542,0.17734952,0.17734952,0.17734952,0.17783542,0.17734952,0.0,0.0,0.0,0.0,0.0,0.0,0.0,0.0,0.0,0.0,0.0,0.0,0.0,0.0,0.06880471,0.034308363,0.27188888,0.94805557,0.9051667,2.816111,4.511413,7.6950274,14.698286,17.213945,20.73037,22.236095,17.631695,22.954887,22.21222,23.55426,23.334732,23.511585,65.880745,73.76861,67.61646,65.46439,71.78242,73.09291,81.28529,89.2812,81.490585,75.23713,63.295094,67.96473,77.49118,92.03907,93.01503,104.845245,122.93111,161.24913,214.10115,215.97638,242.44206,250.53322,267.75415,308.51047,345.69614,333.18622,346.83438,354.91745,425.4705,481.7521,459.27835,471.63907,16.732742,19.388733,22.044724,25.833727,28.846283,30.384048,21.78628,28.832184,31.444319,33.364548,37.569035,41.127224,49.619167,64.61444,78.52306,92.01743,119.898056,168.49942,237.81534,271.37283,318.8539,356.2605,340.93863,356.02264,378.02682,387.9511,413.1226,425.7172,438.3592,427.61838,388.22733,412.28738,16.806011,19.468979,22.247139,26.336514,30.24705,32.858635,25.376497,33.422894,35.817043,38.369663,45.69971,51.16567,63.132267,82.302795,104.41975,127.448685,173.68736,241.87306,333.14224,390.94986,456.31482,492.24103,488.51578,513.6079,549.7432,562.31067,581.39667,613.21405,641.7145,632.7362,587.36597,611.9681,0.0,0.0,0.0,0.0,0.0,0.0,0.0,0.0,0.0,0.0,0.0,0.0,0.0,0.34308362,0.06880471,1.3228952,1.7473805,1.1637132,3.3347955,4.6976676,5.041024,4.7568064,7.505673,8.021459,8.657343,9.3839445,10.681111,10.640031,10.500066,11.371845,11.306277,12.020443,0.0,0.0,0.0,0.0,0.0,0.0,0.0,0.0,0.0,0.0,0.0,0.0,0.0,0.0,0.0,0.010612133,0.81772375,1.8858278,1.7329049,2.6254027,3.3028038,3.841075,3.2053094,3.1913302,3.503142,3.729485,3.4632163,3.6766036,3.8038125,4.111519,3.4916983,3.3810525,0.0,0.0,0.0,0.0,0.0,0.0,0.0,0.0,0.0,0.0,0.0,0.0,0.010612133,0.01686995,0.053947262,0.13318573,0.53019184,0.9665246,2.0659764,2.956218,4.14984,3.908308,4.185823,4.292412,4.5089393,5.1328425,5.15045,4.978256,7.9460115,8.137662,8.0241995,9.013269,65.812126,73.69999,67.54766,65.395775,71.713806,73.02429,81.216484,89.17827,81.387665,75.16851,62.22862,66.813805,74.30414,85.82644,86.49942,94.67012,108.06346,140.73686,180.33301,181.26701,208.82304,191.58966,196.5615,220.82544,238.19676,245.57578,243.63928,247.70607,285.6611,299.17575,276.7802,272.54016,0.0,0.0,0.0,0.0,0.0,0.0,0.0,0.0,0.0,0.0,0.85129654,0.8489706,1.4820771,2.090464,2.546627,3.4133594,3.0383132,4.2587085,4.3520007,10.473661,11.731279,9.744389,7.081611,8.566667,11.827222,12.883056,13.852011,21.54365,25.122383,24.21578,20.759722,19.984388,0.0,0.0,0.0,0.0,0.0,0.0,0.0,0.0,0.0,0.0,0.0,0.16962355,0.37980092,1.0517358,1.9810077,0.41834274,0.47564375,0.57034683,1.540661,2.1265106,2.411469,2.2329483,2.6494768,2.646395,2.6483138,2.544423,2.4066656,2.1583188,4.238693,5.001016,4.891601,7.1293397,0.0,0.0,0.0,0.0,0.0,0.0,0.0,0.0,0.0,0.0,0.0,0.0,0.0,0.0,0.034402356,0.623943,0.9670266,1.6659788,6.0350504,7.4379945,9.69942,10.68797,14.64217,18.71267,20.92237,22.57383,20.25946,22.43427,24.55093,27.45843,27.65614,24.957928,0.0,0.0,0.0,0.0,0.0,0.0,0.0,0.0,0.0,0.0,0.0,0.0,0.031836398,0.106121324,0.10641207,0.09173744,2.6513376,4.5208836,3.3232377,2.5000198,3.268623,2.0225036,3.48272,5.859822,4.529478,3.5043516,6.3051696,8.639752,7.972656,6.818681,6.4753766,6.313379,16.732742,19.388733,22.044724,25.833727,28.846283,30.384048,21.78628,28.832184,31.444319,32.786575,36.307648,39.801285,48.259228,63.254505,77.1594,90.5215,117.979416,162.89944,231.80676,262.64377,309.5003,345.2215,330.10876,344.545,364.5882,375.11325,399.23404,411.9172,424.44006,412.82147,374.58826,398.84695,82.68676,93.23759,89.8636,91.8009,102.02947,105.951546,106.66179,122.70409,117.30763,113.60679,108.994804,119.1304,140.62344,174.34186,197.43477,232.29393,296.61847,403.1222,547.2434,606.9262,698.7569,742.77423,756.26996,822.1184,895.4394,895.4969,928.231,968.1315,1067.1849,1114.4883,1046.6443,1083.6072],\"yaxis\":\"y\",\"type\":\"scattergl\"}],                        {\"template\":{\"data\":{\"histogram2dcontour\":[{\"type\":\"histogram2dcontour\",\"colorbar\":{\"outlinewidth\":0,\"ticks\":\"\"},\"colorscale\":[[0.0,\"#0d0887\"],[0.1111111111111111,\"#46039f\"],[0.2222222222222222,\"#7201a8\"],[0.3333333333333333,\"#9c179e\"],[0.4444444444444444,\"#bd3786\"],[0.5555555555555556,\"#d8576b\"],[0.6666666666666666,\"#ed7953\"],[0.7777777777777778,\"#fb9f3a\"],[0.8888888888888888,\"#fdca26\"],[1.0,\"#f0f921\"]]}],\"choropleth\":[{\"type\":\"choropleth\",\"colorbar\":{\"outlinewidth\":0,\"ticks\":\"\"}}],\"histogram2d\":[{\"type\":\"histogram2d\",\"colorbar\":{\"outlinewidth\":0,\"ticks\":\"\"},\"colorscale\":[[0.0,\"#0d0887\"],[0.1111111111111111,\"#46039f\"],[0.2222222222222222,\"#7201a8\"],[0.3333333333333333,\"#9c179e\"],[0.4444444444444444,\"#bd3786\"],[0.5555555555555556,\"#d8576b\"],[0.6666666666666666,\"#ed7953\"],[0.7777777777777778,\"#fb9f3a\"],[0.8888888888888888,\"#fdca26\"],[1.0,\"#f0f921\"]]}],\"heatmap\":[{\"type\":\"heatmap\",\"colorbar\":{\"outlinewidth\":0,\"ticks\":\"\"},\"colorscale\":[[0.0,\"#0d0887\"],[0.1111111111111111,\"#46039f\"],[0.2222222222222222,\"#7201a8\"],[0.3333333333333333,\"#9c179e\"],[0.4444444444444444,\"#bd3786\"],[0.5555555555555556,\"#d8576b\"],[0.6666666666666666,\"#ed7953\"],[0.7777777777777778,\"#fb9f3a\"],[0.8888888888888888,\"#fdca26\"],[1.0,\"#f0f921\"]]}],\"heatmapgl\":[{\"type\":\"heatmapgl\",\"colorbar\":{\"outlinewidth\":0,\"ticks\":\"\"},\"colorscale\":[[0.0,\"#0d0887\"],[0.1111111111111111,\"#46039f\"],[0.2222222222222222,\"#7201a8\"],[0.3333333333333333,\"#9c179e\"],[0.4444444444444444,\"#bd3786\"],[0.5555555555555556,\"#d8576b\"],[0.6666666666666666,\"#ed7953\"],[0.7777777777777778,\"#fb9f3a\"],[0.8888888888888888,\"#fdca26\"],[1.0,\"#f0f921\"]]}],\"contourcarpet\":[{\"type\":\"contourcarpet\",\"colorbar\":{\"outlinewidth\":0,\"ticks\":\"\"}}],\"contour\":[{\"type\":\"contour\",\"colorbar\":{\"outlinewidth\":0,\"ticks\":\"\"},\"colorscale\":[[0.0,\"#0d0887\"],[0.1111111111111111,\"#46039f\"],[0.2222222222222222,\"#7201a8\"],[0.3333333333333333,\"#9c179e\"],[0.4444444444444444,\"#bd3786\"],[0.5555555555555556,\"#d8576b\"],[0.6666666666666666,\"#ed7953\"],[0.7777777777777778,\"#fb9f3a\"],[0.8888888888888888,\"#fdca26\"],[1.0,\"#f0f921\"]]}],\"surface\":[{\"type\":\"surface\",\"colorbar\":{\"outlinewidth\":0,\"ticks\":\"\"},\"colorscale\":[[0.0,\"#0d0887\"],[0.1111111111111111,\"#46039f\"],[0.2222222222222222,\"#7201a8\"],[0.3333333333333333,\"#9c179e\"],[0.4444444444444444,\"#bd3786\"],[0.5555555555555556,\"#d8576b\"],[0.6666666666666666,\"#ed7953\"],[0.7777777777777778,\"#fb9f3a\"],[0.8888888888888888,\"#fdca26\"],[1.0,\"#f0f921\"]]}],\"mesh3d\":[{\"type\":\"mesh3d\",\"colorbar\":{\"outlinewidth\":0,\"ticks\":\"\"}}],\"scatter\":[{\"fillpattern\":{\"fillmode\":\"overlay\",\"size\":10,\"solidity\":0.2},\"type\":\"scatter\"}],\"parcoords\":[{\"type\":\"parcoords\",\"line\":{\"colorbar\":{\"outlinewidth\":0,\"ticks\":\"\"}}}],\"scatterpolargl\":[{\"type\":\"scatterpolargl\",\"marker\":{\"colorbar\":{\"outlinewidth\":0,\"ticks\":\"\"}}}],\"bar\":[{\"error_x\":{\"color\":\"#2a3f5f\"},\"error_y\":{\"color\":\"#2a3f5f\"},\"marker\":{\"line\":{\"color\":\"#E5ECF6\",\"width\":0.5},\"pattern\":{\"fillmode\":\"overlay\",\"size\":10,\"solidity\":0.2}},\"type\":\"bar\"}],\"scattergeo\":[{\"type\":\"scattergeo\",\"marker\":{\"colorbar\":{\"outlinewidth\":0,\"ticks\":\"\"}}}],\"scatterpolar\":[{\"type\":\"scatterpolar\",\"marker\":{\"colorbar\":{\"outlinewidth\":0,\"ticks\":\"\"}}}],\"histogram\":[{\"marker\":{\"pattern\":{\"fillmode\":\"overlay\",\"size\":10,\"solidity\":0.2}},\"type\":\"histogram\"}],\"scattergl\":[{\"type\":\"scattergl\",\"marker\":{\"colorbar\":{\"outlinewidth\":0,\"ticks\":\"\"}}}],\"scatter3d\":[{\"type\":\"scatter3d\",\"line\":{\"colorbar\":{\"outlinewidth\":0,\"ticks\":\"\"}},\"marker\":{\"colorbar\":{\"outlinewidth\":0,\"ticks\":\"\"}}}],\"scattermapbox\":[{\"type\":\"scattermapbox\",\"marker\":{\"colorbar\":{\"outlinewidth\":0,\"ticks\":\"\"}}}],\"scatterternary\":[{\"type\":\"scatterternary\",\"marker\":{\"colorbar\":{\"outlinewidth\":0,\"ticks\":\"\"}}}],\"scattercarpet\":[{\"type\":\"scattercarpet\",\"marker\":{\"colorbar\":{\"outlinewidth\":0,\"ticks\":\"\"}}}],\"carpet\":[{\"aaxis\":{\"endlinecolor\":\"#2a3f5f\",\"gridcolor\":\"white\",\"linecolor\":\"white\",\"minorgridcolor\":\"white\",\"startlinecolor\":\"#2a3f5f\"},\"baxis\":{\"endlinecolor\":\"#2a3f5f\",\"gridcolor\":\"white\",\"linecolor\":\"white\",\"minorgridcolor\":\"white\",\"startlinecolor\":\"#2a3f5f\"},\"type\":\"carpet\"}],\"table\":[{\"cells\":{\"fill\":{\"color\":\"#EBF0F8\"},\"line\":{\"color\":\"white\"}},\"header\":{\"fill\":{\"color\":\"#C8D4E3\"},\"line\":{\"color\":\"white\"}},\"type\":\"table\"}],\"barpolar\":[{\"marker\":{\"line\":{\"color\":\"#E5ECF6\",\"width\":0.5},\"pattern\":{\"fillmode\":\"overlay\",\"size\":10,\"solidity\":0.2}},\"type\":\"barpolar\"}],\"pie\":[{\"automargin\":true,\"type\":\"pie\"}]},\"layout\":{\"autotypenumbers\":\"strict\",\"colorway\":[\"#636efa\",\"#EF553B\",\"#00cc96\",\"#ab63fa\",\"#FFA15A\",\"#19d3f3\",\"#FF6692\",\"#B6E880\",\"#FF97FF\",\"#FECB52\"],\"font\":{\"color\":\"#2a3f5f\"},\"hovermode\":\"closest\",\"hoverlabel\":{\"align\":\"left\"},\"paper_bgcolor\":\"white\",\"plot_bgcolor\":\"#E5ECF6\",\"polar\":{\"bgcolor\":\"#E5ECF6\",\"angularaxis\":{\"gridcolor\":\"white\",\"linecolor\":\"white\",\"ticks\":\"\"},\"radialaxis\":{\"gridcolor\":\"white\",\"linecolor\":\"white\",\"ticks\":\"\"}},\"ternary\":{\"bgcolor\":\"#E5ECF6\",\"aaxis\":{\"gridcolor\":\"white\",\"linecolor\":\"white\",\"ticks\":\"\"},\"baxis\":{\"gridcolor\":\"white\",\"linecolor\":\"white\",\"ticks\":\"\"},\"caxis\":{\"gridcolor\":\"white\",\"linecolor\":\"white\",\"ticks\":\"\"}},\"coloraxis\":{\"colorbar\":{\"outlinewidth\":0,\"ticks\":\"\"}},\"colorscale\":{\"sequential\":[[0.0,\"#0d0887\"],[0.1111111111111111,\"#46039f\"],[0.2222222222222222,\"#7201a8\"],[0.3333333333333333,\"#9c179e\"],[0.4444444444444444,\"#bd3786\"],[0.5555555555555556,\"#d8576b\"],[0.6666666666666666,\"#ed7953\"],[0.7777777777777778,\"#fb9f3a\"],[0.8888888888888888,\"#fdca26\"],[1.0,\"#f0f921\"]],\"sequentialminus\":[[0.0,\"#0d0887\"],[0.1111111111111111,\"#46039f\"],[0.2222222222222222,\"#7201a8\"],[0.3333333333333333,\"#9c179e\"],[0.4444444444444444,\"#bd3786\"],[0.5555555555555556,\"#d8576b\"],[0.6666666666666666,\"#ed7953\"],[0.7777777777777778,\"#fb9f3a\"],[0.8888888888888888,\"#fdca26\"],[1.0,\"#f0f921\"]],\"diverging\":[[0,\"#8e0152\"],[0.1,\"#c51b7d\"],[0.2,\"#de77ae\"],[0.3,\"#f1b6da\"],[0.4,\"#fde0ef\"],[0.5,\"#f7f7f7\"],[0.6,\"#e6f5d0\"],[0.7,\"#b8e186\"],[0.8,\"#7fbc41\"],[0.9,\"#4d9221\"],[1,\"#276419\"]]},\"xaxis\":{\"gridcolor\":\"white\",\"linecolor\":\"white\",\"ticks\":\"\",\"title\":{\"standoff\":15},\"zerolinecolor\":\"white\",\"automargin\":true,\"zerolinewidth\":2},\"yaxis\":{\"gridcolor\":\"white\",\"linecolor\":\"white\",\"ticks\":\"\",\"title\":{\"standoff\":15},\"zerolinecolor\":\"white\",\"automargin\":true,\"zerolinewidth\":2},\"scene\":{\"xaxis\":{\"backgroundcolor\":\"#E5ECF6\",\"gridcolor\":\"white\",\"linecolor\":\"white\",\"showbackground\":true,\"ticks\":\"\",\"zerolinecolor\":\"white\",\"gridwidth\":2},\"yaxis\":{\"backgroundcolor\":\"#E5ECF6\",\"gridcolor\":\"white\",\"linecolor\":\"white\",\"showbackground\":true,\"ticks\":\"\",\"zerolinecolor\":\"white\",\"gridwidth\":2},\"zaxis\":{\"backgroundcolor\":\"#E5ECF6\",\"gridcolor\":\"white\",\"linecolor\":\"white\",\"showbackground\":true,\"ticks\":\"\",\"zerolinecolor\":\"white\",\"gridwidth\":2}},\"shapedefaults\":{\"line\":{\"color\":\"#2a3f5f\"}},\"annotationdefaults\":{\"arrowcolor\":\"#2a3f5f\",\"arrowhead\":0,\"arrowwidth\":1},\"geo\":{\"bgcolor\":\"white\",\"landcolor\":\"#E5ECF6\",\"subunitcolor\":\"white\",\"showland\":true,\"showlakes\":true,\"lakecolor\":\"white\"},\"title\":{\"x\":0.05},\"mapbox\":{\"style\":\"light\"}}},\"xaxis\":{\"anchor\":\"y\",\"domain\":[0.0,1.0],\"title\":{\"text\":\"Ano\"},\"showgrid\":true},\"yaxis\":{\"anchor\":\"x\",\"domain\":[0.0,1.0],\"title\":{\"text\":\"Produ\\u00e7\\u00e3o de Biocombust\\u00edveis (TWh)\"},\"showgrid\":true},\"legend\":{\"tracegroupgap\":0},\"title\":{\"text\":\"Produ\\u00e7\\u00e3o Global de Biocombust\\u00edveis Ao Longo dos Anos\"}},                        {\"responsive\": true}                    ).then(function(){\n",
              "                            \n",
              "var gd = document.getElementById('bff497f4-e73a-419e-bbd4-6fec2b52b576');\n",
              "var x = new MutationObserver(function (mutations, observer) {{\n",
              "        var display = window.getComputedStyle(gd).display;\n",
              "        if (!display || display === 'none') {{\n",
              "            console.log([gd, 'removed!']);\n",
              "            Plotly.purge(gd);\n",
              "            observer.disconnect();\n",
              "        }}\n",
              "}});\n",
              "\n",
              "// Listen for the removal of the full notebook cells\n",
              "var notebookContainer = gd.closest('#notebook-container');\n",
              "if (notebookContainer) {{\n",
              "    x.observe(notebookContainer, {childList: true});\n",
              "}}\n",
              "\n",
              "// Listen for the clearing of the current output cell\n",
              "var outputEl = gd.closest('.output');\n",
              "if (outputEl) {{\n",
              "    x.observe(outputEl, {childList: true});\n",
              "}}\n",
              "\n",
              "                        })                };                            </script>        </div>\n",
              "</body>\n",
              "</html>"
            ]
          },
          "metadata": {}
        }
      ]
    },
    {
      "cell_type": "markdown",
      "source": [
        "Este gráfico de dispersão encapsula as tendências globais de produção de biocombustíveis, destacando a variabilidade e o crescimento em diferentes anos. Cada ponto de dados representa a produção de um ano, permitindo um exame detalhado das flutuações e tendências na produção de biocombustíveis. As linhas de grade melhoram a legibilidade e a precisão na compreensão dos níveis de produção anual, ressaltando a crescente importância dos biocombustíveis na matriz energética global.\n",
        "\n",
        "\n",
        "---\n",
        "\n"
      ],
      "metadata": {
        "id": "5nsOiYJBz50S"
      }
    },
    {
      "cell_type": "code",
      "source": [
        "# Produção Regional de Biocombustíveis (América Latina x EUA)\n",
        "\n",
        "entidades_regionais = ['South and Central America (BP)', 'United States']\n",
        "\n",
        "regional_biocombustiveis_producao = df[df['Entity'].isin(entidades_regionais)].pivot(index='Year', columns='Entity', values='Biofuels Production - TWh - Total')\n",
        "\n",
        "fig = go.Figure()\n",
        "\n",
        "for country in entidades_regionais:\n",
        "    fig.add_trace(go.Scatter(x=regional_biocombustiveis_producao.index, y=regional_biocombustiveis_producao[country], mode='lines+markers', name=country,\n",
        "                             line=dict(width=3), marker=dict(size=8)))\n",
        "\n",
        "fig.update_layout(title={'text': \"Produção de Biocombustíveis EUA x América Latina\", 'y':0.9, 'x':0.5, 'xanchor': 'center', 'yanchor': 'top'},\n",
        "                  xaxis_title='Ano',\n",
        "                  yaxis_title='Produção de Biocombustíveis (TWh)',\n",
        "                  legend_title='País/Região',\n",
        "                  template='plotly_dark',\n",
        "                  margin=dict(l=20, r=20, t=60, b=20))"
      ],
      "metadata": {
        "colab": {
          "base_uri": "https://localhost:8080/",
          "height": 542
        },
        "id": "iT88U_sy0GBa",
        "outputId": "6790a661-dd46-44bd-9002-3e2efbbf4d3f"
      },
      "execution_count": null,
      "outputs": [
        {
          "output_type": "display_data",
          "data": {
            "text/html": [
              "<html>\n",
              "<head><meta charset=\"utf-8\" /></head>\n",
              "<body>\n",
              "    <div>            <script src=\"https://cdnjs.cloudflare.com/ajax/libs/mathjax/2.7.5/MathJax.js?config=TeX-AMS-MML_SVG\"></script><script type=\"text/javascript\">if (window.MathJax && window.MathJax.Hub && window.MathJax.Hub.Config) {window.MathJax.Hub.Config({SVG: {font: \"STIX-Web\"}});}</script>                <script type=\"text/javascript\">window.PlotlyConfig = {MathJaxConfig: 'local'};</script>\n",
              "        <script charset=\"utf-8\" src=\"https://cdn.plot.ly/plotly-2.35.2.min.js\"></script>                <div id=\"90d40a8e-1eaa-46a8-8677-b8b4e8bd204d\" class=\"plotly-graph-div\" style=\"height:525px; width:100%;\"></div>            <script type=\"text/javascript\">                                    window.PLOTLYENV=window.PLOTLYENV || {};                                    if (document.getElementById(\"90d40a8e-1eaa-46a8-8677-b8b4e8bd204d\")) {                    Plotly.newPlot(                        \"90d40a8e-1eaa-46a8-8677-b8b4e8bd204d\",                        [{\"line\":{\"width\":3},\"marker\":{\"size\":8},\"mode\":\"lines+markers\",\"name\":\"South and Central America (BP)\",\"x\":[1990,1991,1992,1993,1994,1995,1996,1997,1998,1999,2000,2001,2002,2003,2004,2005,2006,2007,2008,2009,2010,2011,2012,2013,2014,2015,2016,2017,2018,2019,2020,2021],\"y\":[65.812126,73.69999,67.54766,65.395775,71.713806,73.02429,81.216484,89.17827,81.387665,75.16851,62.22862,66.813805,74.30414,85.82644,86.49942,94.67012,108.06346,140.73686,180.33301,181.26701,208.82304,191.58966,196.5615,220.82544,238.19676,245.57578,243.63928,247.70607,285.6611,299.17575,276.7802,272.54016],\"type\":\"scatter\"},{\"line\":{\"width\":3},\"marker\":{\"size\":8},\"mode\":\"lines+markers\",\"name\":\"United States\",\"x\":[1990,1991,1992,1993,1994,1995,1996,1997,1998,1999,2000,2001,2002,2003,2004,2005,2006,2007,2008,2009,2010,2011,2012,2013,2014,2015,2016,2017,2018,2019,2020,2021],\"y\":[16.732742,19.388733,22.044724,25.833727,28.846283,30.384048,21.78628,28.832184,31.444319,32.786575,36.307648,39.801285,48.259228,63.254505,77.1594,90.5215,117.979416,162.89944,231.80676,262.64377,309.5003,345.2215,330.10876,344.545,364.5882,375.11325,399.23404,411.9172,424.44006,412.82147,374.58826,398.84695],\"type\":\"scatter\"}],                        {\"template\":{\"data\":{\"barpolar\":[{\"marker\":{\"line\":{\"color\":\"rgb(17,17,17)\",\"width\":0.5},\"pattern\":{\"fillmode\":\"overlay\",\"size\":10,\"solidity\":0.2}},\"type\":\"barpolar\"}],\"bar\":[{\"error_x\":{\"color\":\"#f2f5fa\"},\"error_y\":{\"color\":\"#f2f5fa\"},\"marker\":{\"line\":{\"color\":\"rgb(17,17,17)\",\"width\":0.5},\"pattern\":{\"fillmode\":\"overlay\",\"size\":10,\"solidity\":0.2}},\"type\":\"bar\"}],\"carpet\":[{\"aaxis\":{\"endlinecolor\":\"#A2B1C6\",\"gridcolor\":\"#506784\",\"linecolor\":\"#506784\",\"minorgridcolor\":\"#506784\",\"startlinecolor\":\"#A2B1C6\"},\"baxis\":{\"endlinecolor\":\"#A2B1C6\",\"gridcolor\":\"#506784\",\"linecolor\":\"#506784\",\"minorgridcolor\":\"#506784\",\"startlinecolor\":\"#A2B1C6\"},\"type\":\"carpet\"}],\"choropleth\":[{\"colorbar\":{\"outlinewidth\":0,\"ticks\":\"\"},\"type\":\"choropleth\"}],\"contourcarpet\":[{\"colorbar\":{\"outlinewidth\":0,\"ticks\":\"\"},\"type\":\"contourcarpet\"}],\"contour\":[{\"colorbar\":{\"outlinewidth\":0,\"ticks\":\"\"},\"colorscale\":[[0.0,\"#0d0887\"],[0.1111111111111111,\"#46039f\"],[0.2222222222222222,\"#7201a8\"],[0.3333333333333333,\"#9c179e\"],[0.4444444444444444,\"#bd3786\"],[0.5555555555555556,\"#d8576b\"],[0.6666666666666666,\"#ed7953\"],[0.7777777777777778,\"#fb9f3a\"],[0.8888888888888888,\"#fdca26\"],[1.0,\"#f0f921\"]],\"type\":\"contour\"}],\"heatmapgl\":[{\"colorbar\":{\"outlinewidth\":0,\"ticks\":\"\"},\"colorscale\":[[0.0,\"#0d0887\"],[0.1111111111111111,\"#46039f\"],[0.2222222222222222,\"#7201a8\"],[0.3333333333333333,\"#9c179e\"],[0.4444444444444444,\"#bd3786\"],[0.5555555555555556,\"#d8576b\"],[0.6666666666666666,\"#ed7953\"],[0.7777777777777778,\"#fb9f3a\"],[0.8888888888888888,\"#fdca26\"],[1.0,\"#f0f921\"]],\"type\":\"heatmapgl\"}],\"heatmap\":[{\"colorbar\":{\"outlinewidth\":0,\"ticks\":\"\"},\"colorscale\":[[0.0,\"#0d0887\"],[0.1111111111111111,\"#46039f\"],[0.2222222222222222,\"#7201a8\"],[0.3333333333333333,\"#9c179e\"],[0.4444444444444444,\"#bd3786\"],[0.5555555555555556,\"#d8576b\"],[0.6666666666666666,\"#ed7953\"],[0.7777777777777778,\"#fb9f3a\"],[0.8888888888888888,\"#fdca26\"],[1.0,\"#f0f921\"]],\"type\":\"heatmap\"}],\"histogram2dcontour\":[{\"colorbar\":{\"outlinewidth\":0,\"ticks\":\"\"},\"colorscale\":[[0.0,\"#0d0887\"],[0.1111111111111111,\"#46039f\"],[0.2222222222222222,\"#7201a8\"],[0.3333333333333333,\"#9c179e\"],[0.4444444444444444,\"#bd3786\"],[0.5555555555555556,\"#d8576b\"],[0.6666666666666666,\"#ed7953\"],[0.7777777777777778,\"#fb9f3a\"],[0.8888888888888888,\"#fdca26\"],[1.0,\"#f0f921\"]],\"type\":\"histogram2dcontour\"}],\"histogram2d\":[{\"colorbar\":{\"outlinewidth\":0,\"ticks\":\"\"},\"colorscale\":[[0.0,\"#0d0887\"],[0.1111111111111111,\"#46039f\"],[0.2222222222222222,\"#7201a8\"],[0.3333333333333333,\"#9c179e\"],[0.4444444444444444,\"#bd3786\"],[0.5555555555555556,\"#d8576b\"],[0.6666666666666666,\"#ed7953\"],[0.7777777777777778,\"#fb9f3a\"],[0.8888888888888888,\"#fdca26\"],[1.0,\"#f0f921\"]],\"type\":\"histogram2d\"}],\"histogram\":[{\"marker\":{\"pattern\":{\"fillmode\":\"overlay\",\"size\":10,\"solidity\":0.2}},\"type\":\"histogram\"}],\"mesh3d\":[{\"colorbar\":{\"outlinewidth\":0,\"ticks\":\"\"},\"type\":\"mesh3d\"}],\"parcoords\":[{\"line\":{\"colorbar\":{\"outlinewidth\":0,\"ticks\":\"\"}},\"type\":\"parcoords\"}],\"pie\":[{\"automargin\":true,\"type\":\"pie\"}],\"scatter3d\":[{\"line\":{\"colorbar\":{\"outlinewidth\":0,\"ticks\":\"\"}},\"marker\":{\"colorbar\":{\"outlinewidth\":0,\"ticks\":\"\"}},\"type\":\"scatter3d\"}],\"scattercarpet\":[{\"marker\":{\"colorbar\":{\"outlinewidth\":0,\"ticks\":\"\"}},\"type\":\"scattercarpet\"}],\"scattergeo\":[{\"marker\":{\"colorbar\":{\"outlinewidth\":0,\"ticks\":\"\"}},\"type\":\"scattergeo\"}],\"scattergl\":[{\"marker\":{\"line\":{\"color\":\"#283442\"}},\"type\":\"scattergl\"}],\"scattermapbox\":[{\"marker\":{\"colorbar\":{\"outlinewidth\":0,\"ticks\":\"\"}},\"type\":\"scattermapbox\"}],\"scatterpolargl\":[{\"marker\":{\"colorbar\":{\"outlinewidth\":0,\"ticks\":\"\"}},\"type\":\"scatterpolargl\"}],\"scatterpolar\":[{\"marker\":{\"colorbar\":{\"outlinewidth\":0,\"ticks\":\"\"}},\"type\":\"scatterpolar\"}],\"scatter\":[{\"marker\":{\"line\":{\"color\":\"#283442\"}},\"type\":\"scatter\"}],\"scatterternary\":[{\"marker\":{\"colorbar\":{\"outlinewidth\":0,\"ticks\":\"\"}},\"type\":\"scatterternary\"}],\"surface\":[{\"colorbar\":{\"outlinewidth\":0,\"ticks\":\"\"},\"colorscale\":[[0.0,\"#0d0887\"],[0.1111111111111111,\"#46039f\"],[0.2222222222222222,\"#7201a8\"],[0.3333333333333333,\"#9c179e\"],[0.4444444444444444,\"#bd3786\"],[0.5555555555555556,\"#d8576b\"],[0.6666666666666666,\"#ed7953\"],[0.7777777777777778,\"#fb9f3a\"],[0.8888888888888888,\"#fdca26\"],[1.0,\"#f0f921\"]],\"type\":\"surface\"}],\"table\":[{\"cells\":{\"fill\":{\"color\":\"#506784\"},\"line\":{\"color\":\"rgb(17,17,17)\"}},\"header\":{\"fill\":{\"color\":\"#2a3f5f\"},\"line\":{\"color\":\"rgb(17,17,17)\"}},\"type\":\"table\"}]},\"layout\":{\"annotationdefaults\":{\"arrowcolor\":\"#f2f5fa\",\"arrowhead\":0,\"arrowwidth\":1},\"autotypenumbers\":\"strict\",\"coloraxis\":{\"colorbar\":{\"outlinewidth\":0,\"ticks\":\"\"}},\"colorscale\":{\"diverging\":[[0,\"#8e0152\"],[0.1,\"#c51b7d\"],[0.2,\"#de77ae\"],[0.3,\"#f1b6da\"],[0.4,\"#fde0ef\"],[0.5,\"#f7f7f7\"],[0.6,\"#e6f5d0\"],[0.7,\"#b8e186\"],[0.8,\"#7fbc41\"],[0.9,\"#4d9221\"],[1,\"#276419\"]],\"sequential\":[[0.0,\"#0d0887\"],[0.1111111111111111,\"#46039f\"],[0.2222222222222222,\"#7201a8\"],[0.3333333333333333,\"#9c179e\"],[0.4444444444444444,\"#bd3786\"],[0.5555555555555556,\"#d8576b\"],[0.6666666666666666,\"#ed7953\"],[0.7777777777777778,\"#fb9f3a\"],[0.8888888888888888,\"#fdca26\"],[1.0,\"#f0f921\"]],\"sequentialminus\":[[0.0,\"#0d0887\"],[0.1111111111111111,\"#46039f\"],[0.2222222222222222,\"#7201a8\"],[0.3333333333333333,\"#9c179e\"],[0.4444444444444444,\"#bd3786\"],[0.5555555555555556,\"#d8576b\"],[0.6666666666666666,\"#ed7953\"],[0.7777777777777778,\"#fb9f3a\"],[0.8888888888888888,\"#fdca26\"],[1.0,\"#f0f921\"]]},\"colorway\":[\"#636efa\",\"#EF553B\",\"#00cc96\",\"#ab63fa\",\"#FFA15A\",\"#19d3f3\",\"#FF6692\",\"#B6E880\",\"#FF97FF\",\"#FECB52\"],\"font\":{\"color\":\"#f2f5fa\"},\"geo\":{\"bgcolor\":\"rgb(17,17,17)\",\"lakecolor\":\"rgb(17,17,17)\",\"landcolor\":\"rgb(17,17,17)\",\"showlakes\":true,\"showland\":true,\"subunitcolor\":\"#506784\"},\"hoverlabel\":{\"align\":\"left\"},\"hovermode\":\"closest\",\"mapbox\":{\"style\":\"dark\"},\"paper_bgcolor\":\"rgb(17,17,17)\",\"plot_bgcolor\":\"rgb(17,17,17)\",\"polar\":{\"angularaxis\":{\"gridcolor\":\"#506784\",\"linecolor\":\"#506784\",\"ticks\":\"\"},\"bgcolor\":\"rgb(17,17,17)\",\"radialaxis\":{\"gridcolor\":\"#506784\",\"linecolor\":\"#506784\",\"ticks\":\"\"}},\"scene\":{\"xaxis\":{\"backgroundcolor\":\"rgb(17,17,17)\",\"gridcolor\":\"#506784\",\"gridwidth\":2,\"linecolor\":\"#506784\",\"showbackground\":true,\"ticks\":\"\",\"zerolinecolor\":\"#C8D4E3\"},\"yaxis\":{\"backgroundcolor\":\"rgb(17,17,17)\",\"gridcolor\":\"#506784\",\"gridwidth\":2,\"linecolor\":\"#506784\",\"showbackground\":true,\"ticks\":\"\",\"zerolinecolor\":\"#C8D4E3\"},\"zaxis\":{\"backgroundcolor\":\"rgb(17,17,17)\",\"gridcolor\":\"#506784\",\"gridwidth\":2,\"linecolor\":\"#506784\",\"showbackground\":true,\"ticks\":\"\",\"zerolinecolor\":\"#C8D4E3\"}},\"shapedefaults\":{\"line\":{\"color\":\"#f2f5fa\"}},\"sliderdefaults\":{\"bgcolor\":\"#C8D4E3\",\"bordercolor\":\"rgb(17,17,17)\",\"borderwidth\":1,\"tickwidth\":0},\"ternary\":{\"aaxis\":{\"gridcolor\":\"#506784\",\"linecolor\":\"#506784\",\"ticks\":\"\"},\"baxis\":{\"gridcolor\":\"#506784\",\"linecolor\":\"#506784\",\"ticks\":\"\"},\"bgcolor\":\"rgb(17,17,17)\",\"caxis\":{\"gridcolor\":\"#506784\",\"linecolor\":\"#506784\",\"ticks\":\"\"}},\"title\":{\"x\":0.05},\"updatemenudefaults\":{\"bgcolor\":\"#506784\",\"borderwidth\":0},\"xaxis\":{\"automargin\":true,\"gridcolor\":\"#283442\",\"linecolor\":\"#506784\",\"ticks\":\"\",\"title\":{\"standoff\":15},\"zerolinecolor\":\"#283442\",\"zerolinewidth\":2},\"yaxis\":{\"automargin\":true,\"gridcolor\":\"#283442\",\"linecolor\":\"#506784\",\"ticks\":\"\",\"title\":{\"standoff\":15},\"zerolinecolor\":\"#283442\",\"zerolinewidth\":2}}},\"title\":{\"text\":\"Produ\\u00e7\\u00e3o de Biocombust\\u00edveis EUA x Am\\u00e9rica Latina\",\"y\":0.9,\"x\":0.5,\"xanchor\":\"center\",\"yanchor\":\"top\"},\"margin\":{\"l\":20,\"r\":20,\"t\":60,\"b\":20},\"xaxis\":{\"title\":{\"text\":\"Ano\"}},\"yaxis\":{\"title\":{\"text\":\"Produ\\u00e7\\u00e3o de Biocombust\\u00edveis (TWh)\"}},\"legend\":{\"title\":{\"text\":\"Pa\\u00eds\\u002fRegi\\u00e3o\"}}},                        {\"responsive\": true}                    ).then(function(){\n",
              "                            \n",
              "var gd = document.getElementById('90d40a8e-1eaa-46a8-8677-b8b4e8bd204d');\n",
              "var x = new MutationObserver(function (mutations, observer) {{\n",
              "        var display = window.getComputedStyle(gd).display;\n",
              "        if (!display || display === 'none') {{\n",
              "            console.log([gd, 'removed!']);\n",
              "            Plotly.purge(gd);\n",
              "            observer.disconnect();\n",
              "        }}\n",
              "}});\n",
              "\n",
              "// Listen for the removal of the full notebook cells\n",
              "var notebookContainer = gd.closest('#notebook-container');\n",
              "if (notebookContainer) {{\n",
              "    x.observe(notebookContainer, {childList: true});\n",
              "}}\n",
              "\n",
              "// Listen for the clearing of the current output cell\n",
              "var outputEl = gd.closest('.output');\n",
              "if (outputEl) {{\n",
              "    x.observe(outputEl, {childList: true});\n",
              "}}\n",
              "\n",
              "                        })                };                            </script>        </div>\n",
              "</body>\n",
              "</html>"
            ]
          },
          "metadata": {}
        }
      ]
    },
    {
      "cell_type": "markdown",
      "source": [
        "Este gráfico multilinha traça a produção de biocombustíveis na América Latina e Estados Unidos, delineando suas trajetórias individuais e comparativas ao longo do tempo. As linhas distintas para cada país, com marcadores em negrito nos pontos de dados, facilitam uma análise comparativa clara, destacando a jornada única de produção de biocombustíveis de cada um. O tema escuro do gráfico acentua as linhas de dados, tornando as tendências facilmente discerníveis e enfatizando o papel crescente dos biocombustíveis nessas economias-chave.\n",
        "\n",
        "\n",
        "---\n",
        "\n"
      ],
      "metadata": {
        "id": "VmV1mKQY1Kr6"
      }
    },
    {
      "cell_type": "code",
      "source": [
        "# Distribuição da produção de biocombustíveis entre os 20 maiores produtores e a América Latina\n",
        "\n",
        "top_paises = df['Entity'].value_counts().head(20).index\n",
        "\n",
        "filtered_data = df[df['Entity'].isin(top_paises)]\n",
        "\n",
        "americalatina_data = df[df['Entity'] == 'South and Central America (BP)']\n",
        "\n",
        "filtered_data_updated = filtered_data[filtered_data['Entity'] != 'European Union']\n",
        "filtered_data_updated = pd.concat([filtered_data_updated, americalatina_data])\n",
        "\n",
        "heatmap_data_updated = filtered_data_updated.pivot_table(\n",
        "    index='Entity', columns='Year',\n",
        "    values='Biofuels Production - TWh - Total',\n",
        "    aggfunc='sum'\n",
        ")\n",
        "\n",
        "plt.figure(figsize=(20, 12))\n",
        "sns.heatmap(heatmap_data_updated, annot=False, cmap=\"viridis\")\n",
        "plt.title('Distribuição da Produção de Biocombustíveis')\n",
        "plt.xlabel('Ano')\n",
        "plt.ylabel('País')\n",
        "plt.xticks(rotation=90)\n",
        "plt.yticks(rotation=0)\n",
        "plt.show()"
      ],
      "metadata": {
        "colab": {
          "base_uri": "https://localhost:8080/",
          "height": 878
        },
        "id": "f8GSfZPT1bsn",
        "outputId": "a7846c3d-1f3a-466f-993d-5b593a128b0c"
      },
      "execution_count": null,
      "outputs": [
        {
          "output_type": "display_data",
          "data": {
            "text/plain": [
              "<Figure size 2000x1200 with 2 Axes>"
            ],
            "image/png": "[encoded data removed]"
          },
          "metadata": {}
        }
      ]
    },
    {
      "cell_type": "markdown",
      "source": [
        "O mapa de calor ilustra vividamente o cenário de produção de biocombustíveis nos 20 principais países e a América Latina, oferecendo uma visão térmica da intensidade da produção ao longo dos anos. Tons de verde representam níveis variados de produção de biocombustíveis, com tons mais escuros indicando maiores volumes de produção. Esta representação visual ressalta as diversas contribuições de biocombustíveis por diferentes nações, destacando tendências, surtos e potenciais potencialmente inexplorados dentro do setor de bioenergia.\n",
        "\n",
        "\n",
        "---\n",
        "\n"
      ],
      "metadata": {
        "id": "XQTb2hqf2rcd"
      }
    },
    {
      "cell_type": "code",
      "source": [
        "# Comparação entre a produção de biocombustíveis do Brasil, Argentina, Canadá e EUA\n",
        "\n",
        "paises_americanos = [ \"United States\",  \"Brazil\", \"Canada\", \"Argentina\"]\n",
        "\n",
        "paises_americanos_data = df[df['Entity'].isin(paises_americanos)]\n",
        "producao_total_paises_americanos = paises_americanos_data.groupby('Entity')['Biofuels Production - TWh - Total'].sum().sort_values(ascending=False)\n",
        "\n",
        "\n",
        "plt.figure(figsize=(20, 8))\n",
        "bars = plt.bar(producao_total_paises_americanos.index, producao_total_paises_americanos.values, color='skyblue')\n",
        "plt.title('Produção Total de Biocombustíveis', fontsize=14, fontweight='bold')\n",
        "plt.xlabel('País', fontsize=12, fontweight='bold')\n",
        "plt.ylabel('Produção de Biocombustíveis (TWh)', fontsize=12, fontweight='bold')\n",
        "plt.xticks(rotation=90, fontsize=10)\n",
        "plt.yticks(fontsize=10)\n",
        "\n",
        "for bar in bars:\n",
        "    if bar.get_x() + bar.get_width() / 2 == producao_total_paises_americanos.index.get_loc(\"Brazil\"):\n",
        "        bar.set_color('red')\n",
        "    height = bar.get_height()\n",
        "    plt.text(bar.get_x() + bar.get_width() / 2.0, height, f'{height:.2f}', ha='center', va='bottom', fontsize=10)\n",
        "\n",
        "plt.grid(axis='y')\n",
        "plt.tight_layout()\n",
        "plt.show()"
      ],
      "metadata": {
        "colab": {
          "base_uri": "https://localhost:8080/",
          "height": 571
        },
        "id": "ObSAtrk026od",
        "outputId": "c1812360-b860-4077-9741-45adde33f464"
      },
      "execution_count": null,
      "outputs": [
        {
          "output_type": "display_data",
          "data": {
            "text/plain": [
              "<Figure size 2000x800 with 1 Axes>"
            ],
            "image/png": "[encoded data removed]"
          },
          "metadata": {}
        }
      ]
    },
    {
      "cell_type": "markdown",
      "source": [
        "Este gráfico de barras mostra a produção total de biocombustíveis em países  selecionados do continente Americano, destacando o Brasil com uma barra vermelha distinta para ressaltar sua contribuição significativa, ocupando o segundo lugar na produção de biocombustíveis. A visualização classifica efetivamente os países americanos por sua produção de biocombustíveis, revelando líderes no setor e classificações comparativas. Notavelmente, o gráfico transmite o compromisso diversificado com a produção de biocombustíveis, servindo como referência para avaliar as prioridades e investimentos globais em bioenergia.\n",
        "\n",
        "\n",
        "\n",
        "---\n",
        "\n"
      ],
      "metadata": {
        "id": "Yz-VGK7zLMzH"
      }
    },
    {
      "cell_type": "code",
      "source": [
        "# Distribuição da produção de biocombustíveis no Brasil de 2011 a 2021\n",
        "\n",
        "brasil_data = df[(df['Entity'] == 'Brazil') & (df['Year'] >= 2011)]\n",
        "\n",
        "producao_brasil = brasil_data['Biofuels Production - TWh - Total']\n",
        "decada = brasil_data['Year']\n",
        "\n",
        "fig = go.Figure(data=[go.Pie(labels=decada, values=producao_brasil, hole=0.1,\n",
        "                             pull=[0.1 if i == producao_brasil.idxmax() else 0 for i in producao_brasil.index])])\n",
        "\n",
        "fig.update_traces(textinfo='percent+label')\n",
        "fig.update_layout(title_text=\"Distribuição da produção de biocombustíveis no Brasil de 2011 a 2021\")"
      ],
      "metadata": {
        "colab": {
          "base_uri": "https://localhost:8080/",
          "height": 542
        },
        "id": "KjdqEIuYLkjr",
        "outputId": "082e6660-6b0e-47dc-f8a2-ef0bbd5954b7"
      },
      "execution_count": null,
      "outputs": [
        {
          "output_type": "display_data",
          "data": {
            "text/html": [
              "<html>\n",
              "<head><meta charset=\"utf-8\" /></head>\n",
              "<body>\n",
              "    <div>            <script src=\"https://cdnjs.cloudflare.com/ajax/libs/mathjax/2.7.5/MathJax.js?config=TeX-AMS-MML_SVG\"></script><script type=\"text/javascript\">if (window.MathJax && window.MathJax.Hub && window.MathJax.Hub.Config) {window.MathJax.Hub.Config({SVG: {font: \"STIX-Web\"}});}</script>                <script type=\"text/javascript\">window.PlotlyConfig = {MathJaxConfig: 'local'};</script>\n",
              "        <script charset=\"utf-8\" src=\"https://cdn.plot.ly/plotly-2.35.2.min.js\"></script>                <div id=\"38227c28-f21d-402b-966e-b475ebe9b1ad\" class=\"plotly-graph-div\" style=\"height:525px; width:100%;\"></div>            <script type=\"text/javascript\">                                    window.PLOTLYENV=window.PLOTLYENV || {};                                    if (document.getElementById(\"38227c28-f21d-402b-966e-b475ebe9b1ad\")) {                    Plotly.newPlot(                        \"38227c28-f21d-402b-966e-b475ebe9b1ad\",                        [{\"hole\":0.1,\"labels\":[2011,2012,2013,2014,2015,2016,2017,2018,2019,2020,2021],\"pull\":[0,0,0,0,0,0,0,0,0.1,0,0],\"values\":[155.90176,159.61436,185.37614,195.19594,209.42525,197.13771,198.33238,238.32605,254.90166,245.11325,233.18593],\"type\":\"pie\",\"textinfo\":\"percent+label\"}],                        {\"template\":{\"data\":{\"histogram2dcontour\":[{\"type\":\"histogram2dcontour\",\"colorbar\":{\"outlinewidth\":0,\"ticks\":\"\"},\"colorscale\":[[0.0,\"#0d0887\"],[0.1111111111111111,\"#46039f\"],[0.2222222222222222,\"#7201a8\"],[0.3333333333333333,\"#9c179e\"],[0.4444444444444444,\"#bd3786\"],[0.5555555555555556,\"#d8576b\"],[0.6666666666666666,\"#ed7953\"],[0.7777777777777778,\"#fb9f3a\"],[0.8888888888888888,\"#fdca26\"],[1.0,\"#f0f921\"]]}],\"choropleth\":[{\"type\":\"choropleth\",\"colorbar\":{\"outlinewidth\":0,\"ticks\":\"\"}}],\"histogram2d\":[{\"type\":\"histogram2d\",\"colorbar\":{\"outlinewidth\":0,\"ticks\":\"\"},\"colorscale\":[[0.0,\"#0d0887\"],[0.1111111111111111,\"#46039f\"],[0.2222222222222222,\"#7201a8\"],[0.3333333333333333,\"#9c179e\"],[0.4444444444444444,\"#bd3786\"],[0.5555555555555556,\"#d8576b\"],[0.6666666666666666,\"#ed7953\"],[0.7777777777777778,\"#fb9f3a\"],[0.8888888888888888,\"#fdca26\"],[1.0,\"#f0f921\"]]}],\"heatmap\":[{\"type\":\"heatmap\",\"colorbar\":{\"outlinewidth\":0,\"ticks\":\"\"},\"colorscale\":[[0.0,\"#0d0887\"],[0.1111111111111111,\"#46039f\"],[0.2222222222222222,\"#7201a8\"],[0.3333333333333333,\"#9c179e\"],[0.4444444444444444,\"#bd3786\"],[0.5555555555555556,\"#d8576b\"],[0.6666666666666666,\"#ed7953\"],[0.7777777777777778,\"#fb9f3a\"],[0.8888888888888888,\"#fdca26\"],[1.0,\"#f0f921\"]]}],\"heatmapgl\":[{\"type\":\"heatmapgl\",\"colorbar\":{\"outlinewidth\":0,\"ticks\":\"\"},\"colorscale\":[[0.0,\"#0d0887\"],[0.1111111111111111,\"#46039f\"],[0.2222222222222222,\"#7201a8\"],[0.3333333333333333,\"#9c179e\"],[0.4444444444444444,\"#bd3786\"],[0.5555555555555556,\"#d8576b\"],[0.6666666666666666,\"#ed7953\"],[0.7777777777777778,\"#fb9f3a\"],[0.8888888888888888,\"#fdca26\"],[1.0,\"#f0f921\"]]}],\"contourcarpet\":[{\"type\":\"contourcarpet\",\"colorbar\":{\"outlinewidth\":0,\"ticks\":\"\"}}],\"contour\":[{\"type\":\"contour\",\"colorbar\":{\"outlinewidth\":0,\"ticks\":\"\"},\"colorscale\":[[0.0,\"#0d0887\"],[0.1111111111111111,\"#46039f\"],[0.2222222222222222,\"#7201a8\"],[0.3333333333333333,\"#9c179e\"],[0.4444444444444444,\"#bd3786\"],[0.5555555555555556,\"#d8576b\"],[0.6666666666666666,\"#ed7953\"],[0.7777777777777778,\"#fb9f3a\"],[0.8888888888888888,\"#fdca26\"],[1.0,\"#f0f921\"]]}],\"surface\":[{\"type\":\"surface\",\"colorbar\":{\"outlinewidth\":0,\"ticks\":\"\"},\"colorscale\":[[0.0,\"#0d0887\"],[0.1111111111111111,\"#46039f\"],[0.2222222222222222,\"#7201a8\"],[0.3333333333333333,\"#9c179e\"],[0.4444444444444444,\"#bd3786\"],[0.5555555555555556,\"#d8576b\"],[0.6666666666666666,\"#ed7953\"],[0.7777777777777778,\"#fb9f3a\"],[0.8888888888888888,\"#fdca26\"],[1.0,\"#f0f921\"]]}],\"mesh3d\":[{\"type\":\"mesh3d\",\"colorbar\":{\"outlinewidth\":0,\"ticks\":\"\"}}],\"scatter\":[{\"fillpattern\":{\"fillmode\":\"overlay\",\"size\":10,\"solidity\":0.2},\"type\":\"scatter\"}],\"parcoords\":[{\"type\":\"parcoords\",\"line\":{\"colorbar\":{\"outlinewidth\":0,\"ticks\":\"\"}}}],\"scatterpolargl\":[{\"type\":\"scatterpolargl\",\"marker\":{\"colorbar\":{\"outlinewidth\":0,\"ticks\":\"\"}}}],\"bar\":[{\"error_x\":{\"color\":\"#2a3f5f\"},\"error_y\":{\"color\":\"#2a3f5f\"},\"marker\":{\"line\":{\"color\":\"#E5ECF6\",\"width\":0.5},\"pattern\":{\"fillmode\":\"overlay\",\"size\":10,\"solidity\":0.2}},\"type\":\"bar\"}],\"scattergeo\":[{\"type\":\"scattergeo\",\"marker\":{\"colorbar\":{\"outlinewidth\":0,\"ticks\":\"\"}}}],\"scatterpolar\":[{\"type\":\"scatterpolar\",\"marker\":{\"colorbar\":{\"outlinewidth\":0,\"ticks\":\"\"}}}],\"histogram\":[{\"marker\":{\"pattern\":{\"fillmode\":\"overlay\",\"size\":10,\"solidity\":0.2}},\"type\":\"histogram\"}],\"scattergl\":[{\"type\":\"scattergl\",\"marker\":{\"colorbar\":{\"outlinewidth\":0,\"ticks\":\"\"}}}],\"scatter3d\":[{\"type\":\"scatter3d\",\"line\":{\"colorbar\":{\"outlinewidth\":0,\"ticks\":\"\"}},\"marker\":{\"colorbar\":{\"outlinewidth\":0,\"ticks\":\"\"}}}],\"scattermapbox\":[{\"type\":\"scattermapbox\",\"marker\":{\"colorbar\":{\"outlinewidth\":0,\"ticks\":\"\"}}}],\"scatterternary\":[{\"type\":\"scatterternary\",\"marker\":{\"colorbar\":{\"outlinewidth\":0,\"ticks\":\"\"}}}],\"scattercarpet\":[{\"type\":\"scattercarpet\",\"marker\":{\"colorbar\":{\"outlinewidth\":0,\"ticks\":\"\"}}}],\"carpet\":[{\"aaxis\":{\"endlinecolor\":\"#2a3f5f\",\"gridcolor\":\"white\",\"linecolor\":\"white\",\"minorgridcolor\":\"white\",\"startlinecolor\":\"#2a3f5f\"},\"baxis\":{\"endlinecolor\":\"#2a3f5f\",\"gridcolor\":\"white\",\"linecolor\":\"white\",\"minorgridcolor\":\"white\",\"startlinecolor\":\"#2a3f5f\"},\"type\":\"carpet\"}],\"table\":[{\"cells\":{\"fill\":{\"color\":\"#EBF0F8\"},\"line\":{\"color\":\"white\"}},\"header\":{\"fill\":{\"color\":\"#C8D4E3\"},\"line\":{\"color\":\"white\"}},\"type\":\"table\"}],\"barpolar\":[{\"marker\":{\"line\":{\"color\":\"#E5ECF6\",\"width\":0.5},\"pattern\":{\"fillmode\":\"overlay\",\"size\":10,\"solidity\":0.2}},\"type\":\"barpolar\"}],\"pie\":[{\"automargin\":true,\"type\":\"pie\"}]},\"layout\":{\"autotypenumbers\":\"strict\",\"colorway\":[\"#636efa\",\"#EF553B\",\"#00cc96\",\"#ab63fa\",\"#FFA15A\",\"#19d3f3\",\"#FF6692\",\"#B6E880\",\"#FF97FF\",\"#FECB52\"],\"font\":{\"color\":\"#2a3f5f\"},\"hovermode\":\"closest\",\"hoverlabel\":{\"align\":\"left\"},\"paper_bgcolor\":\"white\",\"plot_bgcolor\":\"#E5ECF6\",\"polar\":{\"bgcolor\":\"#E5ECF6\",\"angularaxis\":{\"gridcolor\":\"white\",\"linecolor\":\"white\",\"ticks\":\"\"},\"radialaxis\":{\"gridcolor\":\"white\",\"linecolor\":\"white\",\"ticks\":\"\"}},\"ternary\":{\"bgcolor\":\"#E5ECF6\",\"aaxis\":{\"gridcolor\":\"white\",\"linecolor\":\"white\",\"ticks\":\"\"},\"baxis\":{\"gridcolor\":\"white\",\"linecolor\":\"white\",\"ticks\":\"\"},\"caxis\":{\"gridcolor\":\"white\",\"linecolor\":\"white\",\"ticks\":\"\"}},\"coloraxis\":{\"colorbar\":{\"outlinewidth\":0,\"ticks\":\"\"}},\"colorscale\":{\"sequential\":[[0.0,\"#0d0887\"],[0.1111111111111111,\"#46039f\"],[0.2222222222222222,\"#7201a8\"],[0.3333333333333333,\"#9c179e\"],[0.4444444444444444,\"#bd3786\"],[0.5555555555555556,\"#d8576b\"],[0.6666666666666666,\"#ed7953\"],[0.7777777777777778,\"#fb9f3a\"],[0.8888888888888888,\"#fdca26\"],[1.0,\"#f0f921\"]],\"sequentialminus\":[[0.0,\"#0d0887\"],[0.1111111111111111,\"#46039f\"],[0.2222222222222222,\"#7201a8\"],[0.3333333333333333,\"#9c179e\"],[0.4444444444444444,\"#bd3786\"],[0.5555555555555556,\"#d8576b\"],[0.6666666666666666,\"#ed7953\"],[0.7777777777777778,\"#fb9f3a\"],[0.8888888888888888,\"#fdca26\"],[1.0,\"#f0f921\"]],\"diverging\":[[0,\"#8e0152\"],[0.1,\"#c51b7d\"],[0.2,\"#de77ae\"],[0.3,\"#f1b6da\"],[0.4,\"#fde0ef\"],[0.5,\"#f7f7f7\"],[0.6,\"#e6f5d0\"],[0.7,\"#b8e186\"],[0.8,\"#7fbc41\"],[0.9,\"#4d9221\"],[1,\"#276419\"]]},\"xaxis\":{\"gridcolor\":\"white\",\"linecolor\":\"white\",\"ticks\":\"\",\"title\":{\"standoff\":15},\"zerolinecolor\":\"white\",\"automargin\":true,\"zerolinewidth\":2},\"yaxis\":{\"gridcolor\":\"white\",\"linecolor\":\"white\",\"ticks\":\"\",\"title\":{\"standoff\":15},\"zerolinecolor\":\"white\",\"automargin\":true,\"zerolinewidth\":2},\"scene\":{\"xaxis\":{\"backgroundcolor\":\"#E5ECF6\",\"gridcolor\":\"white\",\"linecolor\":\"white\",\"showbackground\":true,\"ticks\":\"\",\"zerolinecolor\":\"white\",\"gridwidth\":2},\"yaxis\":{\"backgroundcolor\":\"#E5ECF6\",\"gridcolor\":\"white\",\"linecolor\":\"white\",\"showbackground\":true,\"ticks\":\"\",\"zerolinecolor\":\"white\",\"gridwidth\":2},\"zaxis\":{\"backgroundcolor\":\"#E5ECF6\",\"gridcolor\":\"white\",\"linecolor\":\"white\",\"showbackground\":true,\"ticks\":\"\",\"zerolinecolor\":\"white\",\"gridwidth\":2}},\"shapedefaults\":{\"line\":{\"color\":\"#2a3f5f\"}},\"annotationdefaults\":{\"arrowcolor\":\"#2a3f5f\",\"arrowhead\":0,\"arrowwidth\":1},\"geo\":{\"bgcolor\":\"white\",\"landcolor\":\"#E5ECF6\",\"subunitcolor\":\"white\",\"showland\":true,\"showlakes\":true,\"lakecolor\":\"white\"},\"title\":{\"x\":0.05},\"mapbox\":{\"style\":\"light\"}}},\"title\":{\"text\":\"Distribui\\u00e7\\u00e3o da produ\\u00e7\\u00e3o de biocombust\\u00edveis no Brasil de 2011 a 2021\"}},                        {\"responsive\": true}                    ).then(function(){\n",
              "                            \n",
              "var gd = document.getElementById('38227c28-f21d-402b-966e-b475ebe9b1ad');\n",
              "var x = new MutationObserver(function (mutations, observer) {{\n",
              "        var display = window.getComputedStyle(gd).display;\n",
              "        if (!display || display === 'none') {{\n",
              "            console.log([gd, 'removed!']);\n",
              "            Plotly.purge(gd);\n",
              "            observer.disconnect();\n",
              "        }}\n",
              "}});\n",
              "\n",
              "// Listen for the removal of the full notebook cells\n",
              "var notebookContainer = gd.closest('#notebook-container');\n",
              "if (notebookContainer) {{\n",
              "    x.observe(notebookContainer, {childList: true});\n",
              "}}\n",
              "\n",
              "// Listen for the clearing of the current output cell\n",
              "var outputEl = gd.closest('.output');\n",
              "if (outputEl) {{\n",
              "    x.observe(outputEl, {childList: true});\n",
              "}}\n",
              "\n",
              "                        })                };                            </script>        </div>\n",
              "</body>\n",
              "</html>"
            ]
          },
          "metadata": {}
        }
      ]
    },
    {
      "cell_type": "markdown",
      "source": [
        "O gráfico de pizza delineia a distribuição da produção de biocombustíveis no Brasil de 2011 a 2021. O segmento destacado, puxado ligeiramente para fora, representa o ano com a maior produção, enfatizando sua importância. Esta representação gráfica não apenas ilustra as cotas de produção anual, mas também ressalta a natureza flutuante da produção de biocombustíveis, refletindo fatores como mudanças de política, demanda de mercado e avanços tecnológicos no setor de bioenergia.\n",
        "\n",
        "\n",
        "\n",
        "---\n",
        "\n"
      ],
      "metadata": {
        "id": "jjqJ0nhMMfqW"
      }
    },
    {
      "cell_type": "code",
      "source": [
        "# Mapa mundial da produção de biocombustíveis\n",
        "\n",
        "fig = px.choropleth(\n",
        "    df,\n",
        "    locations=\"Entity\",\n",
        "    locationmode=\"country names\",\n",
        "    color=\"Biofuels Production - TWh - Total\",\n",
        "    animation_frame=\"Year\",\n",
        "    color_continuous_scale=\"YlGnBu\",\n",
        "    range_color=(0, df[\"Biofuels Production - TWh - Total\"].max())\n",
        ")\n",
        "\n",
        "fig.update_geos(projection_type=\"natural earth\")\n",
        "\n",
        "fig.update_layout(\n",
        "    title=\"Produção de Biocombustíveis(TWh)\",\n",
        "    coloraxis_colorbar={\"title\": \"Produção de Biocombustíveis(TWh)\"}\n",
        ")"
      ],
      "metadata": {
        "colab": {
          "base_uri": "https://localhost:8080/",
          "height": 542
        },
        "id": "itNlbIcTNQ-c",
        "outputId": "f759753e-745d-4dd0-dfa9-01418a39d28c"
      },
      "execution_count": null,
      "outputs": [
        {
          "output_type": "display_data",
          "data": {
            "text/html": [
              "<html>\n",
              "<head><meta charset=\"utf-8\" /></head>\n",
              "<body>\n",
              "    <div>            <script src=\"https://cdnjs.cloudflare.com/ajax/libs/mathjax/2.7.5/MathJax.js?config=TeX-AMS-MML_SVG\"></script><script type=\"text/javascript\">if (window.MathJax && window.MathJax.Hub && window.MathJax.Hub.Config) {window.MathJax.Hub.Config({SVG: {font: \"STIX-Web\"}});}</script>                <script type=\"text/javascript\">window.PlotlyConfig = {MathJaxConfig: 'local'};</script>\n",
              "        <script charset=\"utf-8\" src=\"https://cdn.plot.ly/plotly-2.35.2.min.js\"></script>                <div id=\"791daa55-c6b5-432f-8194-e2b8bd924ca9\" class=\"plotly-graph-div\" style=\"height:525px; width:100%;\"></div>            <script type=\"text/javascript\">                                    window.PLOTLYENV=window.PLOTLYENV || {};                                    if (document.getElementById(\"791daa55-c6b5-432f-8194-e2b8bd924ca9\")) {                    Plotly.newPlot(                        \"791daa55-c6b5-432f-8194-e2b8bd924ca9\",                        [{\"coloraxis\":\"coloraxis\",\"geo\":\"geo\",\"hovertemplate\":\"Year=1990\\u003cbr\\u003eEntity=%{location}\\u003cbr\\u003eBiofuels Production - TWh - Total=%{z}\\u003cextra\\u003e\\u003c\\u002fextra\\u003e\",\"locationmode\":\"country names\",\"locations\":[\"Africa (BP)\",\"Argentina\",\"Australia\",\"Austria\",\"Belgium\",\"Brazil\",\"Canada\",\"China\",\"Colombia\",\"Europe (BP)\",\"European Union (27)\",\"Finland\",\"France\",\"Germany\",\"India\",\"Indonesia\",\"Italy\",\"Mexico\",\"Netherlands\",\"Non-OECD (BP)\",\"North America (BP)\",\"OECD (BP)\",\"Poland\",\"Portugal\",\"South Korea\",\"South and Central America (BP)\",\"Spain\",\"Sweden\",\"Thailand\",\"United Kingdom\",\"United States\",\"World\"],\"name\":\"\",\"z\":[0.068616726,0.0,0.0,0.073269,0.0,65.00527,0.0,0.0,0.0,0.073269,0.073269,0.0,0.0,0.0,0.0,0.0,0.0,0.0,0.0,65.880745,16.732742,16.806011,0.0,0.0,0.0,65.812126,0.0,0.0,0.0,0.0,16.732742,82.68676],\"type\":\"choropleth\"}],                        {\"template\":{\"data\":{\"histogram2dcontour\":[{\"type\":\"histogram2dcontour\",\"colorbar\":{\"outlinewidth\":0,\"ticks\":\"\"},\"colorscale\":[[0.0,\"#0d0887\"],[0.1111111111111111,\"#46039f\"],[0.2222222222222222,\"#7201a8\"],[0.3333333333333333,\"#9c179e\"],[0.4444444444444444,\"#bd3786\"],[0.5555555555555556,\"#d8576b\"],[0.6666666666666666,\"#ed7953\"],[0.7777777777777778,\"#fb9f3a\"],[0.8888888888888888,\"#fdca26\"],[1.0,\"#f0f921\"]]}],\"choropleth\":[{\"type\":\"choropleth\",\"colorbar\":{\"outlinewidth\":0,\"ticks\":\"\"}}],\"histogram2d\":[{\"type\":\"histogram2d\",\"colorbar\":{\"outlinewidth\":0,\"ticks\":\"\"},\"colorscale\":[[0.0,\"#0d0887\"],[0.1111111111111111,\"#46039f\"],[0.2222222222222222,\"#7201a8\"],[0.3333333333333333,\"#9c179e\"],[0.4444444444444444,\"#bd3786\"],[0.5555555555555556,\"#d8576b\"],[0.6666666666666666,\"#ed7953\"],[0.7777777777777778,\"#fb9f3a\"],[0.8888888888888888,\"#fdca26\"],[1.0,\"#f0f921\"]]}],\"heatmap\":[{\"type\":\"heatmap\",\"colorbar\":{\"outlinewidth\":0,\"ticks\":\"\"},\"colorscale\":[[0.0,\"#0d0887\"],[0.1111111111111111,\"#46039f\"],[0.2222222222222222,\"#7201a8\"],[0.3333333333333333,\"#9c179e\"],[0.4444444444444444,\"#bd3786\"],[0.5555555555555556,\"#d8576b\"],[0.6666666666666666,\"#ed7953\"],[0.7777777777777778,\"#fb9f3a\"],[0.8888888888888888,\"#fdca26\"],[1.0,\"#f0f921\"]]}],\"heatmapgl\":[{\"type\":\"heatmapgl\",\"colorbar\":{\"outlinewidth\":0,\"ticks\":\"\"},\"colorscale\":[[0.0,\"#0d0887\"],[0.1111111111111111,\"#46039f\"],[0.2222222222222222,\"#7201a8\"],[0.3333333333333333,\"#9c179e\"],[0.4444444444444444,\"#bd3786\"],[0.5555555555555556,\"#d8576b\"],[0.6666666666666666,\"#ed7953\"],[0.7777777777777778,\"#fb9f3a\"],[0.8888888888888888,\"#fdca26\"],[1.0,\"#f0f921\"]]}],\"contourcarpet\":[{\"type\":\"contourcarpet\",\"colorbar\":{\"outlinewidth\":0,\"ticks\":\"\"}}],\"contour\":[{\"type\":\"contour\",\"colorbar\":{\"outlinewidth\":0,\"ticks\":\"\"},\"colorscale\":[[0.0,\"#0d0887\"],[0.1111111111111111,\"#46039f\"],[0.2222222222222222,\"#7201a8\"],[0.3333333333333333,\"#9c179e\"],[0.4444444444444444,\"#bd3786\"],[0.5555555555555556,\"#d8576b\"],[0.6666666666666666,\"#ed7953\"],[0.7777777777777778,\"#fb9f3a\"],[0.8888888888888888,\"#fdca26\"],[1.0,\"#f0f921\"]]}],\"surface\":[{\"type\":\"surface\",\"colorbar\":{\"outlinewidth\":0,\"ticks\":\"\"},\"colorscale\":[[0.0,\"#0d0887\"],[0.1111111111111111,\"#46039f\"],[0.2222222222222222,\"#7201a8\"],[0.3333333333333333,\"#9c179e\"],[0.4444444444444444,\"#bd3786\"],[0.5555555555555556,\"#d8576b\"],[0.6666666666666666,\"#ed7953\"],[0.7777777777777778,\"#fb9f3a\"],[0.8888888888888888,\"#fdca26\"],[1.0,\"#f0f921\"]]}],\"mesh3d\":[{\"type\":\"mesh3d\",\"colorbar\":{\"outlinewidth\":0,\"ticks\":\"\"}}],\"scatter\":[{\"fillpattern\":{\"fillmode\":\"overlay\",\"size\":10,\"solidity\":0.2},\"type\":\"scatter\"}],\"parcoords\":[{\"type\":\"parcoords\",\"line\":{\"colorbar\":{\"outlinewidth\":0,\"ticks\":\"\"}}}],\"scatterpolargl\":[{\"type\":\"scatterpolargl\",\"marker\":{\"colorbar\":{\"outlinewidth\":0,\"ticks\":\"\"}}}],\"bar\":[{\"error_x\":{\"color\":\"#2a3f5f\"},\"error_y\":{\"color\":\"#2a3f5f\"},\"marker\":{\"line\":{\"color\":\"#E5ECF6\",\"width\":0.5},\"pattern\":{\"fillmode\":\"overlay\",\"size\":10,\"solidity\":0.2}},\"type\":\"bar\"}],\"scattergeo\":[{\"type\":\"scattergeo\",\"marker\":{\"colorbar\":{\"outlinewidth\":0,\"ticks\":\"\"}}}],\"scatterpolar\":[{\"type\":\"scatterpolar\",\"marker\":{\"colorbar\":{\"outlinewidth\":0,\"ticks\":\"\"}}}],\"histogram\":[{\"marker\":{\"pattern\":{\"fillmode\":\"overlay\",\"size\":10,\"solidity\":0.2}},\"type\":\"histogram\"}],\"scattergl\":[{\"type\":\"scattergl\",\"marker\":{\"colorbar\":{\"outlinewidth\":0,\"ticks\":\"\"}}}],\"scatter3d\":[{\"type\":\"scatter3d\",\"line\":{\"colorbar\":{\"outlinewidth\":0,\"ticks\":\"\"}},\"marker\":{\"colorbar\":{\"outlinewidth\":0,\"ticks\":\"\"}}}],\"scattermapbox\":[{\"type\":\"scattermapbox\",\"marker\":{\"colorbar\":{\"outlinewidth\":0,\"ticks\":\"\"}}}],\"scatterternary\":[{\"type\":\"scatterternary\",\"marker\":{\"colorbar\":{\"outlinewidth\":0,\"ticks\":\"\"}}}],\"scattercarpet\":[{\"type\":\"scattercarpet\",\"marker\":{\"colorbar\":{\"outlinewidth\":0,\"ticks\":\"\"}}}],\"carpet\":[{\"aaxis\":{\"endlinecolor\":\"#2a3f5f\",\"gridcolor\":\"white\",\"linecolor\":\"white\",\"minorgridcolor\":\"white\",\"startlinecolor\":\"#2a3f5f\"},\"baxis\":{\"endlinecolor\":\"#2a3f5f\",\"gridcolor\":\"white\",\"linecolor\":\"white\",\"minorgridcolor\":\"white\",\"startlinecolor\":\"#2a3f5f\"},\"type\":\"carpet\"}],\"table\":[{\"cells\":{\"fill\":{\"color\":\"#EBF0F8\"},\"line\":{\"color\":\"white\"}},\"header\":{\"fill\":{\"color\":\"#C8D4E3\"},\"line\":{\"color\":\"white\"}},\"type\":\"table\"}],\"barpolar\":[{\"marker\":{\"line\":{\"color\":\"#E5ECF6\",\"width\":0.5},\"pattern\":{\"fillmode\":\"overlay\",\"size\":10,\"solidity\":0.2}},\"type\":\"barpolar\"}],\"pie\":[{\"automargin\":true,\"type\":\"pie\"}]},\"layout\":{\"autotypenumbers\":\"strict\",\"colorway\":[\"#636efa\",\"#EF553B\",\"#00cc96\",\"#ab63fa\",\"#FFA15A\",\"#19d3f3\",\"#FF6692\",\"#B6E880\",\"#FF97FF\",\"#FECB52\"],\"font\":{\"color\":\"#2a3f5f\"},\"hovermode\":\"closest\",\"hoverlabel\":{\"align\":\"left\"},\"paper_bgcolor\":\"white\",\"plot_bgcolor\":\"#E5ECF6\",\"polar\":{\"bgcolor\":\"#E5ECF6\",\"angularaxis\":{\"gridcolor\":\"white\",\"linecolor\":\"white\",\"ticks\":\"\"},\"radialaxis\":{\"gridcolor\":\"white\",\"linecolor\":\"white\",\"ticks\":\"\"}},\"ternary\":{\"bgcolor\":\"#E5ECF6\",\"aaxis\":{\"gridcolor\":\"white\",\"linecolor\":\"white\",\"ticks\":\"\"},\"baxis\":{\"gridcolor\":\"white\",\"linecolor\":\"white\",\"ticks\":\"\"},\"caxis\":{\"gridcolor\":\"white\",\"linecolor\":\"white\",\"ticks\":\"\"}},\"coloraxis\":{\"colorbar\":{\"outlinewidth\":0,\"ticks\":\"\"}},\"colorscale\":{\"sequential\":[[0.0,\"#0d0887\"],[0.1111111111111111,\"#46039f\"],[0.2222222222222222,\"#7201a8\"],[0.3333333333333333,\"#9c179e\"],[0.4444444444444444,\"#bd3786\"],[0.5555555555555556,\"#d8576b\"],[0.6666666666666666,\"#ed7953\"],[0.7777777777777778,\"#fb9f3a\"],[0.8888888888888888,\"#fdca26\"],[1.0,\"#f0f921\"]],\"sequentialminus\":[[0.0,\"#0d0887\"],[0.1111111111111111,\"#46039f\"],[0.2222222222222222,\"#7201a8\"],[0.3333333333333333,\"#9c179e\"],[0.4444444444444444,\"#bd3786\"],[0.5555555555555556,\"#d8576b\"],[0.6666666666666666,\"#ed7953\"],[0.7777777777777778,\"#fb9f3a\"],[0.8888888888888888,\"#fdca26\"],[1.0,\"#f0f921\"]],\"diverging\":[[0,\"#8e0152\"],[0.1,\"#c51b7d\"],[0.2,\"#de77ae\"],[0.3,\"#f1b6da\"],[0.4,\"#fde0ef\"],[0.5,\"#f7f7f7\"],[0.6,\"#e6f5d0\"],[0.7,\"#b8e186\"],[0.8,\"#7fbc41\"],[0.9,\"#4d9221\"],[1,\"#276419\"]]},\"xaxis\":{\"gridcolor\":\"white\",\"linecolor\":\"white\",\"ticks\":\"\",\"title\":{\"standoff\":15},\"zerolinecolor\":\"white\",\"automargin\":true,\"zerolinewidth\":2},\"yaxis\":{\"gridcolor\":\"white\",\"linecolor\":\"white\",\"ticks\":\"\",\"title\":{\"standoff\":15},\"zerolinecolor\":\"white\",\"automargin\":true,\"zerolinewidth\":2},\"scene\":{\"xaxis\":{\"backgroundcolor\":\"#E5ECF6\",\"gridcolor\":\"white\",\"linecolor\":\"white\",\"showbackground\":true,\"ticks\":\"\",\"zerolinecolor\":\"white\",\"gridwidth\":2},\"yaxis\":{\"backgroundcolor\":\"#E5ECF6\",\"gridcolor\":\"white\",\"linecolor\":\"white\",\"showbackground\":true,\"ticks\":\"\",\"zerolinecolor\":\"white\",\"gridwidth\":2},\"zaxis\":{\"backgroundcolor\":\"#E5ECF6\",\"gridcolor\":\"white\",\"linecolor\":\"white\",\"showbackground\":true,\"ticks\":\"\",\"zerolinecolor\":\"white\",\"gridwidth\":2}},\"shapedefaults\":{\"line\":{\"color\":\"#2a3f5f\"}},\"annotationdefaults\":{\"arrowcolor\":\"#2a3f5f\",\"arrowhead\":0,\"arrowwidth\":1},\"geo\":{\"bgcolor\":\"white\",\"landcolor\":\"#E5ECF6\",\"subunitcolor\":\"white\",\"showland\":true,\"showlakes\":true,\"lakecolor\":\"white\"},\"title\":{\"x\":0.05},\"mapbox\":{\"style\":\"light\"}}},\"geo\":{\"domain\":{\"x\":[0.0,1.0],\"y\":[0.0,1.0]},\"center\":{},\"projection\":{\"type\":\"natural earth\"}},\"coloraxis\":{\"colorbar\":{\"title\":{\"text\":\"Produ\\u00e7\\u00e3o de Biocombust\\u00edveis(TWh)\"}},\"colorscale\":[[0.0,\"rgb(255,255,217)\"],[0.125,\"rgb(237,248,177)\"],[0.25,\"rgb(199,233,180)\"],[0.375,\"rgb(127,205,187)\"],[0.5,\"rgb(65,182,196)\"],[0.625,\"rgb(29,145,192)\"],[0.75,\"rgb(34,94,168)\"],[0.875,\"rgb(37,52,148)\"],[1.0,\"rgb(8,29,88)\"]],\"cmin\":0,\"cmax\":1114.4883},\"legend\":{\"tracegroupgap\":0},\"margin\":{\"t\":60},\"updatemenus\":[{\"buttons\":[{\"args\":[null,{\"frame\":{\"duration\":500,\"redraw\":true},\"mode\":\"immediate\",\"fromcurrent\":true,\"transition\":{\"duration\":500,\"easing\":\"linear\"}}],\"label\":\"&#9654;\",\"method\":\"animate\"},{\"args\":[[null],{\"frame\":{\"duration\":0,\"redraw\":true},\"mode\":\"immediate\",\"fromcurrent\":true,\"transition\":{\"duration\":0,\"easing\":\"linear\"}}],\"label\":\"&#9724;\",\"method\":\"animate\"}],\"direction\":\"left\",\"pad\":{\"r\":10,\"t\":70},\"showactive\":false,\"type\":\"buttons\",\"x\":0.1,\"xanchor\":\"right\",\"y\":0,\"yanchor\":\"top\"}],\"sliders\":[{\"active\":0,\"currentvalue\":{\"prefix\":\"Year=\"},\"len\":0.9,\"pad\":{\"b\":10,\"t\":60},\"steps\":[{\"args\":[[\"1990\"],{\"frame\":{\"duration\":0,\"redraw\":true},\"mode\":\"immediate\",\"fromcurrent\":true,\"transition\":{\"duration\":0,\"easing\":\"linear\"}}],\"label\":\"1990\",\"method\":\"animate\"},{\"args\":[[\"1991\"],{\"frame\":{\"duration\":0,\"redraw\":true},\"mode\":\"immediate\",\"fromcurrent\":true,\"transition\":{\"duration\":0,\"easing\":\"linear\"}}],\"label\":\"1991\",\"method\":\"animate\"},{\"args\":[[\"1992\"],{\"frame\":{\"duration\":0,\"redraw\":true},\"mode\":\"immediate\",\"fromcurrent\":true,\"transition\":{\"duration\":0,\"easing\":\"linear\"}}],\"label\":\"1992\",\"method\":\"animate\"},{\"args\":[[\"1993\"],{\"frame\":{\"duration\":0,\"redraw\":true},\"mode\":\"immediate\",\"fromcurrent\":true,\"transition\":{\"duration\":0,\"easing\":\"linear\"}}],\"label\":\"1993\",\"method\":\"animate\"},{\"args\":[[\"1994\"],{\"frame\":{\"duration\":0,\"redraw\":true},\"mode\":\"immediate\",\"fromcurrent\":true,\"transition\":{\"duration\":0,\"easing\":\"linear\"}}],\"label\":\"1994\",\"method\":\"animate\"},{\"args\":[[\"1995\"],{\"frame\":{\"duration\":0,\"redraw\":true},\"mode\":\"immediate\",\"fromcurrent\":true,\"transition\":{\"duration\":0,\"easing\":\"linear\"}}],\"label\":\"1995\",\"method\":\"animate\"},{\"args\":[[\"1996\"],{\"frame\":{\"duration\":0,\"redraw\":true},\"mode\":\"immediate\",\"fromcurrent\":true,\"transition\":{\"duration\":0,\"easing\":\"linear\"}}],\"label\":\"1996\",\"method\":\"animate\"},{\"args\":[[\"1997\"],{\"frame\":{\"duration\":0,\"redraw\":true},\"mode\":\"immediate\",\"fromcurrent\":true,\"transition\":{\"duration\":0,\"easing\":\"linear\"}}],\"label\":\"1997\",\"method\":\"animate\"},{\"args\":[[\"1998\"],{\"frame\":{\"duration\":0,\"redraw\":true},\"mode\":\"immediate\",\"fromcurrent\":true,\"transition\":{\"duration\":0,\"easing\":\"linear\"}}],\"label\":\"1998\",\"method\":\"animate\"},{\"args\":[[\"1999\"],{\"frame\":{\"duration\":0,\"redraw\":true},\"mode\":\"immediate\",\"fromcurrent\":true,\"transition\":{\"duration\":0,\"easing\":\"linear\"}}],\"label\":\"1999\",\"method\":\"animate\"},{\"args\":[[\"2000\"],{\"frame\":{\"duration\":0,\"redraw\":true},\"mode\":\"immediate\",\"fromcurrent\":true,\"transition\":{\"duration\":0,\"easing\":\"linear\"}}],\"label\":\"2000\",\"method\":\"animate\"},{\"args\":[[\"2001\"],{\"frame\":{\"duration\":0,\"redraw\":true},\"mode\":\"immediate\",\"fromcurrent\":true,\"transition\":{\"duration\":0,\"easing\":\"linear\"}}],\"label\":\"2001\",\"method\":\"animate\"},{\"args\":[[\"2002\"],{\"frame\":{\"duration\":0,\"redraw\":true},\"mode\":\"immediate\",\"fromcurrent\":true,\"transition\":{\"duration\":0,\"easing\":\"linear\"}}],\"label\":\"2002\",\"method\":\"animate\"},{\"args\":[[\"2003\"],{\"frame\":{\"duration\":0,\"redraw\":true},\"mode\":\"immediate\",\"fromcurrent\":true,\"transition\":{\"duration\":0,\"easing\":\"linear\"}}],\"label\":\"2003\",\"method\":\"animate\"},{\"args\":[[\"2004\"],{\"frame\":{\"duration\":0,\"redraw\":true},\"mode\":\"immediate\",\"fromcurrent\":true,\"transition\":{\"duration\":0,\"easing\":\"linear\"}}],\"label\":\"2004\",\"method\":\"animate\"},{\"args\":[[\"2005\"],{\"frame\":{\"duration\":0,\"redraw\":true},\"mode\":\"immediate\",\"fromcurrent\":true,\"transition\":{\"duration\":0,\"easing\":\"linear\"}}],\"label\":\"2005\",\"method\":\"animate\"},{\"args\":[[\"2006\"],{\"frame\":{\"duration\":0,\"redraw\":true},\"mode\":\"immediate\",\"fromcurrent\":true,\"transition\":{\"duration\":0,\"easing\":\"linear\"}}],\"label\":\"2006\",\"method\":\"animate\"},{\"args\":[[\"2007\"],{\"frame\":{\"duration\":0,\"redraw\":true},\"mode\":\"immediate\",\"fromcurrent\":true,\"transition\":{\"duration\":0,\"easing\":\"linear\"}}],\"label\":\"2007\",\"method\":\"animate\"},{\"args\":[[\"2008\"],{\"frame\":{\"duration\":0,\"redraw\":true},\"mode\":\"immediate\",\"fromcurrent\":true,\"transition\":{\"duration\":0,\"easing\":\"linear\"}}],\"label\":\"2008\",\"method\":\"animate\"},{\"args\":[[\"2009\"],{\"frame\":{\"duration\":0,\"redraw\":true},\"mode\":\"immediate\",\"fromcurrent\":true,\"transition\":{\"duration\":0,\"easing\":\"linear\"}}],\"label\":\"2009\",\"method\":\"animate\"},{\"args\":[[\"2010\"],{\"frame\":{\"duration\":0,\"redraw\":true},\"mode\":\"immediate\",\"fromcurrent\":true,\"transition\":{\"duration\":0,\"easing\":\"linear\"}}],\"label\":\"2010\",\"method\":\"animate\"},{\"args\":[[\"2011\"],{\"frame\":{\"duration\":0,\"redraw\":true},\"mode\":\"immediate\",\"fromcurrent\":true,\"transition\":{\"duration\":0,\"easing\":\"linear\"}}],\"label\":\"2011\",\"method\":\"animate\"},{\"args\":[[\"2012\"],{\"frame\":{\"duration\":0,\"redraw\":true},\"mode\":\"immediate\",\"fromcurrent\":true,\"transition\":{\"duration\":0,\"easing\":\"linear\"}}],\"label\":\"2012\",\"method\":\"animate\"},{\"args\":[[\"2013\"],{\"frame\":{\"duration\":0,\"redraw\":true},\"mode\":\"immediate\",\"fromcurrent\":true,\"transition\":{\"duration\":0,\"easing\":\"linear\"}}],\"label\":\"2013\",\"method\":\"animate\"},{\"args\":[[\"2014\"],{\"frame\":{\"duration\":0,\"redraw\":true},\"mode\":\"immediate\",\"fromcurrent\":true,\"transition\":{\"duration\":0,\"easing\":\"linear\"}}],\"label\":\"2014\",\"method\":\"animate\"},{\"args\":[[\"2015\"],{\"frame\":{\"duration\":0,\"redraw\":true},\"mode\":\"immediate\",\"fromcurrent\":true,\"transition\":{\"duration\":0,\"easing\":\"linear\"}}],\"label\":\"2015\",\"method\":\"animate\"},{\"args\":[[\"2016\"],{\"frame\":{\"duration\":0,\"redraw\":true},\"mode\":\"immediate\",\"fromcurrent\":true,\"transition\":{\"duration\":0,\"easing\":\"linear\"}}],\"label\":\"2016\",\"method\":\"animate\"},{\"args\":[[\"2017\"],{\"frame\":{\"duration\":0,\"redraw\":true},\"mode\":\"immediate\",\"fromcurrent\":true,\"transition\":{\"duration\":0,\"easing\":\"linear\"}}],\"label\":\"2017\",\"method\":\"animate\"},{\"args\":[[\"2018\"],{\"frame\":{\"duration\":0,\"redraw\":true},\"mode\":\"immediate\",\"fromcurrent\":true,\"transition\":{\"duration\":0,\"easing\":\"linear\"}}],\"label\":\"2018\",\"method\":\"animate\"},{\"args\":[[\"2019\"],{\"frame\":{\"duration\":0,\"redraw\":true},\"mode\":\"immediate\",\"fromcurrent\":true,\"transition\":{\"duration\":0,\"easing\":\"linear\"}}],\"label\":\"2019\",\"method\":\"animate\"},{\"args\":[[\"2020\"],{\"frame\":{\"duration\":0,\"redraw\":true},\"mode\":\"immediate\",\"fromcurrent\":true,\"transition\":{\"duration\":0,\"easing\":\"linear\"}}],\"label\":\"2020\",\"method\":\"animate\"},{\"args\":[[\"2021\"],{\"frame\":{\"duration\":0,\"redraw\":true},\"mode\":\"immediate\",\"fromcurrent\":true,\"transition\":{\"duration\":0,\"easing\":\"linear\"}}],\"label\":\"2021\",\"method\":\"animate\"}],\"x\":0.1,\"xanchor\":\"left\",\"y\":0,\"yanchor\":\"top\"}],\"title\":{\"text\":\"Produ\\u00e7\\u00e3o de Biocombust\\u00edveis(TWh)\"}},                        {\"responsive\": true}                    ).then(function(){\n",
              "                            Plotly.addFrames('791daa55-c6b5-432f-8194-e2b8bd924ca9', [{\"data\":[{\"coloraxis\":\"coloraxis\",\"geo\":\"geo\",\"hovertemplate\":\"Year=1990\\u003cbr\\u003eEntity=%{location}\\u003cbr\\u003eBiofuels Production - TWh - Total=%{z}\\u003cextra\\u003e\\u003c\\u002fextra\\u003e\",\"locationmode\":\"country names\",\"locations\":[\"Africa (BP)\",\"Argentina\",\"Australia\",\"Austria\",\"Belgium\",\"Brazil\",\"Canada\",\"China\",\"Colombia\",\"Europe (BP)\",\"European Union (27)\",\"Finland\",\"France\",\"Germany\",\"India\",\"Indonesia\",\"Italy\",\"Mexico\",\"Netherlands\",\"Non-OECD (BP)\",\"North America (BP)\",\"OECD (BP)\",\"Poland\",\"Portugal\",\"South Korea\",\"South and Central America (BP)\",\"Spain\",\"Sweden\",\"Thailand\",\"United Kingdom\",\"United States\",\"World\"],\"name\":\"\",\"z\":[0.068616726,0.0,0.0,0.073269,0.0,65.00527,0.0,0.0,0.0,0.073269,0.073269,0.0,0.0,0.0,0.0,0.0,0.0,0.0,0.0,65.880745,16.732742,16.806011,0.0,0.0,0.0,65.812126,0.0,0.0,0.0,0.0,16.732742,82.68676],\"type\":\"choropleth\"}],\"name\":\"1990\"},{\"data\":[{\"coloraxis\":\"coloraxis\",\"geo\":\"geo\",\"hovertemplate\":\"Year=1991\\u003cbr\\u003eEntity=%{location}\\u003cbr\\u003eBiofuels Production - TWh - Total=%{z}\\u003cextra\\u003e\\u003c\\u002fextra\\u003e\",\"locationmode\":\"country names\",\"locations\":[\"Africa (BP)\",\"Argentina\",\"Australia\",\"Austria\",\"Belgium\",\"Brazil\",\"Canada\",\"China\",\"Colombia\",\"Europe (BP)\",\"European Union (27)\",\"Finland\",\"France\",\"Germany\",\"India\",\"Indonesia\",\"Italy\",\"Mexico\",\"Netherlands\",\"Non-OECD (BP)\",\"North America (BP)\",\"OECD (BP)\",\"Poland\",\"Portugal\",\"South Korea\",\"South and Central America (BP)\",\"Spain\",\"Sweden\",\"Thailand\",\"United Kingdom\",\"United States\",\"World\"],\"name\":\"\",\"z\":[0.068616726,0.0,0.0,0.080247,0.0,72.90802,0.0,0.0,0.0,0.080247,0.080247,0.0,0.0,0.0,0.0,0.0,0.0,0.0,0.0,73.76861,19.388733,19.468979,0.0,0.0,0.0,73.69999,0.0,0.0,0.0,0.0,19.388733,93.23759],\"type\":\"choropleth\"}],\"name\":\"1991\"},{\"data\":[{\"coloraxis\":\"coloraxis\",\"geo\":\"geo\",\"hovertemplate\":\"Year=1992\\u003cbr\\u003eEntity=%{location}\\u003cbr\\u003eBiofuels Production - TWh - Total=%{z}\\u003cextra\\u003e\\u003c\\u002fextra\\u003e\",\"locationmode\":\"country names\",\"locations\":[\"Africa (BP)\",\"Argentina\",\"Australia\",\"Austria\",\"Belgium\",\"Brazil\",\"Canada\",\"China\",\"Colombia\",\"Europe (BP)\",\"European Union (27)\",\"Finland\",\"France\",\"Germany\",\"India\",\"Indonesia\",\"Italy\",\"Mexico\",\"Netherlands\",\"Non-OECD (BP)\",\"North America (BP)\",\"OECD (BP)\",\"Poland\",\"Portugal\",\"South Korea\",\"South and Central America (BP)\",\"Spain\",\"Sweden\",\"Thailand\",\"United Kingdom\",\"United States\",\"World\"],\"name\":\"\",\"z\":[0.06880471,0.0,0.0,0.089551,0.0,66.798546,0.0,0.0,0.0,0.20241645,0.20241645,0.0,0.02624891,0.05167209,0.0,0.0,0.0,0.0,0.0,67.61646,22.044724,22.247139,0.0,0.0,0.0,67.54766,0.0,0.0,0.0,0.0,22.044724,89.8636],\"type\":\"choropleth\"}],\"name\":\"1992\"},{\"data\":[{\"coloraxis\":\"coloraxis\",\"geo\":\"geo\",\"hovertemplate\":\"Year=1993\\u003cbr\\u003eEntity=%{location}\\u003cbr\\u003eBiofuels Production - TWh - Total=%{z}\\u003cextra\\u003e\\u003c\\u002fextra\\u003e\",\"locationmode\":\"country names\",\"locations\":[\"Africa (BP)\",\"Argentina\",\"Australia\",\"Austria\",\"Belgium\",\"Brazil\",\"Canada\",\"China\",\"Colombia\",\"Europe (BP)\",\"European Union (27)\",\"Finland\",\"France\",\"Germany\",\"India\",\"Indonesia\",\"Italy\",\"Mexico\",\"Netherlands\",\"Non-OECD (BP)\",\"North America (BP)\",\"OECD (BP)\",\"Poland\",\"Portugal\",\"South Korea\",\"South and Central America (BP)\",\"Spain\",\"Sweden\",\"Thailand\",\"United Kingdom\",\"United States\",\"World\"],\"name\":\"\",\"z\":[0.068616726,0.0,0.0,0.101181,0.0,64.79953,0.0,0.0,0.0,0.5027869,0.5027869,0.0,0.2923782,0.05167209,0.0,0.0,0.0,0.0,0.0,65.46439,25.833727,26.336514,0.0,0.0,0.0,65.395775,0.0,0.0,0.0,0.0,25.833727,91.8009],\"type\":\"choropleth\"}],\"name\":\"1993\"},{\"data\":[{\"coloraxis\":\"coloraxis\",\"geo\":\"geo\",\"hovertemplate\":\"Year=1994\\u003cbr\\u003eEntity=%{location}\\u003cbr\\u003eBiofuels Production - TWh - Total=%{z}\\u003cextra\\u003e\\u003c\\u002fextra\\u003e\",\"locationmode\":\"country names\",\"locations\":[\"Africa (BP)\",\"Argentina\",\"Australia\",\"Austria\",\"Belgium\",\"Brazil\",\"Canada\",\"China\",\"Colombia\",\"Europe (BP)\",\"European Union (27)\",\"Finland\",\"France\",\"Germany\",\"India\",\"Indonesia\",\"Italy\",\"Mexico\",\"Netherlands\",\"Non-OECD (BP)\",\"North America (BP)\",\"OECD (BP)\",\"Poland\",\"Portugal\",\"South Korea\",\"South and Central America (BP)\",\"Spain\",\"Sweden\",\"Thailand\",\"United Kingdom\",\"United States\",\"World\"],\"name\":\"\",\"z\":[0.068616726,0.0,0.0,0.067454,0.0,71.16422,0.0,0.0,0.0,1.4007673,1.4007673,0.0,0.94942665,0.28933114,0.0,0.0,0.0,0.0,0.0,71.78242,28.846283,30.24705,0.0,0.0,0.0,71.713806,0.0,0.0,0.0,0.0,28.846283,102.02947],\"type\":\"choropleth\"}],\"name\":\"1994\"},{\"data\":[{\"coloraxis\":\"coloraxis\",\"geo\":\"geo\",\"hovertemplate\":\"Year=1995\\u003cbr\\u003eEntity=%{location}\\u003cbr\\u003eBiofuels Production - TWh - Total=%{z}\\u003cextra\\u003e\\u003c\\u002fextra\\u003e\",\"locationmode\":\"country names\",\"locations\":[\"Africa (BP)\",\"Argentina\",\"Australia\",\"Austria\",\"Belgium\",\"Brazil\",\"Canada\",\"China\",\"Colombia\",\"Europe (BP)\",\"European Union (27)\",\"Finland\",\"France\",\"Germany\",\"India\",\"Indonesia\",\"Italy\",\"Mexico\",\"Netherlands\",\"Non-OECD (BP)\",\"North America (BP)\",\"OECD (BP)\",\"Poland\",\"Portugal\",\"South Korea\",\"South and Central America (BP)\",\"Spain\",\"Sweden\",\"Thailand\",\"United Kingdom\",\"United States\",\"World\"],\"name\":\"\",\"z\":[0.068616726,0.0,0.0,0.130256,0.0,72.528015,0.0,0.0,0.0,2.474585,2.474585,0.0,1.8613815,0.36166975,0.0,0.0,0.0,0.0,0.0,73.09291,30.384048,32.858635,0.0,0.0,0.0,73.02429,0.0,0.0,0.0,0.0,30.384048,105.951546],\"type\":\"choropleth\"}],\"name\":\"1995\"},{\"data\":[{\"coloraxis\":\"coloraxis\",\"geo\":\"geo\",\"hovertemplate\":\"Year=1996\\u003cbr\\u003eEntity=%{location}\\u003cbr\\u003eBiofuels Production - TWh - Total=%{z}\\u003cextra\\u003e\\u003c\\u002fextra\\u003e\",\"locationmode\":\"country names\",\"locations\":[\"Africa (BP)\",\"Argentina\",\"Australia\",\"Austria\",\"Belgium\",\"Brazil\",\"Canada\",\"China\",\"Colombia\",\"Europe (BP)\",\"European Union (27)\",\"Finland\",\"France\",\"Germany\",\"India\",\"Indonesia\",\"Italy\",\"Mexico\",\"Netherlands\",\"Non-OECD (BP)\",\"North America (BP)\",\"OECD (BP)\",\"Poland\",\"Portugal\",\"South Korea\",\"South and Central America (BP)\",\"Spain\",\"Sweden\",\"Thailand\",\"United Kingdom\",\"United States\",\"World\"],\"name\":\"\",\"z\":[0.06880471,0.0,0.0,0.141886,0.0,80.751854,0.0,0.0,0.0,3.590217,3.590217,0.0,2.678552,0.5683348,0.0,0.0,0.0,0.0,0.0,81.28529,21.78628,25.376497,0.0,0.0,0.0,81.216484,0.0,0.0,0.0,0.0,21.78628,106.66179],\"type\":\"choropleth\"}],\"name\":\"1996\"},{\"data\":[{\"coloraxis\":\"coloraxis\",\"geo\":\"geo\",\"hovertemplate\":\"Year=1997\\u003cbr\\u003eEntity=%{location}\\u003cbr\\u003eBiofuels Production - TWh - Total=%{z}\\u003cextra\\u003e\\u003c\\u002fextra\\u003e\",\"locationmode\":\"country names\",\"locations\":[\"Africa (BP)\",\"Argentina\",\"Australia\",\"Austria\",\"Belgium\",\"Brazil\",\"Canada\",\"China\",\"Colombia\",\"Europe (BP)\",\"European Union (27)\",\"Finland\",\"France\",\"Germany\",\"India\",\"Indonesia\",\"Italy\",\"Mexico\",\"Netherlands\",\"Non-OECD (BP)\",\"North America (BP)\",\"OECD (BP)\",\"Poland\",\"Portugal\",\"South Korea\",\"South and Central America (BP)\",\"Spain\",\"Sweden\",\"Thailand\",\"United Kingdom\",\"United States\",\"World\"],\"name\":\"\",\"z\":[0.102925085,0.0,0.0,0.153516,0.0,88.75702,0.0,0.0,0.0,4.5907125,4.5737877,0.0,3.2066004,0.9300046,0.0,0.0,0.0,0.0,0.0,89.2812,28.832184,33.422894,0.0,0.0,0.0,89.17827,0.0,0.0,0.0,0.0,28.832184,122.70409],\"type\":\"choropleth\"}],\"name\":\"1997\"},{\"data\":[{\"coloraxis\":\"coloraxis\",\"geo\":\"geo\",\"hovertemplate\":\"Year=1998\\u003cbr\\u003eEntity=%{location}\\u003cbr\\u003eBiofuels Production - TWh - Total=%{z}\\u003cextra\\u003e\\u003c\\u002fextra\\u003e\",\"locationmode\":\"country names\",\"locations\":[\"Africa (BP)\",\"Argentina\",\"Australia\",\"Austria\",\"Belgium\",\"Brazil\",\"Canada\",\"China\",\"Colombia\",\"Europe (BP)\",\"European Union (27)\",\"Finland\",\"France\",\"Germany\",\"India\",\"Indonesia\",\"Italy\",\"Mexico\",\"Netherlands\",\"Non-OECD (BP)\",\"North America (BP)\",\"OECD (BP)\",\"Poland\",\"Portugal\",\"South Korea\",\"South and Central America (BP)\",\"Spain\",\"Sweden\",\"Thailand\",\"United Kingdom\",\"United States\",\"World\"],\"name\":\"\",\"z\":[0.102925085,0.0,0.0,0.165146,0.0,81.04088,0.0,0.0,0.0,4.3727264,4.3575115,0.0,2.9976673,1.0333371,0.0,0.0,0.0,0.0,0.0,81.490585,31.444319,35.817043,0.0,0.0,0.0,81.387665,0.0,0.0,0.0,0.0,31.444319,117.30763],\"type\":\"choropleth\"}],\"name\":\"1998\"},{\"data\":[{\"coloraxis\":\"coloraxis\",\"geo\":\"geo\",\"hovertemplate\":\"Year=1999\\u003cbr\\u003eEntity=%{location}\\u003cbr\\u003eBiofuels Production - TWh - Total=%{z}\\u003cextra\\u003e\\u003c\\u002fextra\\u003e\",\"locationmode\":\"country names\",\"locations\":[\"Africa (BP)\",\"Argentina\",\"Australia\",\"Austria\",\"Belgium\",\"Brazil\",\"Canada\",\"China\",\"Colombia\",\"Europe (BP)\",\"European Union (27)\",\"Finland\",\"France\",\"Germany\",\"India\",\"Indonesia\",\"Italy\",\"Mexico\",\"Netherlands\",\"Non-OECD (BP)\",\"North America (BP)\",\"OECD (BP)\",\"Poland\",\"Portugal\",\"South Korea\",\"South and Central America (BP)\",\"Spain\",\"Sweden\",\"Thailand\",\"United Kingdom\",\"United States\",\"World\"],\"name\":\"\",\"z\":[0.068616726,0.0,0.0,0.181428,0.0,74.77354,0.57797325,0.0,0.0,5.0051155,4.990824,0.0,3.1512532,1.3433348,0.0,0.0,0.0,0.0,0.0,75.23713,33.364548,38.369663,0.0,0.0,0.0,75.16851,0.0,0.0,0.0,0.0,32.786575,113.60679],\"type\":\"choropleth\"}],\"name\":\"1999\"},{\"data\":[{\"coloraxis\":\"coloraxis\",\"geo\":\"geo\",\"hovertemplate\":\"Year=2000\\u003cbr\\u003eEntity=%{location}\\u003cbr\\u003eBiofuels Production - TWh - Total=%{z}\\u003cextra\\u003e\\u003c\\u002fextra\\u003e\",\"locationmode\":\"country names\",\"locations\":[\"Africa (BP)\",\"Argentina\",\"Asia Pacific (BP)\",\"Australia\",\"Austria\",\"Belgium\",\"Brazil\",\"Canada\",\"China\",\"Colombia\",\"Europe (BP)\",\"European Union (27)\",\"Finland\",\"France\",\"Germany\",\"India\",\"Indonesia\",\"Italy\",\"Mexico\",\"Netherlands\",\"Non-OECD (BP)\",\"North America (BP)\",\"OECD (BP)\",\"Poland\",\"Portugal\",\"South Korea\",\"South and Central America (BP)\",\"Spain\",\"Sweden\",\"Thailand\",\"United Kingdom\",\"United States\",\"World\"],\"name\":\"\",\"z\":[0.06880471,0.053206034,0.9976683,0.0,0.21282414,0.0,61.795197,1.2613882,0.0,0.0,8.130677,8.11399,0.0,3.7758656,2.583337,0.9976683,0.0,0.0,0.0,0.0,63.295094,37.569035,45.69971,0.0,0.0,0.0,62.22862,0.85129654,0.0,0.0,0.0,36.307648,108.994804],\"type\":\"choropleth\"}],\"name\":\"2000\"},{\"data\":[{\"coloraxis\":\"coloraxis\",\"geo\":\"geo\",\"hovertemplate\":\"Year=2001\\u003cbr\\u003eEntity=%{location}\\u003cbr\\u003eBiofuels Production - TWh - Total=%{z}\\u003cextra\\u003e\\u003c\\u002fextra\\u003e\",\"locationmode\":\"country names\",\"locations\":[\"Africa (BP)\",\"Argentina\",\"Asia Pacific (BP)\",\"Australia\",\"Austria\",\"Belgium\",\"Brazil\",\"Canada\",\"China\",\"Colombia\",\"Europe (BP)\",\"European Union (27)\",\"Finland\",\"France\",\"Germany\",\"India\",\"Indonesia\",\"Italy\",\"Mexico\",\"Netherlands\",\"Non-OECD (BP)\",\"North America (BP)\",\"OECD (BP)\",\"Poland\",\"Portugal\",\"South Korea\",\"South and Central America (BP)\",\"Spain\",\"Sweden\",\"Thailand\",\"United Kingdom\",\"United States\",\"World\"],\"name\":\"\",\"z\":[0.068616726,0.106121324,1.0823115,0.0,0.21224265,0.0,66.34447,1.3259386,0.053060662,0.0,10.038443,10.020732,0.0,3.7668989,3.6166625,1.0292509,0.0,0.0,0.0,0.0,67.96473,41.127224,51.16567,0.0,0.0,0.0,66.813805,0.8489706,0.16962355,0.0,0.0,39.801285,119.1304],\"type\":\"choropleth\"}],\"name\":\"2001\"},{\"data\":[{\"coloraxis\":\"coloraxis\",\"geo\":\"geo\",\"hovertemplate\":\"Year=2002\\u003cbr\\u003eEntity=%{location}\\u003cbr\\u003eBiofuels Production - TWh - Total=%{z}\\u003cextra\\u003e\\u003c\\u002fextra\\u003e\",\"locationmode\":\"country names\",\"locations\":[\"Africa (BP)\",\"Argentina\",\"Asia Pacific (BP)\",\"Australia\",\"Austria\",\"Belgium\",\"Brazil\",\"Canada\",\"China\",\"Colombia\",\"Europe (BP)\",\"European Union (27)\",\"Finland\",\"France\",\"Germany\",\"India\",\"Indonesia\",\"Italy\",\"Mexico\",\"Middle East (BP)\",\"Netherlands\",\"Non-OECD (BP)\",\"North America (BP)\",\"OECD (BP)\",\"Poland\",\"Portugal\",\"South Korea\",\"South and Central America (BP)\",\"Spain\",\"Sweden\",\"Thailand\",\"United Kingdom\",\"United States\",\"World\"],\"name\":\"\",\"z\":[0.32069764,0.106121324,2.8769584,0.0,0.2653033,0.0,72.809166,1.3599371,1.7684788,0.0,13.413471,13.365415,0.0,4.034773,5.6833367,1.0978676,0.0,0.0,0.0,0.08901826,0.0,77.49118,49.619167,63.132267,0.0,0.0,0.010612133,74.30414,1.4820771,0.37980092,0.0,0.031836398,48.259228,140.62344],\"type\":\"choropleth\"}],\"name\":\"2002\"},{\"data\":[{\"coloraxis\":\"coloraxis\",\"geo\":\"geo\",\"hovertemplate\":\"Year=2003\\u003cbr\\u003eEntity=%{location}\\u003cbr\\u003eBiofuels Production - TWh - Total=%{z}\\u003cextra\\u003e\\u003c\\u002fextra\\u003e\",\"locationmode\":\"country names\",\"locations\":[\"Africa (BP)\",\"Argentina\",\"Asia Pacific (BP)\",\"Australia\",\"Austria\",\"Belgium\",\"Brazil\",\"Canada\",\"China\",\"Colombia\",\"Europe (BP)\",\"European Union (27)\",\"Finland\",\"France\",\"Germany\",\"India\",\"Indonesia\",\"Italy\",\"Mexico\",\"Middle East (BP)\",\"Netherlands\",\"Non-OECD (BP)\",\"North America (BP)\",\"OECD (BP)\",\"Poland\",\"Portugal\",\"South Korea\",\"South and Central America (BP)\",\"Spain\",\"Sweden\",\"Thailand\",\"United Kingdom\",\"United States\",\"World\"],\"name\":\"\",\"z\":[0.33128294,0.106121324,6.5407166,0.5353231,0.31836396,0.0,83.917046,1.3599371,4.856231,0.0,16.929909,16.802538,0.0,4.430088,6.912907,1.1321759,0.0,0.0,0.0,0.09906963,0.0,92.03907,64.61444,82.302795,0.34308362,0.0,0.01686995,85.82644,2.090464,1.0517358,0.0,0.106121324,63.254505,174.34186],\"type\":\"choropleth\"}],\"name\":\"2003\"},{\"data\":[{\"coloraxis\":\"coloraxis\",\"geo\":\"geo\",\"hovertemplate\":\"Year=2004\\u003cbr\\u003eEntity=%{location}\\u003cbr\\u003eBiofuels Production - TWh - Total=%{z}\\u003cextra\\u003e\\u003c\\u002fextra\\u003e\",\"locationmode\":\"country names\",\"locations\":[\"Africa (BP)\",\"Argentina\",\"Asia Pacific (BP)\",\"Australia\",\"Austria\",\"Belgium\",\"Brazil\",\"Canada\",\"China\",\"Colombia\",\"Europe (BP)\",\"European Union (27)\",\"Finland\",\"France\",\"Germany\",\"India\",\"Indonesia\",\"Italy\",\"Mexico\",\"Middle East (BP)\",\"Netherlands\",\"Non-OECD (BP)\",\"North America (BP)\",\"OECD (BP)\",\"Poland\",\"Portugal\",\"South Korea\",\"South and Central America (BP)\",\"Spain\",\"Sweden\",\"Thailand\",\"United Kingdom\",\"United States\",\"World\"],\"name\":\"\",\"z\":[0.36543164,0.10641207,6.5983725,0.32180902,0.5852664,0.0,84.634285,1.363663,5.965346,0.0,25.367048,25.178555,0.0,4.643859,10.579198,0.22170524,0.0,2.9394476,0.0,0.08144012,0.06880471,93.01503,78.52306,104.41975,0.06880471,0.0,0.053947262,86.49942,2.546627,1.9810077,0.034402356,0.10641207,77.1594,197.43477],\"type\":\"choropleth\"}],\"name\":\"2004\"},{\"data\":[{\"coloraxis\":\"coloraxis\",\"geo\":\"geo\",\"hovertemplate\":\"Year=2005\\u003cbr\\u003eEntity=%{location}\\u003cbr\\u003eBiofuels Production - TWh - Total=%{z}\\u003cextra\\u003e\\u003c\\u002fextra\\u003e\",\"locationmode\":\"country names\",\"locations\":[\"Africa (BP)\",\"Argentina\",\"Asia Pacific (BP)\",\"Australia\",\"Austria\",\"Belgium\",\"Brazil\",\"Canada\",\"China\",\"Colombia\",\"Europe (BP)\",\"European Union (27)\",\"Finland\",\"France\",\"Germany\",\"India\",\"Indonesia\",\"Italy\",\"Mexico\",\"Middle East (BP)\",\"Netherlands\",\"Non-OECD (BP)\",\"North America (BP)\",\"OECD (BP)\",\"Poland\",\"Portugal\",\"South Korea\",\"South and Central America (BP)\",\"Spain\",\"Sweden\",\"Thailand\",\"United Kingdom\",\"United States\",\"World\"],\"name\":\"\",\"z\":[0.41999254,0.106121324,10.475127,0.32005984,0.8489706,0.0,92.56785,1.4959308,8.368024,0.17154181,34.71126,34.50463,0.0,7.501699,16.176365,0.915697,0.10277778,2.055556,0.0,0.0,0.034308363,104.845245,92.01743,127.448685,1.3228952,0.010612133,0.13318573,94.67012,3.4133594,0.41834274,0.623943,0.09173744,90.5215,232.29393],\"type\":\"choropleth\"}],\"name\":\"2005\"},{\"data\":[{\"coloraxis\":\"coloraxis\",\"geo\":\"geo\",\"hovertemplate\":\"Year=2006\\u003cbr\\u003eEntity=%{location}\\u003cbr\\u003eBiofuels Production - TWh - Total=%{z}\\u003cextra\\u003e\\u003c\\u002fextra\\u003e\",\"locationmode\":\"country names\",\"locations\":[\"Africa (BP)\",\"Argentina\",\"Asia Pacific (BP)\",\"Australia\",\"Austria\",\"Belgium\",\"Brazil\",\"Canada\",\"China\",\"Colombia\",\"Europe (BP)\",\"European Union (27)\",\"Finland\",\"France\",\"Germany\",\"India\",\"Indonesia\",\"Italy\",\"Mexico\",\"Middle East (BP)\",\"Netherlands\",\"Non-OECD (BP)\",\"North America (BP)\",\"OECD (BP)\",\"Poland\",\"Portugal\",\"South Korea\",\"South and Central America (BP)\",\"Spain\",\"Sweden\",\"Thailand\",\"United Kingdom\",\"United States\",\"World\"],\"name\":\"\",\"z\":[0.44839332,0.35267234,17.087872,0.59205866,1.2734559,0.0,102.801834,1.918643,12.231145,1.5707597,51.120678,48.07975,0.0,7.866113,26.60217,0.82633024,0.5138889,2.2919474,0.0,0.0,0.27188888,122.93111,119.898056,173.68736,1.7473805,0.81772375,0.53019184,108.06346,3.0383132,0.47564375,0.9670266,2.6513376,117.979416,296.61847],\"type\":\"choropleth\"}],\"name\":\"2006\"},{\"data\":[{\"coloraxis\":\"coloraxis\",\"geo\":\"geo\",\"hovertemplate\":\"Year=2007\\u003cbr\\u003eEntity=%{location}\\u003cbr\\u003eBiofuels Production - TWh - Total=%{z}\\u003cextra\\u003e\\u003c\\u002fextra\\u003e\",\"locationmode\":\"country names\",\"locations\":[\"Africa (BP)\",\"Argentina\",\"Asia Pacific (BP)\",\"Australia\",\"Austria\",\"Belgium\",\"Brazil\",\"CIS (BP)\",\"Canada\",\"China\",\"Colombia\",\"Europe (BP)\",\"European Union (27)\",\"Finland\",\"France\",\"Germany\",\"India\",\"Indonesia\",\"Italy\",\"Mexico\",\"Middle East (BP)\",\"Netherlands\",\"Non-OECD (BP)\",\"North America (BP)\",\"OECD (BP)\",\"Poland\",\"Portugal\",\"South Korea\",\"South and Central America (BP)\",\"Spain\",\"Sweden\",\"Thailand\",\"United Kingdom\",\"United States\",\"World\"],\"name\":\"\",\"z\":[0.45416325,2.007858,23.5589,1.1593292,2.5759044,0.0,132.91316,0.0,5.5999856,13.484257,1.6889794,69.87283,64.996864,0.43303058,13.113837,33.02326,1.1078415,2.5254989,2.076106,0.0,0.0,0.94805557,161.24913,168.49942,241.87306,1.1637132,1.8858278,0.9665246,140.73686,4.2587085,0.57034683,1.6659788,4.5208836,162.89944,403.1222],\"type\":\"choropleth\"}],\"name\":\"2007\"},{\"data\":[{\"coloraxis\":\"coloraxis\",\"geo\":\"geo\",\"hovertemplate\":\"Year=2008\\u003cbr\\u003eEntity=%{location}\\u003cbr\\u003eBiofuels Production - TWh - Total=%{z}\\u003cextra\\u003e\\u003c\\u002fextra\\u003e\",\"locationmode\":\"country names\",\"locations\":[\"Africa (BP)\",\"Argentina\",\"Asia Pacific (BP)\",\"Australia\",\"Austria\",\"Belgium\",\"Brazil\",\"CIS (BP)\",\"Canada\",\"China\",\"Colombia\",\"Europe (BP)\",\"European Union (27)\",\"Finland\",\"France\",\"Germany\",\"India\",\"Indonesia\",\"Italy\",\"Mexico\",\"Middle East (BP)\",\"Netherlands\",\"Non-OECD (BP)\",\"North America (BP)\",\"OECD (BP)\",\"Poland\",\"Portugal\",\"South Korea\",\"South and Central America (BP)\",\"Spain\",\"Sweden\",\"Thailand\",\"United Kingdom\",\"United States\",\"World\"],\"name\":\"\",\"z\":[0.5273259,7.1122904,38.093407,1.8793633,3.095625,0.0,166.03877,0.07514027,6.0085735,16.731058,1.7494818,90.39917,86.2143,0.991635,24.178932,29.390696,1.7061033,5.1463323,7.279287,0.0,0.0,0.9051667,214.10115,237.81534,333.14224,3.3347955,1.7329049,2.0659764,180.33301,4.3520007,1.540661,6.0350504,3.3232377,231.80676,547.2434],\"type\":\"choropleth\"}],\"name\":\"2008\"},{\"data\":[{\"coloraxis\":\"coloraxis\",\"geo\":\"geo\",\"hovertemplate\":\"Year=2009\\u003cbr\\u003eEntity=%{location}\\u003cbr\\u003eBiofuels Production - TWh - Total=%{z}\\u003cextra\\u003e\\u003c\\u002fextra\\u003e\",\"locationmode\":\"country names\",\"locations\":[\"Africa (BP)\",\"Argentina\",\"Asia Pacific (BP)\",\"Australia\",\"Austria\",\"Belgium\",\"Brazil\",\"CIS (BP)\",\"Canada\",\"China\",\"Colombia\",\"Europe (BP)\",\"European Union (27)\",\"Finland\",\"France\",\"Germany\",\"India\",\"Indonesia\",\"Italy\",\"Mexico\",\"Middle East (BP)\",\"Netherlands\",\"Non-OECD (BP)\",\"North America (BP)\",\"OECD (BP)\",\"Poland\",\"Portugal\",\"South Korea\",\"South and Central America (BP)\",\"Spain\",\"Sweden\",\"Thailand\",\"United Kingdom\",\"United States\",\"World\"],\"name\":\"\",\"z\":[3.180501,11.965088,39.615303,2.6951258,4.2849255,1.5663052,163.49847,0.23475969,8.729076,18.286423,3.6427,111.11985,107.94192,2.6928995,27.055717,29.409874,1.3065449,1.7491089,8.685807,0.0,0.1359678,2.816111,215.97638,271.37283,390.94986,4.6976676,2.6254027,2.956218,181.26701,10.473661,2.1265106,7.4379945,2.5000198,262.64377,606.9262],\"type\":\"choropleth\"}],\"name\":\"2009\"},{\"data\":[{\"coloraxis\":\"coloraxis\",\"geo\":\"geo\",\"hovertemplate\":\"Year=2010\\u003cbr\\u003eEntity=%{location}\\u003cbr\\u003eBiofuels Production - TWh - Total=%{z}\\u003cextra\\u003e\\u003c\\u002fextra\\u003e\",\"locationmode\":\"country names\",\"locations\":[\"Africa (BP)\",\"Argentina\",\"Asia Pacific (BP)\",\"Australia\",\"Austria\",\"Belgium\",\"Brazil\",\"CIS (BP)\",\"Canada\",\"China\",\"Colombia\",\"Europe (BP)\",\"European Union (27)\",\"Finland\",\"France\",\"Germany\",\"India\",\"Indonesia\",\"Italy\",\"Mexico\",\"Middle East (BP)\",\"Netherlands\",\"Non-OECD (BP)\",\"North America (BP)\",\"OECD (BP)\",\"Poland\",\"Portugal\",\"South Korea\",\"South and Central America (BP)\",\"Spain\",\"Sweden\",\"Thailand\",\"United Kingdom\",\"United States\",\"World\"],\"name\":\"\",\"z\":[1.1110405,19.893944,42.821674,2.1017818,4.487388,4.2494974,181.3416,0.3841703,9.353597,17.774601,5.2514305,126.63299,123.1452,3.5050526,26.374874,36.448257,2.1186633,2.2396321,9.046453,0.0,0.13005614,4.511413,242.44206,318.8539,456.31482,5.041024,3.3028038,4.14984,208.82304,11.731279,2.411469,9.69942,3.268623,309.5003,698.7569],\"type\":\"choropleth\"}],\"name\":\"2010\"},{\"data\":[{\"coloraxis\":\"coloraxis\",\"geo\":\"geo\",\"hovertemplate\":\"Year=2011\\u003cbr\\u003eEntity=%{location}\\u003cbr\\u003eBiofuels Production - TWh - Total=%{z}\\u003cextra\\u003e\\u003c\\u002fextra\\u003e\",\"locationmode\":\"country names\",\"locations\":[\"Africa (BP)\",\"Argentina\",\"Asia Pacific (BP)\",\"Australia\",\"Austria\",\"Belgium\",\"Brazil\",\"CIS (BP)\",\"Canada\",\"China\",\"Colombia\",\"Europe (BP)\",\"European Union (27)\",\"Finland\",\"France\",\"Germany\",\"India\",\"Indonesia\",\"Italy\",\"Mexico\",\"Middle East (BP)\",\"Netherlands\",\"Non-OECD (BP)\",\"North America (BP)\",\"OECD (BP)\",\"Poland\",\"Portugal\",\"South Korea\",\"South and Central America (BP)\",\"Spain\",\"Sweden\",\"Thailand\",\"United Kingdom\",\"United States\",\"World\"],\"name\":\"\",\"z\":[1.2481376,25.844816,68.813034,2.5427175,4.459111,4.9068365,155.90176,0.30500025,11.039007,22.119543,6.638568,124.416046,121.16336,2.416091,26.244072,35.813656,3.0859625,16.585945,6.8204136,0.0,0.14187948,7.6950274,250.53322,356.2605,492.24103,4.7568064,3.841075,3.908308,191.58966,9.744389,2.2329483,10.68797,2.0225036,345.2215,742.77423],\"type\":\"choropleth\"}],\"name\":\"2011\"},{\"data\":[{\"coloraxis\":\"coloraxis\",\"geo\":\"geo\",\"hovertemplate\":\"Year=2012\\u003cbr\\u003eEntity=%{location}\\u003cbr\\u003eBiofuels Production - TWh - Total=%{z}\\u003cextra\\u003e\\u003c\\u002fextra\\u003e\",\"locationmode\":\"country names\",\"locations\":[\"Africa (BP)\",\"Argentina\",\"Asia Pacific (BP)\",\"Australia\",\"Austria\",\"Belgium\",\"Brazil\",\"CIS (BP)\",\"Canada\",\"China\",\"Colombia\",\"Europe (BP)\",\"European Union (27)\",\"Finland\",\"France\",\"Germany\",\"India\",\"Indonesia\",\"Italy\",\"Mexico\",\"Middle East (BP)\",\"Netherlands\",\"Non-OECD (BP)\",\"North America (BP)\",\"OECD (BP)\",\"Poland\",\"Portugal\",\"South Korea\",\"South and Central America (BP)\",\"Spain\",\"Sweden\",\"Thailand\",\"United Kingdom\",\"United States\",\"World\"],\"name\":\"\",\"z\":[1.2687395,26.502537,81.81848,2.6933994,4.459111,5.2025642,159.61436,0.33200043,10.829853,23.6831,7.279806,135.19647,130.64993,3.066077,30.628035,33.560238,2.9523406,20.319767,3.6217332,0.0,0.15412393,14.698286,267.75415,340.93863,488.51578,7.505673,3.2053094,4.185823,196.5615,7.081611,2.6494768,14.64217,3.48272,330.10876,756.26996],\"type\":\"choropleth\"}],\"name\":\"2012\"},{\"data\":[{\"coloraxis\":\"coloraxis\",\"geo\":\"geo\",\"hovertemplate\":\"Year=2013\\u003cbr\\u003eEntity=%{location}\\u003cbr\\u003eBiofuels Production - TWh - Total=%{z}\\u003cextra\\u003e\\u003c\\u002fextra\\u003e\",\"locationmode\":\"country names\",\"locations\":[\"Africa (BP)\",\"Argentina\",\"Asia Pacific (BP)\",\"Australia\",\"Austria\",\"Belgium\",\"Brazil\",\"CIS (BP)\",\"Canada\",\"China\",\"Colombia\",\"Europe (BP)\",\"European Union (27)\",\"Finland\",\"France\",\"Germany\",\"India\",\"Indonesia\",\"Italy\",\"Mexico\",\"Middle East (BP)\",\"Netherlands\",\"Non-OECD (BP)\",\"North America (BP)\",\"OECD (BP)\",\"Poland\",\"Portugal\",\"South Korea\",\"South and Central America (BP)\",\"Spain\",\"Sweden\",\"Thailand\",\"United Kingdom\",\"United States\",\"World\"],\"name\":\"\",\"z\":[1.2936754,23.838686,98.085884,2.845892,4.2805,5.10835,185.37614,0.2642092,11.477615,26.360819,7.5372925,145.46101,138.17911,3.844533,28.553371,35.74399,2.8032334,25.659632,5.3124213,0.0,0.16552618,17.213945,308.51047,356.02264,513.6079,8.021459,3.1913302,4.292412,220.82544,8.566667,2.646395,18.71267,5.859822,344.545,822.1184],\"type\":\"choropleth\"}],\"name\":\"2013\"},{\"data\":[{\"coloraxis\":\"coloraxis\",\"geo\":\"geo\",\"hovertemplate\":\"Year=2014\\u003cbr\\u003eEntity=%{location}\\u003cbr\\u003eBiofuels Production - TWh - Total=%{z}\\u003cextra\\u003e\\u003c\\u002fextra\\u003e\",\"locationmode\":\"country names\",\"locations\":[\"Africa (BP)\",\"Argentina\",\"Asia Pacific (BP)\",\"Australia\",\"Austria\",\"Belgium\",\"Brazil\",\"CIS (BP)\",\"Canada\",\"China\",\"Colombia\",\"Europe (BP)\",\"European Union (27)\",\"Finland\",\"France\",\"Germany\",\"India\",\"Indonesia\",\"Italy\",\"Mexico\",\"Middle East (BP)\",\"Netherlands\",\"Non-OECD (BP)\",\"North America (BP)\",\"OECD (BP)\",\"Poland\",\"Portugal\",\"South Korea\",\"South and Central America (BP)\",\"Spain\",\"Sweden\",\"Thailand\",\"United Kingdom\",\"United States\",\"World\"],\"name\":\"\",\"z\":[1.5134399,30.584423,118.49936,2.989948,3.7563334,6.6881804,195.19594,0.2768865,13.4386215,29.27855,7.8369017,158.74876,153.11957,4.2955194,28.88099,39.94682,3.0561516,36.324234,5.963248,0.0,0.17734952,20.73037,345.69614,378.02682,549.7432,8.657343,3.503142,4.5089393,238.19676,11.827222,2.6483138,20.92237,4.529478,364.5882,895.4394],\"type\":\"choropleth\"}],\"name\":\"2014\"},{\"data\":[{\"coloraxis\":\"coloraxis\",\"geo\":\"geo\",\"hovertemplate\":\"Year=2015\\u003cbr\\u003eEntity=%{location}\\u003cbr\\u003eBiofuels Production - TWh - Total=%{z}\\u003cextra\\u003e\\u003c\\u002fextra\\u003e\",\"locationmode\":\"country names\",\"locations\":[\"Africa (BP)\",\"Argentina\",\"Asia Pacific (BP)\",\"Australia\",\"Austria\",\"Belgium\",\"Brazil\",\"CIS (BP)\",\"Canada\",\"China\",\"Colombia\",\"Europe (BP)\",\"European Union (27)\",\"Finland\",\"France\",\"Germany\",\"India\",\"Indonesia\",\"Italy\",\"Mexico\",\"Middle East (BP)\",\"Netherlands\",\"Non-OECD (BP)\",\"North America (BP)\",\"OECD (BP)\",\"Poland\",\"Portugal\",\"South Korea\",\"South and Central America (BP)\",\"Spain\",\"Sweden\",\"Thailand\",\"United Kingdom\",\"United States\",\"World\"],\"name\":\"\",\"z\":[1.7531116,23.461845,98.61999,2.6403356,4.356,4.4912734,209.42525,0.21853423,12.837873,24.932436,8.024199,161.1892,156.19655,5.011313,30.707294,36.827896,6.019033,14.81855,6.0315504,0.0,0.18917254,22.236095,333.18622,387.9511,562.31067,9.3839445,3.729485,5.1328425,245.57578,12.883056,2.544423,22.57383,3.5043516,375.11325,895.4969],\"type\":\"choropleth\"}],\"name\":\"2015\"},{\"data\":[{\"coloraxis\":\"coloraxis\",\"geo\":\"geo\",\"hovertemplate\":\"Year=2016\\u003cbr\\u003eEntity=%{location}\\u003cbr\\u003eBiofuels Production - TWh - Total=%{z}\\u003cextra\\u003e\\u003c\\u002fextra\\u003e\",\"locationmode\":\"country names\",\"locations\":[\"Africa (BP)\",\"Argentina\",\"Asia Pacific (BP)\",\"Australia\",\"Austria\",\"Belgium\",\"Brazil\",\"CIS (BP)\",\"Canada\",\"China\",\"Colombia\",\"Europe (BP)\",\"European Union (27)\",\"Finland\",\"France\",\"Germany\",\"India\",\"Indonesia\",\"Italy\",\"Mexico\",\"Middle East (BP)\",\"Netherlands\",\"Non-OECD (BP)\",\"North America (BP)\",\"OECD (BP)\",\"Poland\",\"Portugal\",\"South Korea\",\"South and Central America (BP)\",\"Spain\",\"Sweden\",\"Thailand\",\"United Kingdom\",\"United States\",\"World\"],\"name\":\"\",\"z\":[1.7627658,32.768284,112.54859,1.4622647,4.8046665,4.3256507,197.13771,0.20443296,13.888556,23.978706,7.8060017,156.77554,148.46625,1.2871335,28.094324,37.246746,7.3420486,33.429016,6.093992,0.0,0.17783542,17.631695,346.83438,413.1226,581.39667,10.681111,3.4632163,5.15045,243.63928,13.852011,2.4066656,20.25946,6.3051696,399.23404,928.231],\"type\":\"choropleth\"}],\"name\":\"2016\"},{\"data\":[{\"coloraxis\":\"coloraxis\",\"geo\":\"geo\",\"hovertemplate\":\"Year=2017\\u003cbr\\u003eEntity=%{location}\\u003cbr\\u003eBiofuels Production - TWh - Total=%{z}\\u003cextra\\u003e\\u003c\\u002fextra\\u003e\",\"locationmode\":\"country names\",\"locations\":[\"Africa (BP)\",\"Argentina\",\"Asia Pacific (BP)\",\"Australia\",\"Austria\",\"Belgium\",\"Brazil\",\"CIS (BP)\",\"Canada\",\"China\",\"Colombia\",\"Europe (BP)\",\"European Union (27)\",\"Finland\",\"France\",\"Germany\",\"India\",\"Indonesia\",\"Italy\",\"Mexico\",\"Middle East (BP)\",\"Netherlands\",\"Non-OECD (BP)\",\"North America (BP)\",\"OECD (BP)\",\"Poland\",\"Portugal\",\"South Korea\",\"South and Central America (BP)\",\"Spain\",\"Sweden\",\"Thailand\",\"United Kingdom\",\"United States\",\"World\"],\"name\":\"\",\"z\":[1.2300222,36.23187,115.80142,1.2355341,4.4729443,5.181677,198.33238,0.2012415,13.8,29.046839,7.153719,177.29817,165.88875,3.6252928,27.349375,38.017643,6.7121634,31.23455,7.311641,0.0,0.17734952,22.954887,354.91745,425.7172,613.21405,10.640031,3.6766036,4.978256,247.70607,21.54365,2.1583188,22.43427,8.639752,411.9172,968.1315],\"type\":\"choropleth\"}],\"name\":\"2017\"},{\"data\":[{\"coloraxis\":\"coloraxis\",\"geo\":\"geo\",\"hovertemplate\":\"Year=2018\\u003cbr\\u003eEntity=%{location}\\u003cbr\\u003eBiofuels Production - TWh - Total=%{z}\\u003cextra\\u003e\\u003c\\u002fextra\\u003e\",\"locationmode\":\"country names\",\"locations\":[\"Africa (BP)\",\"Argentina\",\"Asia Pacific (BP)\",\"Australia\",\"Austria\",\"Belgium\",\"Brazil\",\"CIS (BP)\",\"Canada\",\"China\",\"Colombia\",\"Europe (BP)\",\"European Union (27)\",\"Finland\",\"France\",\"Germany\",\"India\",\"Indonesia\",\"Italy\",\"Mexico\",\"Middle East (BP)\",\"Netherlands\",\"Non-OECD (BP)\",\"North America (BP)\",\"OECD (BP)\",\"Poland\",\"Portugal\",\"South Korea\",\"South and Central America (BP)\",\"Spain\",\"Sweden\",\"Thailand\",\"United Kingdom\",\"United States\",\"World\"],\"name\":\"\",\"z\":[1.4472462,31.703428,152.95209,1.5035335,4.412322,4.9355044,238.32605,0.14124116,13.919111,28.014196,8.93695,188.44675,177.43877,3.3016832,31.01172,39.05974,11.499806,56.397747,7.8877335,0.0,0.17734952,22.21222,425.4705,438.3592,641.7145,10.500066,3.8038125,7.9460115,285.6611,25.122383,4.238693,24.55093,7.972656,424.44006,1067.1849],\"type\":\"choropleth\"}],\"name\":\"2018\"},{\"data\":[{\"coloraxis\":\"coloraxis\",\"geo\":\"geo\",\"hovertemplate\":\"Year=2019\\u003cbr\\u003eEntity=%{location}\\u003cbr\\u003eBiofuels Production - TWh - Total=%{z}\\u003cextra\\u003e\\u003c\\u002fextra\\u003e\",\"locationmode\":\"country names\",\"locations\":[\"Africa (BP)\",\"Argentina\",\"Asia Pacific (BP)\",\"Australia\",\"Austria\",\"Belgium\",\"Brazil\",\"CIS (BP)\",\"Canada\",\"China\",\"Colombia\",\"Europe (BP)\",\"European Union (27)\",\"Finland\",\"France\",\"Germany\",\"India\",\"Indonesia\",\"Italy\",\"Mexico\",\"Middle East (BP)\",\"Netherlands\",\"Non-OECD (BP)\",\"North America (BP)\",\"OECD (BP)\",\"Poland\",\"Portugal\",\"South Korea\",\"South and Central America (BP)\",\"Spain\",\"Sweden\",\"Thailand\",\"United Kingdom\",\"United States\",\"World\"],\"name\":\"\",\"z\":[1.4500226,28.55003,193.86732,1.7374654,4.4228,5.2234054,254.90166,0.16124128,14.796906,33.9185,7.9765263,192.03827,181.67842,3.9501984,28.762793,40.795673,12.969542,76.79713,9.075994,0.0,0.17734952,23.55426,481.7521,427.61838,632.7362,11.371845,4.111519,8.137662,299.17575,24.21578,5.001016,27.45843,6.818681,412.82147,1114.4883],\"type\":\"choropleth\"}],\"name\":\"2019\"},{\"data\":[{\"coloraxis\":\"coloraxis\",\"geo\":\"geo\",\"hovertemplate\":\"Year=2020\\u003cbr\\u003eEntity=%{location}\\u003cbr\\u003eBiofuels Production - TWh - Total=%{z}\\u003cextra\\u003e\\u003c\\u002fextra\\u003e\",\"locationmode\":\"country names\",\"locations\":[\"Africa (BP)\",\"Argentina\",\"Asia Pacific (BP)\",\"Australia\",\"Austria\",\"Belgium\",\"Brazil\",\"CIS (BP)\",\"Canada\",\"China\",\"Colombia\",\"Europe (BP)\",\"European Union (27)\",\"Finland\",\"France\",\"Germany\",\"India\",\"Indonesia\",\"Italy\",\"Mexico\",\"Middle East (BP)\",\"Netherlands\",\"Non-OECD (BP)\",\"North America (BP)\",\"OECD (BP)\",\"Poland\",\"Portugal\",\"South Korea\",\"South and Central America (BP)\",\"Spain\",\"Sweden\",\"Thailand\",\"United Kingdom\",\"United States\",\"World\"],\"name\":\"\",\"z\":[1.4330739,16.743961,192.5514,1.4563833,4.5772223,5.4118114,245.11325,0.16124128,13.639054,35.785557,7.4975457,187.31323,177.97523,3.5324442,26.882746,39.174717,14.492524,78.586044,12.99235,0.0,0.17783542,23.334732,459.27835,388.22733,587.36597,11.306277,3.4916983,8.0241995,276.7802,20.759722,4.891601,27.65614,6.4753766,374.58826,1046.6443],\"type\":\"choropleth\"}],\"name\":\"2020\"},{\"data\":[{\"coloraxis\":\"coloraxis\",\"geo\":\"geo\",\"hovertemplate\":\"Year=2021\\u003cbr\\u003eEntity=%{location}\\u003cbr\\u003eBiofuels Production - TWh - Total=%{z}\\u003cextra\\u003e\\u003c\\u002fextra\\u003e\",\"locationmode\":\"country names\",\"locations\":[\"Africa (BP)\",\"Argentina\",\"Asia Pacific (BP)\",\"Australia\",\"Austria\",\"Belgium\",\"Brazil\",\"CIS (BP)\",\"Canada\",\"China\",\"Colombia\",\"Europe (BP)\",\"European Union (27)\",\"Finland\",\"France\",\"Germany\",\"India\",\"Indonesia\",\"Italy\",\"Mexico\",\"Middle East (BP)\",\"Netherlands\",\"Non-OECD (BP)\",\"North America (BP)\",\"OECD (BP)\",\"Poland\",\"Portugal\",\"South Korea\",\"South and Central America (BP)\",\"Spain\",\"Sweden\",\"Thailand\",\"United Kingdom\",\"United States\",\"World\"],\"name\":\"\",\"z\":[1.4358858,23.779903,209.64064,1.3404936,4.82245,5.3970246,233.18593,0.16080073,13.440441,39.64496,8.00661,187.36493,178.05312,3.3617778,29.719494,33.663513,23.029203,86.639626,12.720147,0.0,0.17734952,23.511585,471.63907,412.28738,611.9681,12.020443,3.3810525,9.013269,272.54016,19.984388,7.1293397,24.957928,6.313379,398.84695,1083.6072],\"type\":\"choropleth\"}],\"name\":\"2021\"}]);\n",
              "                        }).then(function(){\n",
              "                            \n",
              "var gd = document.getElementById('791daa55-c6b5-432f-8194-e2b8bd924ca9');\n",
              "var x = new MutationObserver(function (mutations, observer) {{\n",
              "        var display = window.getComputedStyle(gd).display;\n",
              "        if (!display || display === 'none') {{\n",
              "            console.log([gd, 'removed!']);\n",
              "            Plotly.purge(gd);\n",
              "            observer.disconnect();\n",
              "        }}\n",
              "}});\n",
              "\n",
              "// Listen for the removal of the full notebook cells\n",
              "var notebookContainer = gd.closest('#notebook-container');\n",
              "if (notebookContainer) {{\n",
              "    x.observe(notebookContainer, {childList: true});\n",
              "}}\n",
              "\n",
              "// Listen for the clearing of the current output cell\n",
              "var outputEl = gd.closest('.output');\n",
              "if (outputEl) {{\n",
              "    x.observe(outputEl, {childList: true});\n",
              "}}\n",
              "\n",
              "                        })                };                            </script>        </div>\n",
              "</body>\n",
              "</html>"
            ]
          },
          "metadata": {}
        }
      ]
    },
    {
      "cell_type": "markdown",
      "source": [
        "O mapa coroplético animado oferece uma perspectiva global sobre a produção de biocombustíveis, com cada quadro representando dados de um ano. O gradiente de cores de azul claro a azul escuro ilustra a gama de volumes de produção, permitindo uma compreensão intuitiva das contribuições regionais para o mercado de biocombustíveis. Esta ferramenta visual comunica efetivamente o crescimento e a disseminação da produção de biocombustíveis entre os países, destacando o papel crescente das fontes de energia sustentáveis ​​em todo o mundo.\n",
        "\n",
        "\n",
        "---\n",
        "\n"
      ],
      "metadata": {
        "id": "M77ZJbtUOAGm"
      }
    },
    {
      "cell_type": "markdown",
      "source": [
        "**<h1> Conclusão:<h1>**\n",
        "\n",
        "Aprofundar-se no conjunto de dados de produção de biocombustíveis revela a história em desenvolvimento da bioenergia como um elemento essencial na matriz de energia renovável. Os dados registram uma jornada de progresso, destacando o papel essencial dos biocombustíveis no aprimoramento da diversidade e sustentabilidade energética. O crescimento evidente na produção de biocombustíveis em várias regiões reflete o avanço global em direção à redução da dependência de combustíveis fósseis e à mitigação dos impactos das mudanças climáticas.\n",
        "\n",
        "Esta viagem analítica se estende além dos números, retratando um esforço coletivo para promover uma transição energética sustentável. Os insights obtidos enfatizam a importância de políticas de apoio, inovação em tecnologia de biocombustíveis e colaborações transfronteiriças. Estando na vanguarda do movimento da bioenergia, este conjunto de dados não apenas encapsula tendências históricas, mas também projeta um futuro em que os biocombustíveis ocupam um lugar significativo na busca global por fontes de energia limpas e renováveis, incitando todas as partes interessadas a explorar e investir ainda mais no potencial dos biocombustíveis para um mundo sustentável."
      ],
      "metadata": {
        "id": "lBpG41G3OQwt"
      }
    }
  ]
}